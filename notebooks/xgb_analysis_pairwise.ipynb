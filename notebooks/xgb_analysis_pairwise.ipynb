{
 "cells": [
  {
   "cell_type": "markdown",
   "metadata": {
    "_cell_guid": "9c355c2c-044d-2b87-e1cf-a6732fb9e802"
   },
   "source": [
    "# Identifying Duplicate Questions\n",
    "\n",
    "Welcome to the Quora Question Pairs competition! Here, our goal is to identify which questions asked on [Quora](https://www.quora.com/), a quasi-forum website with over 100 million visitors a month, are duplicates of questions that have already been asked. This could be useful, for example, to instantly provide answers to questions that have already been answered. We are tasked with predicting whether a pair of questions are duplicates or not, and submitting a binary prediction against the logloss metric.\n",
    "\n",
    "If you have any questions or want to discuss competitions/hardware/games/anything with other Kagglers, then join the KaggleNoobs Slack channel [here](https://goo.gl/gGWFXe). We also have regular AMAs with top Kagglers there.\n",
    "\n",
    "**And as always, if this helped you, some upvotes would be very much appreciated - that's where I get my motivation! :D**\n",
    "\n",
    "Let's dive right into the data!"
   ]
  },
  {
   "cell_type": "code",
   "execution_count": 1,
   "metadata": {
    "_cell_guid": "d9f5b5bf-b8a8-a88a-a16c-7666be39bd7e"
   },
   "outputs": [],
   "source": [
    "import numpy as np # linear algebra\n",
    "import pandas as pd # data processing, CSV file I/O (e.g. pd.read_csv)\n",
    "import os\n",
    "import gc\n",
    "import matplotlib.pyplot as plt\n",
    "import seaborn as sns\n",
    "%matplotlib inline\n",
    "\n",
    "pal = sns.color_palette()\n",
    "\n",
    "# print('# File sizes')\n",
    "# for f in os.listdir('../input'):\n",
    "#     if 'zip' not in f:\n",
    "#         print(f.ljust(30) + str(round(os.path.getsize('../input/' + f) / 1000000, 2)) + 'MB')"
   ]
  },
  {
   "cell_type": "markdown",
   "metadata": {
    "_cell_guid": "e9b03ade-149a-7d6a-d954-2db4ebb7806f"
   },
   "source": [
    "Looks like we are simply given two files this time round, one for the training set and one for the test set. They are relatively small compared to other recent competitions, weighing in at less than 400MB total.\n",
    "\n",
    "It's worth noting that there is a lot more testing data than training data. This could be a sign that some of the test data is dummy data designed to deter hand-labelling, and not included in the calculations, like we recently saw in the [DSTL competition](https://www.kaggle.com/c/dstl-satellite-imagery-feature-detection/leaderboard).\n",
    "\n",
    "Let's open up one of the datasets.\n",
    "\n",
    "## Training set"
   ]
  },
  {
   "cell_type": "code",
   "execution_count": 3,
   "metadata": {
    "_cell_guid": "0ac4cab6-214b-957b-bb2a-01f7e8d5ed2b"
   },
   "outputs": [
    {
     "data": {
      "text/html": [
       "<div>\n",
       "<style scoped>\n",
       "    .dataframe tbody tr th:only-of-type {\n",
       "        vertical-align: middle;\n",
       "    }\n",
       "\n",
       "    .dataframe tbody tr th {\n",
       "        vertical-align: top;\n",
       "    }\n",
       "\n",
       "    .dataframe thead th {\n",
       "        text-align: right;\n",
       "    }\n",
       "</style>\n",
       "<table border=\"1\" class=\"dataframe\">\n",
       "  <thead>\n",
       "    <tr style=\"text-align: right;\">\n",
       "      <th></th>\n",
       "      <th>id</th>\n",
       "      <th>qid1</th>\n",
       "      <th>qid2</th>\n",
       "      <th>question1</th>\n",
       "      <th>question2</th>\n",
       "      <th>is_duplicate</th>\n",
       "    </tr>\n",
       "  </thead>\n",
       "  <tbody>\n",
       "    <tr>\n",
       "      <th>0</th>\n",
       "      <td>1</td>\n",
       "      <td>16020</td>\n",
       "      <td>16025</td>\n",
       "      <td>Equivalent statements of the Axiom of Choice. ...</td>\n",
       "      <td>Assume the first form. Let I be any set and le...</td>\n",
       "      <td>0</td>\n",
       "    </tr>\n",
       "    <tr>\n",
       "      <th>1</th>\n",
       "      <td>2</td>\n",
       "      <td>16020</td>\n",
       "      <td>697264</td>\n",
       "      <td>Equivalent statements of the Axiom of Choice. ...</td>\n",
       "      <td>I know two equivalent definitions for an onto ...</td>\n",
       "      <td>0</td>\n",
       "    </tr>\n",
       "    <tr>\n",
       "      <th>2</th>\n",
       "      <td>3</td>\n",
       "      <td>16020</td>\n",
       "      <td>2645743</td>\n",
       "      <td>Equivalent statements of the Axiom of Choice. ...</td>\n",
       "      <td>This is part of the all-important Corresponden...</td>\n",
       "      <td>0</td>\n",
       "    </tr>\n",
       "    <tr>\n",
       "      <th>3</th>\n",
       "      <td>4</td>\n",
       "      <td>16020</td>\n",
       "      <td>2875568</td>\n",
       "      <td>Equivalent statements of the Axiom of Choice. ...</td>\n",
       "      <td>I am going to answer my own question. I had a ...</td>\n",
       "      <td>0</td>\n",
       "    </tr>\n",
       "    <tr>\n",
       "      <th>4</th>\n",
       "      <td>5</td>\n",
       "      <td>16020</td>\n",
       "      <td>1650515</td>\n",
       "      <td>Equivalent statements of the Axiom of Choice. ...</td>\n",
       "      <td>More informally, elements of the free semigrou...</td>\n",
       "      <td>0</td>\n",
       "    </tr>\n",
       "  </tbody>\n",
       "</table>\n",
       "</div>"
      ],
      "text/plain": [
       "   id   qid1     qid2                                          question1  \\\n",
       "0   1  16020    16025  Equivalent statements of the Axiom of Choice. ...   \n",
       "1   2  16020   697264  Equivalent statements of the Axiom of Choice. ...   \n",
       "2   3  16020  2645743  Equivalent statements of the Axiom of Choice. ...   \n",
       "3   4  16020  2875568  Equivalent statements of the Axiom of Choice. ...   \n",
       "4   5  16020  1650515  Equivalent statements of the Axiom of Choice. ...   \n",
       "\n",
       "                                           question2  is_duplicate  \n",
       "0  Assume the first form. Let I be any set and le...             0  \n",
       "1  I know two equivalent definitions for an onto ...             0  \n",
       "2  This is part of the all-important Corresponden...             0  \n",
       "3  I am going to answer my own question. I had a ...             0  \n",
       "4  More informally, elements of the free semigrou...             0  "
      ]
     },
     "execution_count": 3,
     "metadata": {},
     "output_type": "execute_result"
    }
   ],
   "source": [
    "df_train = pd.read_csv('armath.tsv',sep='\\t')\n",
    "df_train.head()"
   ]
  },
  {
   "cell_type": "markdown",
   "metadata": {
    "_cell_guid": "a90218ce-edfc-e4bb-92cd-e49d09c0615c"
   },
   "source": [
    "We are given a minimal number of data fields here, consisting of:\n",
    "\n",
    "**`id`:** Looks like a simple rowID    \n",
    "**`qid{1, 2}`:** The unique ID of each question in the pair    \n",
    "**`question{1, 2}`:** The actual textual contents of the questions.    \n",
    "**`is_duplicate`:** The **label** that we are trying to predict - whether the two questions are duplicates of each other."
   ]
  },
  {
   "cell_type": "code",
   "execution_count": 4,
   "metadata": {
    "_cell_guid": "68e0a285-995b-ecb2-fde7-3486c982912b"
   },
   "outputs": [
    {
     "name": "stdout",
     "output_type": "stream",
     "text": [
      "Total number of question pairs for training: 42295\n",
      "Duplicate pairs: 9.09%\n",
      "Total number of questions in the training data: 42793\n",
      "Number of questions that appear multiple times: 6742\n",
      "\n"
     ]
    },
    {
     "data": {
      "image/png": "[encoded data removed]",
      "text/plain": [
       "<Figure size 864x360 with 1 Axes>"
      ]
     },
     "metadata": {
      "needs_background": "light"
     },
     "output_type": "display_data"
    }
   ],
   "source": [
    "print('Total number of question pairs for training: {}'.format(len(df_train)))\n",
    "print('Duplicate pairs: {}%'.format(round(df_train['is_duplicate'].mean()*100, 2)))\n",
    "qids = pd.Series(df_train['qid1'].tolist() + df_train['qid2'].tolist())\n",
    "print('Total number of questions in the training data: {}'.format(len(\n",
    "    np.unique(qids))))\n",
    "print('Number of questions that appear multiple times: {}'.format(np.sum(qids.value_counts() > 1)))\n",
    "\n",
    "plt.figure(figsize=(12, 5))\n",
    "plt.hist(qids.value_counts(), bins=50)\n",
    "plt.yscale('log', nonposy='clip')\n",
    "plt.title('Log-Histogram of question appearance counts')\n",
    "plt.xlabel('Number of occurences of question')\n",
    "plt.ylabel('Number of questions')\n",
    "print()"
   ]
  },
  {
   "cell_type": "markdown",
   "metadata": {
    "_cell_guid": "f5144bde-9178-827c-6591-fc502323d5fa"
   },
   "source": [
    "In terms of questions, everything looks as I would expect here. Most questions only appear a few times, with very few questions appearing several times (and a few questions appearing many times). One question appears more than 160 times, but this is an outlier.\n",
    "\n",
    "We can see that we have a 37% positive class in this dataset. Since we are using the [LogLoss](https://www.kaggle.com/wiki/LogarithmicLoss) metric, and LogLoss looks at the actual predicts as opposed to the order of predictions, we should be able to get a decent score by creating a submission predicting the mean value of the label.\n"
   ]
  },
  {
   "cell_type": "markdown",
   "metadata": {
    "_cell_guid": "39f2c240-caa5-675b-3e6e-f9195808b392"
   },
   "source": [
    "\n",
    "## Text analysis\n",
    "\n",
    "First off, some quick histograms to understand what we're looking at. **Most analysis here will be only on the training set, to avoid the auto-generated questions**"
   ]
  },
  {
   "cell_type": "code",
   "execution_count": 9,
   "metadata": {
    "_cell_guid": "ba41ab36-b287-4c5d-4ec5-a2c28034baa7"
   },
   "outputs": [
    {
     "name": "stdout",
     "output_type": "stream",
     "text": [
      "mean-train 621.50 std-train 255.42  max-train 9878.00 \n"
     ]
    },
    {
     "data": {
      "image/png": "[encoded data removed]",
      "text/plain": [
       "<Figure size 1080x720 with 1 Axes>"
      ]
     },
     "metadata": {
      "needs_background": "light"
     },
     "output_type": "display_data"
    }
   ],
   "source": [
    "train_qs = pd.Series(df_train['question1'].tolist() + df_train['question2'].tolist()).astype(str)\n",
    "# test_qs = pd.Series(df_test['question1'].tolist() + df_test['question2'].tolist()).astype(str)\n",
    "\n",
    "dist_train = train_qs.apply(len)\n",
    "# dist_test = test_qs.apply(len)\n",
    "plt.figure(figsize=(15, 10))\n",
    "plt.hist(dist_train, bins=1000, range=[0, 1000], color=pal[2], label='train')\n",
    "# plt.hist(dist_test, bins=200, range=[0, 200], color=pal[1], normed=True, alpha=0.5, label='test')\n",
    "plt.title('Normalised histogram of character count in questions', fontsize=15)\n",
    "plt.legend()\n",
    "plt.xlabel('Number of characters', fontsize=15)\n",
    "plt.ylabel('Probability', fontsize=15)\n",
    "\n",
    "print('mean-train {:.2f} std-train {:.2f}  max-train {:.2f} '.format(dist_train.mean(), \n",
    "                          dist_train.std(), dist_train.max()))"
   ]
  },
  {
   "cell_type": "markdown",
   "metadata": {
    "_cell_guid": "0ed063c0-9d5c-bc09-9c48-22ff739859bd"
   },
   "source": [
    "We can see that most questions have anywhere from 15 to 150 characters in them. It seems that the test distribution is a little different from the train one, but not too much so (I can't tell if it is just the larger data reducing noise, but it also seems like the distribution is a lot smoother in the test set).\n",
    "\n",
    "One thing that catches my eye is the steep cut-off at 150 characters for the training set, for most questions, while the test set slowly decreases after 150. Could this be some sort of Quora question size limit?\n",
    "\n",
    "It's also worth noting that I've truncated this histogram at 200 characters, and that the max of the distribution is at just under 1200 characters for both sets - although samples with over 200 characters are very rare.\n",
    "\n",
    "Let's do the same for word count. I'll be using a naive method for splitting words (splitting on spaces instead of using a serious tokenizer), although this should still give us a good idea of the distribution."
   ]
  },
  {
   "cell_type": "code",
   "execution_count": 17,
   "metadata": {
    "_cell_guid": "2a86bc3f-1359-ef11-4411-ec5b54c6dca5"
   },
   "outputs": [
    {
     "name": "stdout",
     "output_type": "stream",
     "text": [
      "mean-train 102.15 std-train 35.15  max-train 809.00 \n"
     ]
    },
    {
     "data": {
      "image/png": "[encoded data removed]",
      "text/plain": [
       "<Figure size 1080x720 with 1 Axes>"
      ]
     },
     "metadata": {
      "needs_background": "light"
     },
     "output_type": "display_data"
    }
   ],
   "source": [
    "dist_train = train_qs.apply(lambda x: len(x.split(' ')))\n",
    "\n",
    "\n",
    "plt.figure(figsize=(15, 10))\n",
    "plt.hist(dist_train, bins=100, range=[0, 120], color=pal[2], label='train')\n",
    "\n",
    "plt.title('Normalised histogram of word count in questions', fontsize=15)\n",
    "plt.legend()\n",
    "plt.xlabel('Number of words', fontsize=15)\n",
    "plt.ylabel('Probability', fontsize=15)\n",
    "\n",
    "print('mean-train {:.2f} std-train {:.2f}  max-train {:.2f} '.format(dist_train.mean(), \n",
    "                          dist_train.std(), dist_train.max()))"
   ]
  },
  {
   "cell_type": "markdown",
   "metadata": {
    "_cell_guid": "f7eb07e3-fe48-c4ca-359e-71e5c7a1a4b3"
   },
   "source": [
    "We see a similar distribution for word count, with most questions being about 10 words long. It looks to me like the distribution of the training set seems more \"pointy\", while on the test set it is wider. Nevertheless, they are quite similar.\n",
    "\n",
    "So what are the most common words? Let's take a look at a word cloud."
   ]
  },
  {
   "cell_type": "markdown",
   "metadata": {
    "_cell_guid": "e486c424-b529-e366-b455-77ee0df3aa84"
   },
   "source": [
    "## Semantic Analysis\n",
    "\n",
    "Next, I will take a look at usage of different punctuation in questions - this may form a basis for some interesting features later on."
   ]
  },
  {
   "cell_type": "code",
   "execution_count": 10,
   "metadata": {
    "_cell_guid": "371a1e30-e5cd-7a24-97d7-b505b5aefb78"
   },
   "outputs": [
    {
     "name": "stdout",
     "output_type": "stream",
     "text": [
      "Questions with question marks: 99.87%\n",
      "Questions with [math] tags: 0.12%\n",
      "Questions with full stops: 6.31%\n",
      "Questions with capitalised first letters: 99.81%\n",
      "Questions with capital letters: 99.95%\n",
      "Questions with numbers: 11.83%\n"
     ]
    }
   ],
   "source": [
    "qmarks = np.mean(train_qs.apply(lambda x: '?' in x))\n",
    "math = np.mean(train_qs.apply(lambda x: '[math]' in x))\n",
    "fullstop = np.mean(train_qs.apply(lambda x: '.' in x))\n",
    "capital_first = np.mean(train_qs.apply(lambda x: x[0].isupper()))\n",
    "capitals = np.mean(train_qs.apply(lambda x: max([y.isupper() for y in x])))\n",
    "numbers = np.mean(train_qs.apply(lambda x: max([y.isdigit() for y in x])))\n",
    "\n",
    "print('Questions with question marks: {:.2f}%'.format(qmarks * 100))\n",
    "print('Questions with [math] tags: {:.2f}%'.format(math * 100))\n",
    "print('Questions with full stops: {:.2f}%'.format(fullstop * 100))\n",
    "print('Questions with capitalised first letters: {:.2f}%'.format(capital_first * 100))\n",
    "print('Questions with capital letters: {:.2f}%'.format(capitals * 100))\n",
    "print('Questions with numbers: {:.2f}%'.format(numbers * 100))"
   ]
  },
  {
   "cell_type": "markdown",
   "metadata": {
    "_cell_guid": "656b602a-e321-6ee4-682a-e76959bccc19"
   },
   "source": [
    "# Initial Feature Analysis\n",
    "\n",
    "Before we create a model, we should take a look at how powerful some features are. I will start off with the word share feature from the benchmark model."
   ]
  },
  {
   "cell_type": "code",
   "execution_count": 19,
   "metadata": {
    "_cell_guid": "ef13480a-2522-2d1f-cf8a-56670e0856ab"
   },
   "outputs": [
    {
     "data": {
      "text/plain": [
       "Text(0.5, 0, 'word_match_share')"
      ]
     },
     "execution_count": 19,
     "metadata": {},
     "output_type": "execute_result"
    },
    {
     "data": {
      "image/png": "[encoded data removed]",
      "text/plain": [
       "<Figure size 1080x576 with 1 Axes>"
      ]
     },
     "metadata": {
      "needs_background": "light"
     },
     "output_type": "display_data"
    }
   ],
   "source": [
    "from nltk.corpus import stopwords\n",
    "\n",
    "stops = set(stopwords.words(\"english\"))\n",
    "\n",
    "def word_match_share(row):\n",
    "    q1words = {}\n",
    "    q2words = {}\n",
    "    for word in str(row['question1']).lower().split():\n",
    "        if word not in stops:\n",
    "            q1words[word] = 1\n",
    "    for word in str(row['question2']).lower().split():\n",
    "        if word not in stops:\n",
    "            q2words[word] = 1\n",
    "    if len(q1words) == 0 or len(q2words) == 0:\n",
    "        # The computer-generated chaff includes a few questions that are nothing but stopwords\n",
    "        return 0\n",
    "    shared_words_in_q1 = [w for w in q1words.keys() if w in q2words]\n",
    "    shared_words_in_q2 = [w for w in q2words.keys() if w in q1words]\n",
    "    R = (len(shared_words_in_q1) + len(shared_words_in_q2))/(len(q1words) + len(q2words))\n",
    "    return R\n",
    "\n",
    "plt.figure(figsize=(15, 8))\n",
    "train_word_match = df_train.apply(word_match_share, axis=1, raw=True)\n",
    "plt.hist(train_word_match[df_train['is_duplicate'] == 0], bins=20,  label='Not Duplicate')\n",
    "plt.hist(train_word_match[df_train['is_duplicate'] == 1], bins=20,  alpha=0.7, label='Duplicate')\n",
    "plt.legend()\n",
    "plt.title('Label distribution over word_match_share', fontsize=15)\n",
    "plt.xlabel('word_match_share', fontsize=15)"
   ]
  },
  {
   "cell_type": "markdown",
   "metadata": {
    "_cell_guid": "24ce20d7-2c37-9833-dfdb-b4aac6b37e96"
   },
   "source": [
    "Here we can see that this feature has quite a lot of predictive power, as it is good at separating the duplicate questions from the non-duplicate ones. Interestingly, it seems very good at identifying questions which are definitely different, but is not so great at finding questions which are definitely duplicates.\n",
    "\n",
    "## TF-IDF\n",
    "\n",
    "I'm now going to try to improve this feature, by using something called TF-IDF (term-frequency-inverse-document-frequency). This means that we weigh the terms by how **uncommon** they are, meaning that we care more about rare words existing in both questions than common one. This makes sense, as for example we care more about whether the word \"exercise\" appears in both than the word \"and\" - as uncommon words will be more indicative of the content.\n",
    "\n",
    "You may want to look into using sklearn's [TfidfVectorizer](http://scikit-learn.org/stable/modules/generated/sklearn.feature_extraction.text.TfidfVectorizer.html) to compute weights if you are implementing this yourself, but as I am too lazy to read the documentation I will write a version in pure python with a few changes which I believe should help the score."
   ]
  },
  {
   "cell_type": "code",
   "execution_count": 20,
   "metadata": {
    "_cell_guid": "99d8e8e1-e2fd-25c6-137d-4492b850e1b5"
   },
   "outputs": [],
   "source": [
    "from collections import Counter\n",
    "\n",
    "# If a word appears only once, we ignore it completely (likely a typo)\n",
    "# Epsilon defines a smoothing constant, which makes the effect of extremely rare words smaller\n",
    "def get_weight(count, eps=10000, min_count=2):\n",
    "    if count < min_count:\n",
    "        return 0\n",
    "    else:\n",
    "        return 1 / (count + eps)\n",
    "\n",
    "eps = 5000 \n",
    "words = (\" \".join(train_qs)).lower().split()\n",
    "counts = Counter(words)\n",
    "weights = {word: get_weight(count) for word, count in counts.items()}"
   ]
  },
  {
   "cell_type": "code",
   "execution_count": 21,
   "metadata": {
    "_cell_guid": "d791c6b1-9860-7c3b-2b96-0767e607d6dc"
   },
   "outputs": [
    {
     "name": "stdout",
     "output_type": "stream",
     "text": [
      "Most common words and weights: \n",
      "\n",
      "[('the', 2.4869435463814973e-06), ('of', 4.209516031941808e-06), ('is', 4.223026474152967e-06), ('a', 4.4047430272917875e-06), ('to', 5.917930144752572e-06), ('and', 6.366628679115548e-06), ('that', 7.276961141027507e-06), ('i', 8.674155354122392e-06), ('in', 9.099595068019473e-06), ('=', 9.362857544122466e-06)]\n",
      "\n",
      "Least common words and weights: \n"
     ]
    },
    {
     "data": {
      "text/plain": [
       "[('h(i).', 9.998000399920016e-05),\n",
       " ('i,g(i)\\\\rangle\\\\in', 9.998000399920016e-05),\n",
       " ('all-important', 9.998000399920016e-05),\n",
       " ('i\\\\;', 9.998000399920016e-05),\n",
       " ('u\\\\setminus\\\\left\\\\{', 9.998000399920016e-05),\n",
       " ('\\\\varnothing\\\\right\\\\}', 9.998000399920016e-05),\n",
       " ('r^{-}\\\\left[m\\\\right]=\\\\varnothing,', 9.998000399920016e-05),\n",
       " ('r-first', 9.998000399920016e-05),\n",
       " ('r^{-}\\\\left[x\\\\right]:=\\\\left\\\\{', 9.998000399920016e-05),\n",
       " ('zrx\\\\right\\\\}', 9.998000399920016e-05)]"
      ]
     },
     "execution_count": 21,
     "metadata": {},
     "output_type": "execute_result"
    }
   ],
   "source": [
    "print('Most common words and weights: \\n')\n",
    "print(sorted(weights.items(), key=lambda x: x[1] if x[1] > 0 else 9999)[:10])\n",
    "print('\\nLeast common words and weights: ')\n",
    "(sorted(weights.items(), key=lambda x: x[1], reverse=True)[:10])"
   ]
  },
  {
   "cell_type": "code",
   "execution_count": 22,
   "metadata": {
    "_cell_guid": "2c8f2e86-f96b-5d36-e2f1-5f4c4c903e26"
   },
   "outputs": [],
   "source": [
    "def tfidf_word_match_share(row):\n",
    "    q1words = {}\n",
    "    q2words = {}\n",
    "    for word in str(row['question1']).lower().split():\n",
    "        if word not in stops:\n",
    "            q1words[word] = 1\n",
    "    for word in str(row['question2']).lower().split():\n",
    "        if word not in stops:\n",
    "            q2words[word] = 1\n",
    "    if len(q1words) == 0 or len(q2words) == 0:\n",
    "        # The computer-generated chaff includes a few questions that are nothing but stopwords\n",
    "        return 0\n",
    "    \n",
    "    shared_weights = [weights.get(w, 0) for w in q1words.keys() if w in q2words] + [weights.get(w, 0) for w in q2words.keys() if w in q1words]\n",
    "    total_weights = [weights.get(w, 0) for w in q1words] + [weights.get(w, 0) for w in q2words]\n",
    "    \n",
    "    R = np.sum(shared_weights) / np.sum(total_weights)\n",
    "    return R"
   ]
  },
  {
   "cell_type": "code",
   "execution_count": 26,
   "metadata": {
    "_cell_guid": "157fd891-0b63-22df-4129-e4267cb55ff0"
   },
   "outputs": [
    {
     "data": {
      "text/plain": [
       "Text(0.5, 0, 'word_match_share')"
      ]
     },
     "execution_count": 26,
     "metadata": {},
     "output_type": "execute_result"
    },
    {
     "data": {
      "image/png": "[encoded data removed]",
      "text/plain": [
       "<Figure size 1080x576 with 1 Axes>"
      ]
     },
     "metadata": {
      "needs_background": "light"
     },
     "output_type": "display_data"
    }
   ],
   "source": [
    "plt.figure(figsize=(15, 8))\n",
    "tfidf_train_word_match = df_train.apply(tfidf_word_match_share, axis=1, raw=True)\n",
    "plt.hist(tfidf_train_word_match[df_train['is_duplicate'] == 0].fillna(0), bins=20,  label='Not Duplicate')\n",
    "plt.hist(tfidf_train_word_match[df_train['is_duplicate'] == 1].fillna(0), bins=20,  alpha=0.7, label='Duplicate')\n",
    "plt.legend()\n",
    "plt.title('Label distribution over tfidf_word_match_share', fontsize=15)\n",
    "plt.xlabel('word_match_share', fontsize=15)"
   ]
  },
  {
   "cell_type": "code",
   "execution_count": 25,
   "metadata": {
    "_cell_guid": "f1814b89-b895-f442-0ba2-b4e2fc6b6288"
   },
   "outputs": [
    {
     "name": "stdout",
     "output_type": "stream",
     "text": [
      "Original AUC: 0.4947087176868276\n",
      "   TFIDF AUC: 0.495526083052484\n"
     ]
    }
   ],
   "source": [
    "from sklearn.metrics import roc_auc_score\n",
    "print('Original AUC:', roc_auc_score(df_train['is_duplicate'], train_word_match))\n",
    "print('   TFIDF AUC:', roc_auc_score(df_train['is_duplicate'], tfidf_train_word_match.fillna(0)))"
   ]
  },
  {
   "cell_type": "markdown",
   "metadata": {
    "_cell_guid": "28b46d9f-82fe-c37e-010c-a3e115687d41"
   },
   "source": [
    "So it looks like our TF-IDF actually got better in terms of overall AUC, which is a bit disappointing. (I am using the AUC metric since it is unaffected by scaling and similar, so it is a good metric for testing the predictive power of individual features.\n",
    "\n",
    "However, I still think that this feature should provide some extra information which is not provided by the original feature. Our next job is to combine these features and use it to make a prediction. For this, I will use our old friend XGBoost to make a classification model.\n",
    "\n",
    "## Rebalancing the Data\n",
    "However, before I do this, I would like to rebalance the data that XGBoost receives, since we have 37% positive class in our training data, and only 17% in the test data. By re-balancing the data so our training set has 17% positives, we can ensure that XGBoost outputs probabilities that will better match the data on the leaderboard, and should get a better score (since LogLoss looks at the probabilities themselves and not just the order of the predictions like AUC)"
   ]
  },
  {
   "cell_type": "code",
   "execution_count": 28,
   "metadata": {
    "_cell_guid": "0589da36-d092-c951-f3cd-68df3fd91c7a"
   },
   "outputs": [],
   "source": [
    "# First we create our training and testing data\n",
    "x_train = pd.DataFrame()\n",
    "# x_test = pd.DataFrame()\n",
    "x_train['word_match'] = train_word_match\n",
    "x_train['tfidf_word_match'] = tfidf_train_word_match\n",
    "# x_test['word_match'] = df_test.apply(word_match_share, axis=1, raw=True)\n",
    "# x_test['tfidf_word_match'] = df_test.apply(tfidf_word_match_share, axis=1, raw=True)\n",
    "\n",
    "y_train = df_train['is_duplicate'].values"
   ]
  },
  {
   "cell_type": "code",
   "execution_count": 18,
   "metadata": {
    "_cell_guid": "5ccae7db-46e1-cf74-fdd8-4d4758bf460f"
   },
   "outputs": [
    {
     "name": "stdout",
     "output_type": "stream",
     "text": [
      "0.19124366100096607\n"
     ]
    }
   ],
   "source": [
    "pos_train = x_train[y_train == 1]\n",
    "neg_train = x_train[y_train == 0]\n",
    "\n",
    "# Now we oversample the negative class\n",
    "# There is likely a much more elegant way to do this...\n",
    "p = 0.165\n",
    "scale = ((len(pos_train) / (len(pos_train) + len(neg_train))) / p) - 1\n",
    "while scale > 1:\n",
    "    neg_train = pd.concat([neg_train, neg_train])\n",
    "    scale -=1\n",
    "neg_train = pd.concat([neg_train, neg_train[:int(scale * len(neg_train))]])\n",
    "print(len(pos_train) / (len(pos_train) + len(neg_train)))\n",
    "\n",
    "x_train = pd.concat([pos_train, neg_train])\n",
    "y_train = (np.zeros(len(pos_train)) + 1).tolist() + np.zeros(len(neg_train)).tolist()\n",
    "del pos_train, neg_train"
   ]
  },
  {
   "cell_type": "code",
   "execution_count": 35,
   "metadata": {
    "_cell_guid": "20684b12-fd83-bad6-b00b-77c51dd14c32"
   },
   "outputs": [],
   "source": [
    "# Finally, we split some of the data off for validation\n",
    "from sklearn.model_selection import train_test_split\n",
    "\n",
    "x_train, x_valid, y_train, y_valid = train_test_split(x_train, y_train, test_size=0.2, random_state=4242)"
   ]
  },
  {
   "cell_type": "markdown",
   "metadata": {
    "_cell_guid": "9df47145-da6a-ad51-7bfb-1b588c4bab06"
   },
   "source": [
    "## XGBoost\n",
    "\n",
    "Now we can finally run XGBoost on our data, in order to see the score on the leaderboard!"
   ]
  },
  {
   "cell_type": "code",
   "execution_count": 37,
   "metadata": {
    "_cell_guid": "a5f9f7fc-5ec4-fc9f-7fc0-608f5f25e7c6"
   },
   "outputs": [
    {
     "name": "stdout",
     "output_type": "stream",
     "text": [
      "[0]\ttrain-logloss:0.67979\tvalid-logloss:0.67995\n",
      "Multiple eval metrics have been passed: 'valid-logloss' will be used for early stopping.\n",
      "\n",
      "Will train until valid-logloss hasn't improved in 50 rounds.\n",
      "[10]\ttrain-logloss:0.57115\tvalid-logloss:0.57280\n",
      "[20]\ttrain-logloss:0.49549\tvalid-logloss:0.49845\n",
      "[30]\ttrain-logloss:0.44147\tvalid-logloss:0.44560\n",
      "[40]\ttrain-logloss:0.40236\tvalid-logloss:0.40754\n",
      "[50]\ttrain-logloss:0.37383\tvalid-logloss:0.37996\n",
      "[60]\ttrain-logloss:0.35296\tvalid-logloss:0.35993\n",
      "[70]\ttrain-logloss:0.33770\tvalid-logloss:0.34545\n",
      "[80]\ttrain-logloss:0.32659\tvalid-logloss:0.33502\n",
      "[90]\ttrain-logloss:0.31851\tvalid-logloss:0.32758\n",
      "[100]\ttrain-logloss:0.31267\tvalid-logloss:0.32231\n",
      "[110]\ttrain-logloss:0.30847\tvalid-logloss:0.31862\n",
      "[120]\ttrain-logloss:0.30542\tvalid-logloss:0.31609\n",
      "[130]\ttrain-logloss:0.30316\tvalid-logloss:0.31439\n",
      "[140]\ttrain-logloss:0.30157\tvalid-logloss:0.31323\n",
      "[150]\ttrain-logloss:0.30043\tvalid-logloss:0.31244\n",
      "[160]\ttrain-logloss:0.29956\tvalid-logloss:0.31194\n",
      "[170]\ttrain-logloss:0.29885\tvalid-logloss:0.31170\n",
      "[180]\ttrain-logloss:0.29827\tvalid-logloss:0.31152\n",
      "[190]\ttrain-logloss:0.29780\tvalid-logloss:0.31143\n",
      "[200]\ttrain-logloss:0.29741\tvalid-logloss:0.31143\n",
      "[210]\ttrain-logloss:0.29712\tvalid-logloss:0.31146\n",
      "[220]\ttrain-logloss:0.29689\tvalid-logloss:0.31150\n",
      "[230]\ttrain-logloss:0.29668\tvalid-logloss:0.31153\n",
      "[240]\ttrain-logloss:0.29648\tvalid-logloss:0.31155\n",
      "Stopping. Best iteration:\n",
      "[192]\ttrain-logloss:0.29771\tvalid-logloss:0.31142\n",
      "\n"
     ]
    }
   ],
   "source": [
    "import xgboost as xgb\n",
    "\n",
    "# Set our parameters for xgboost\n",
    "params = {}\n",
    "params['objective'] = 'binary:logistic'\n",
    "params['eval_metric'] = 'logloss'\n",
    "params['eta'] = 0.02\n",
    "params['max_depth'] = 4\n",
    "\n",
    "d_train = xgb.DMatrix(x_train, label=y_train)\n",
    "d_valid = xgb.DMatrix(x_valid, label=y_valid)\n",
    "\n",
    "watchlist = [(d_train, 'train'), (d_valid, 'valid')]\n",
    "\n",
    "bst = xgb.train(params, d_train, 400, watchlist, early_stopping_rounds=50, verbose_eval=10)"
   ]
  },
  {
   "cell_type": "code",
   "execution_count": 21,
   "metadata": {
    "_cell_guid": "11616998-a057-45e0-ac3c-d129e5cfec36"
   },
   "outputs": [],
   "source": [
    "d_test = xgb.DMatrix(x_test)\n",
    "p_test = bst.predict(d_test)\n",
    "\n",
    "sub = pd.DataFrame()\n",
    "sub['test_id'] = df_test['test_id']\n",
    "sub['is_duplicate'] = p_test\n",
    "sub.to_csv('simple_xgb.csv', index=False)"
   ]
  },
  {
   "cell_type": "markdown",
   "metadata": {
    "_cell_guid": "4b74fd4a-5e89-27e1-5ddd-f170bc370697"
   },
   "source": [
    "**0.35460** on the leaderboard - a good first score!"
   ]
  }
 ],
 "metadata": {
  "_change_revision": 2,
  "_is_fork": false,
  "kernelspec": {
   "display_name": "Python 3",
   "language": "python",
   "name": "python3"
  },
  "language_info": {
   "codemirror_mode": {
    "name": "ipython",
    "version": 3
   },
   "file_extension": ".py",
   "mimetype": "text/x-python",
   "name": "python",
   "nbconvert_exporter": "python",
   "pygments_lexer": "ipython3",
   "version": "3.6.10"
  }
 },
 "nbformat": 4,
 "nbformat_minor": 4
}
