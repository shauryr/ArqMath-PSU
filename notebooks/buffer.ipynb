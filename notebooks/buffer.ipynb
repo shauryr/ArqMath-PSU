{
 "cells": [
  {
   "cell_type": "code",
   "execution_count": 34,
   "metadata": {},
   "outputs": [],
   "source": [
    "from elasticsearch import Elasticsearch\n",
    "from elasticsearch import helpers\n",
    "import uuid\n",
    "es = Elasticsearch(['http://localhost:9200/'], verify_certs=True)\n",
    "\n",
    "if not es.ping():\n",
    "    raise ValueError(\"Connection failed\")"
   ]
  },
  {
   "cell_type": "code",
   "execution_count": 38,
   "metadata": {},
   "outputs": [
    {
     "name": "stderr",
     "output_type": "stream",
     "text": [
      "1435643it [01:15, 18897.39it/s]\n"
     ]
    },
    {
     "data": {
      "text/plain": [
       "(1435643, [])"
      ]
     },
     "execution_count": 38,
     "metadata": {},
     "output_type": "execute_result"
    }
   ],
   "source": [
    "import jsonlines\n",
    "from tqdm import tqdm \n",
    "import re \n",
    "\n",
    "list_a = []\n",
    "\n",
    "root_path = \"/data/szr207/dataset/ArqMath/jsons/answers/\"\n",
    "\n",
    "with jsonlines.open(os.path.join(root_path,'all.ans.jsonl')) as reader:\n",
    "        for obj in tqdm(reader):\n",
    "            if obj['body']:\n",
    "                obj['body'] = re.sub('<[^<]+?>', '',  obj['body'])\n",
    "            dict_item = {\n",
    "                    \"_index\": \"answer_bulk_index\",\n",
    "                    \"_id\": uuid.uuid4(),\n",
    "                    \"_source\": obj }\n",
    "            list_a.append(dict_item)\n",
    "helpers.bulk(es, list_a)"
   ]
  },
  {
   "cell_type": "code",
   "execution_count": 39,
   "metadata": {},
   "outputs": [
    {
     "name": "stdout",
     "output_type": "stream",
     "text": [
      "[NbConvertApp] Converting notebook create_pairwise.ipynb to script\n",
      "[NbConvertApp] Writing 8281 bytes to create_pairwise.py\n"
     ]
    }
   ],
   "source": [
    "!jupyter nbconvert --to script create_pairwise.ipynb"
   ]
  },
  {
   "cell_type": "code",
   "execution_count": 1,
   "metadata": {},
   "outputs": [
    {
     "data": {
      "application/vnd.jupyter.widget-view+json": {
       "model_id": "1042632c5bb946bc821b37c244dc5b1d",
       "version_major": 2,
       "version_minor": 0
      },
      "text/plain": [
       "HBox(children=(FloatProgress(value=1.0, bar_style='info', max=1.0), HTML(value='')))"
      ]
     },
     "metadata": {},
     "output_type": "display_data"
    },
    {
     "name": "stdout",
     "output_type": "stream",
     "text": [
      "\n"
     ]
    },
    {
     "data": {
      "application/vnd.jupyter.widget-view+json": {
       "model_id": "d1a6f81d279e4371a05aa1e235fcac09",
       "version_major": 2,
       "version_minor": 0
      },
      "text/plain": [
       "HBox(children=(FloatProgress(value=1.0, bar_style='info', max=1.0), HTML(value='')))"
      ]
     },
     "metadata": {},
     "output_type": "display_data"
    },
    {
     "name": "stdout",
     "output_type": "stream",
     "text": [
      "\n"
     ]
    }
   ],
   "source": [
    "import re\n",
    "import jsonlines\n",
    "import re \n",
    "import os \n",
    "from tqdm.notebook import tqdm\n",
    "\n",
    "ans_path = '/data/szr207/dataset/ArqMath/jsons/answers/all.ans.jsonl'\n",
    "ques_path = '/data/szr207/dataset/ArqMath/jsons/questions/all.ques.jsonl'\n",
    "\n",
    "list_raw = []\n",
    "\n",
    "with jsonlines.open(os.path.join(ans_path)) as reader:\n",
    "        for obj in tqdm(reader):\n",
    "            list_raw.append(re.sub('<[^<]+?>', '',obj['body']))\n",
    "\n",
    "\n",
    "with jsonlines.open(os.path.join(ques_path)) as reader:\n",
    "        for obj in tqdm(reader):\n",
    "            list_raw.append(re.sub('<[^<]+?>', '',obj['title']+ ' ' +obj['body']))"
   ]
  },
  {
   "cell_type": "code",
   "execution_count": 26,
   "metadata": {},
   "outputs": [],
   "source": [
    "from nltk.tokenize import sent_tokenize, word_tokenize\n",
    "import operator\n",
    "from functools import reduce\n",
    "\n",
    "MIN_TOKENS = 200 \n",
    "MAX_TOKENS = 500\n",
    "\n",
    "\n",
    "def divide_chunks(l, n): \n",
    "      \n",
    "    # looping till length l \n",
    "    for i in range(0, len(l), n):  \n",
    "        yield l[i:i + n] \n",
    "\n",
    "def length_normalize_check(text):\n",
    "#     all_words = word_tokenize(text)\n",
    "    sent_tokens = sent_tokenize(text)\n",
    "    list_sent = []\n",
    "    \n",
    "    list_sentences = list(divide_chunks(sent_tokens, 10))\n",
    "    for sent in list_sentences:\n",
    "        list_sent.append(' '.join(sent))\n",
    "#     return reduce(operator.concat, list_sentences)\n",
    "    return list_sent\n",
    "    "
   ]
  },
  {
   "cell_type": "code",
   "execution_count": 6,
   "metadata": {},
   "outputs": [
    {
     "data": {
      "application/vnd.jupyter.widget-view+json": {
       "model_id": "904f42a8ae77468e88d814fdd0f1ada6",
       "version_major": 2,
       "version_minor": 0
      },
      "text/plain": [
       "HBox(children=(FloatProgress(value=0.0, max=2465092.0), HTML(value='')))"
      ]
     },
     "metadata": {},
     "output_type": "display_data"
    },
    {
     "name": "stdout",
     "output_type": "stream",
     "text": [
      "\n"
     ]
    }
   ],
   "source": [
    "with open('/data/szr207/dataset/ArqMath/jsons/arqmath.raw', 'w') as filehandle:\n",
    "    for listitem in tqdm(list_raw):\n",
    "        filehandle.write('%s\\n' % listitem)"
   ]
  },
  {
   "cell_type": "code",
   "execution_count": 2,
   "metadata": {},
   "outputs": [
    {
     "name": "stdout",
     "output_type": "stream",
     "text": [
      "Collecting nltk\n",
      "  Using cached nltk-3.5.zip (1.4 MB)\n",
      "Collecting click\n",
      "  Using cached click-7.1.2-py2.py3-none-any.whl (82 kB)\n",
      "Collecting joblib\n",
      "  Using cached joblib-0.15.1-py3-none-any.whl (298 kB)\n",
      "Requirement already satisfied: regex in /data/szr207/conda/envs/faiss/lib/python3.7/site-packages (from nltk) (2020.5.14)\n",
      "Requirement already satisfied: tqdm in /data/szr207/conda/envs/faiss/lib/python3.7/site-packages (from nltk) (4.46.0)\n",
      "Building wheels for collected packages: nltk\n",
      "  Building wheel for nltk (setup.py) ... \u001b[?25ldone\n",
      "\u001b[?25h  Created wheel for nltk: filename=nltk-3.5-py3-none-any.whl size=1434676 sha256=d516350a4f59baf05096e5bdf93abeced90512228ed7c841c5d7a06d6a164754\n",
      "  Stored in directory: /home/szr207/.cache/pip/wheels/45/6c/46/a1865e7ba706b3817f5d1b2ff7ce8996aabdd0d03d47ba0266\n",
      "Successfully built nltk\n",
      "Installing collected packages: click, joblib, nltk\n",
      "Successfully installed click-7.1.2 joblib-0.15.1 nltk-3.5\n"
     ]
    }
   ],
   "source": [
    "!pip install nltk"
   ]
  },
  {
   "cell_type": "code",
   "execution_count": 30,
   "metadata": {},
   "outputs": [
    {
     "data": {
      "application/vnd.jupyter.widget-view+json": {
       "model_id": "44b8ccb23ac8467191931714d75ba2e7",
       "version_major": 2,
       "version_minor": 0
      },
      "text/plain": [
       "HBox(children=(FloatProgress(value=0.0, max=2465092.0), HTML(value='')))"
      ]
     },
     "metadata": {},
     "output_type": "display_data"
    },
    {
     "name": "stdout",
     "output_type": "stream",
     "text": [
      "\n"
     ]
    }
   ],
   "source": [
    "final_raw = []\n",
    "\n",
    "for raw in tqdm(list_raw):\n",
    "    for sent in length_normalize_check(raw):\n",
    "        final_raw.append(sent)\n",
    "    "
   ]
  },
  {
   "cell_type": "code",
   "execution_count": 31,
   "metadata": {},
   "outputs": [
    {
     "data": {
      "application/vnd.jupyter.widget-view+json": {
       "model_id": "887ae14ba0fe47c39dc020f8e0585a09",
       "version_major": 2,
       "version_minor": 0
      },
      "text/plain": [
       "HBox(children=(FloatProgress(value=0.0, max=2797166.0), HTML(value='')))"
      ]
     },
     "metadata": {},
     "output_type": "display_data"
    },
    {
     "name": "stdout",
     "output_type": "stream",
     "text": [
      "\n"
     ]
    }
   ],
   "source": [
    "with open('/data/szr207/dataset/ArqMath/jsons/arqmath.raw', 'w') as filehandle:\n",
    "    for listitem in tqdm(final_raw):\n",
    "        filehandle.write('%s\\n' % listitem)"
   ]
  },
  {
   "cell_type": "code",
   "execution_count": 10,
   "metadata": {},
   "outputs": [
    {
     "data": {
      "text/plain": [
       "637"
      ]
     },
     "execution_count": 10,
     "metadata": {},
     "output_type": "execute_result"
    }
   ],
   "source": [
    "len(all_words)"
   ]
  },
  {
   "cell_type": "code",
   "execution_count": 29,
   "metadata": {},
   "outputs": [
    {
     "data": {
      "text/plain": [
       "338"
      ]
     },
     "execution_count": 29,
     "metadata": {},
     "output_type": "execute_result"
    }
   ],
   "source": [
    "len(word_tokenize('Remember that whatever method you use for solving y^{\\\\prime}=f(t,y), be it Runge-Kutta, Bulirsch-Stoer (extrapolative), Gear/Adams multistep, or fancier methods, one always has a triple of values (t_i,y_i,y_i^{\\\\prime}) (y_i^{\\\\prime}=f(t_i,y_i)) at each evaluation point. Thus, one can always do cubic Hermite interpolation across the points (t_i,y_i) and (t_{i+1},y_{i+1}) (note that I am not assuming that the evaluation points are equispaced, as is often the case when doing adaptive solving). If the underlying method is at most third order accurate, cubic Hermite is a good choice. Now, the upshot is that modern implementations of DE solvers always support so-called \"dense output\"; briefly, associated with a method with $p$th order \"accuracy\" (in quotes since \"high order doesn\\'t always imply high accuracy\" ;) ) has with it an associated $p$th order interpolating function. To use my favorite example, the (4,5) adaptive Runge-Kutta solver based on the Dormand-Prince coefficients has with it an associated fifth order interpolating function. The special properties inherent in the coefficients allow the existence of an associated interpolating function with the same order of \"accuracy\"; in general, not all Runge-Kutta coefficients will have an associated \"nice\" interpolating function (but again, one can always do cubic Hermite). I could say more, but the books by Hairer/Nørsett/Wanner have an extensive discussion on dense output (and they say it better than what I can hope to say), as well as usable routines (also available within the site). You would do well to study them.'))"
   ]
  },
  {
   "cell_type": "code",
   "execution_count": 34,
   "metadata": {},
   "outputs": [
    {
     "name": "stdout",
     "output_type": "stream",
     "text": [
      "^C\n"
     ]
    }
   ],
   "source": [
    "!pip upgrade"
   ]
  },
  {
   "cell_type": "code",
   "execution_count": 35,
   "metadata": {},
   "outputs": [
    {
     "name": "stdout",
     "output_type": "stream",
     "text": [
      "^C\n",
      "Note: you may need to restart the kernel to use updated packages.\n"
     ]
    }
   ],
   "source": [
    "pip upgrade"
   ]
  },
  {
   "cell_type": "code",
   "execution_count": 38,
   "metadata": {},
   "outputs": [],
   "source": [
    "from transformers import RobertaTokenizer, AutoModel\n",
    "import torch\n",
    "from torch import nn\n",
    "\n",
    "tokenizer =  RobertaTokenizer.from_pretrained('roberta-base')\n",
    "model = AutoModel.from_pretrained(\"shauryr/checkpoint-475000\")"
   ]
  },
  {
   "cell_type": "code",
   "execution_count": 39,
   "metadata": {},
   "outputs": [],
   "source": [
    "input_ids = torch.tensor([tokenizer.encode(\"\\\\Omega(k \\\\log k)\")])\n",
    "output_ids = torch.tensor([tokenizer.encode(\"\\\\Omega(m \\\\log p)\")])"
   ]
  },
  {
   "cell_type": "code",
   "execution_count": 40,
   "metadata": {},
   "outputs": [],
   "source": [
    "input_states, all_attentions = model(input_ids)[-2:]\n",
    "output_states, all_attentions = model(output_ids)[-2:]"
   ]
  },
  {
   "cell_type": "code",
   "execution_count": 55,
   "metadata": {},
   "outputs": [
    {
     "ename": "RuntimeError",
     "evalue": "shape '[1, 768]' is invalid for input of size 8448",
     "output_type": "error",
     "traceback": [
      "\u001b[0;31m---------------------------------------------------------------------------\u001b[0m",
      "\u001b[0;31mRuntimeError\u001b[0m                              Traceback (most recent call last)",
      "\u001b[0;32m<ipython-input-55-f289b4d14c2b>\u001b[0m in \u001b[0;36m<module>\u001b[0;34m\u001b[0m\n\u001b[0;32m----> 1\u001b[0;31m \u001b[0minput_states\u001b[0m\u001b[0;34m[\u001b[0m\u001b[0;36m0\u001b[0m\u001b[0;34m]\u001b[0m\u001b[0;34m.\u001b[0m\u001b[0mreshape\u001b[0m\u001b[0;34m(\u001b[0m\u001b[0;36m1\u001b[0m\u001b[0;34m,\u001b[0m\u001b[0;36m768\u001b[0m\u001b[0;34m)\u001b[0m\u001b[0;34m\u001b[0m\u001b[0;34m\u001b[0m\u001b[0m\n\u001b[0m",
      "\u001b[0;31mRuntimeError\u001b[0m: shape '[1, 768]' is invalid for input of size 8448"
     ]
    }
   ],
   "source": [
    "input_states[0].reshape(1,768)"
   ]
  },
  {
   "cell_type": "code",
   "execution_count": 51,
   "metadata": {},
   "outputs": [
    {
     "data": {
      "text/plain": [
       "tensor([0.8117], grad_fn=<DivBackward0>)"
      ]
     },
     "execution_count": 51,
     "metadata": {},
     "output_type": "execute_result"
    }
   ],
   "source": [
    "cos = nn.CosineSimilarity(dim=1, eps=1e-6)\n",
    "cos(input_states[0][5].reshape(1,768), output_states[0][5].reshape(1,768))"
   ]
  },
  {
   "cell_type": "code",
   "execution_count": 57,
   "metadata": {},
   "outputs": [
    {
     "data": {
      "text/plain": [
       "torch.Size([1, 768])"
      ]
     },
     "execution_count": 57,
     "metadata": {},
     "output_type": "execute_result"
    }
   ],
   "source": [
    "model(input_ids)[1].shape"
   ]
  },
  {
   "cell_type": "markdown",
   "metadata": {},
   "source": [
    "## TRY language masking\n",
    "\n",
    "Comparing the default BERT model and RoBERTa-base fine-tuned on ARQMath dataset. These 2 are actual formula with a <mask> token in them. We can clearly see that the fine-tuned models are performing better than the general purpose BERT model"
   ]
  },
  {
   "cell_type": "code",
   "execution_count": 89,
   "metadata": {},
   "outputs": [
    {
     "data": {
      "application/vnd.jupyter.widget-view+json": {
       "model_id": "3d35c45bbe57487aa15808dc268191e9",
       "version_major": 2,
       "version_minor": 0
      },
      "text/plain": [
       "HBox(children=(FloatProgress(value=0.0, description='Downloading', max=230.0, style=ProgressStyle(description_…"
      ]
     },
     "metadata": {},
     "output_type": "display_data"
    },
    {
     "name": "stdout",
     "output_type": "stream",
     "text": [
      "\n"
     ]
    }
   ],
   "source": [
    "from transformers import pipeline\n",
    "nlp_pipe_math = pipeline(\"fill-mask\", model=\"shauryr/arqmath-roberta-base\", tokenizer='roberta-base')\n",
    "nlp_pipe_default = pipeline(\"fill-mask\") #default BERT"
   ]
  },
  {
   "cell_type": "code",
   "execution_count": 90,
   "metadata": {},
   "outputs": [
    {
     "data": {
      "text/plain": [
       "[{'sequence': '<s> \\\\Omega(k \\\\log k)</s>',\n",
       "  'score': 0.7194331288337708,\n",
       "  'token': 12376},\n",
       " {'sequence': '<s> \\\\Omega(k \\\\ln k)</s>',\n",
       "  'score': 0.09566952288150787,\n",
       "  'token': 8502},\n",
       " {'sequence': '<s> \\\\Omega(k \\\\times k)</s>',\n",
       "  'score': 0.07879886031150818,\n",
       "  'token': 14616},\n",
       " {'sequence': '<s> \\\\Omega(k \\\\over k)</s>',\n",
       "  'score': 0.02194512076675892,\n",
       "  'token': 2137},\n",
       " {'sequence': '<s> \\\\Omega(k \\\\mod k)</s>',\n",
       "  'score': 0.011039352975785732,\n",
       "  'token': 14377}]"
      ]
     },
     "execution_count": 90,
     "metadata": {},
     "output_type": "execute_result"
    }
   ],
   "source": [
    "nlp_pipe_math('\\\\Omega(k \\\\<mask> k)')"
   ]
  },
  {
   "cell_type": "code",
   "execution_count": 91,
   "metadata": {},
   "outputs": [
    {
     "data": {
      "text/plain": [
       "[{'sequence': '<s> \\\\Omega(k \\\\Delta k)</s>',\n",
       "  'score': 0.4043600261211395,\n",
       "  'token': 38816},\n",
       " {'sequence': '<s> \\\\Omega(k \\\\lambda k)</s>',\n",
       "  'score': 0.059202104806900024,\n",
       "  'token': 49744},\n",
       " {'sequence': '<s> \\\\Omega(k \\\\partial k)</s>',\n",
       "  'score': 0.05178029462695122,\n",
       "  'token': 45593},\n",
       " {'sequence': '<s> \\\\Omega(k \\\\quad k)</s>',\n",
       "  'score': 0.02363007143139839,\n",
       "  'token': 41666},\n",
       " {'sequence': '<s> \\\\Omega(k \\\\alpha k)</s>',\n",
       "  'score': 0.01644393987953663,\n",
       "  'token': 29135}]"
      ]
     },
     "execution_count": 91,
     "metadata": {},
     "output_type": "execute_result"
    }
   ],
   "source": [
    "nlp_pipe_default('\\\\Omega(k \\\\<mask> k)')"
   ]
  },
  {
   "cell_type": "code",
   "execution_count": 92,
   "metadata": {},
   "outputs": [
    {
     "data": {
      "text/plain": [
       "[{'sequence': '<s> 0.9999999990000000=1</s>',\n",
       "  'score': 0.22802169620990753,\n",
       "  'token': 45121},\n",
       " {'sequence': '<s> 0.999999999000000=1</s>',\n",
       "  'score': 0.1923193782567978,\n",
       "  'token': 33413},\n",
       " {'sequence': '<s> 0.999999999999=1</s>',\n",
       "  'score': 0.08729714155197144,\n",
       "  'token': 16692},\n",
       " {'sequence': '<s> 0.9999999990000=1</s>',\n",
       "  'score': 0.03466024994850159,\n",
       "  'token': 14200},\n",
       " {'sequence': '<s> 0.999999999 BTC=1</s>',\n",
       "  'score': 0.01751110330224037,\n",
       "  'token': 7432}]"
      ]
     },
     "execution_count": 92,
     "metadata": {},
     "output_type": "execute_result"
    }
   ],
   "source": [
    "nlp_pipe_default('0.999999999<mask>=1')"
   ]
  },
  {
   "cell_type": "code",
   "execution_count": 93,
   "metadata": {},
   "outputs": [
    {
     "data": {
      "text/plain": [
       "[{'sequence': '<s> 0.999999999...=1</s>',\n",
       "  'score': 0.6985778212547302,\n",
       "  'token': 734},\n",
       " {'sequence': '<s> 0.999999999....=1</s>',\n",
       "  'score': 0.07275453954935074,\n",
       "  'token': 17220},\n",
       " {'sequence': '<s> 0.999999999.....=1</s>',\n",
       "  'score': 0.014931757934391499,\n",
       "  'token': 38917},\n",
       " {'sequence': '<s> 0.99999999999=1</s>',\n",
       "  'score': 0.014026593416929245,\n",
       "  'token': 2831},\n",
       " {'sequence': '<s> 0.999999999999=1</s>',\n",
       "  'score': 0.013251962140202522,\n",
       "  'token': 16692}]"
      ]
     },
     "execution_count": 93,
     "metadata": {},
     "output_type": "execute_result"
    }
   ],
   "source": [
    "nlp_pipe_math('0.999999999<mask>=1')"
   ]
  },
  {
   "cell_type": "code",
   "execution_count": 88,
   "metadata": {},
   "outputs": [
    {
     "data": {
      "text/plain": [
       "[{'sequence': '<s> 0.9999999990000000=1</s>',\n",
       "  'score': 0.22802169620990753,\n",
       "  'token': 45121},\n",
       " {'sequence': '<s> 0.999999999000000=1</s>',\n",
       "  'score': 0.1923193782567978,\n",
       "  'token': 33413},\n",
       " {'sequence': '<s> 0.999999999999=1</s>',\n",
       "  'score': 0.08729714155197144,\n",
       "  'token': 16692},\n",
       " {'sequence': '<s> 0.9999999990000=1</s>',\n",
       "  'score': 0.03466024994850159,\n",
       "  'token': 14200},\n",
       " {'sequence': '<s> 0.999999999 BTC=1</s>',\n",
       "  'score': 0.01751110330224037,\n",
       "  'token': 7432}]"
      ]
     },
     "execution_count": 88,
     "metadata": {},
     "output_type": "execute_result"
    }
   ],
   "source": [
    "nlp_pipe('0.999999999<mask>=1')"
   ]
  },
  {
   "cell_type": "code",
   "execution_count": 70,
   "metadata": {},
   "outputs": [
    {
     "data": {
      "text/plain": [
       "{'score': 1.3738734686305942e-05,\n",
       " 'start': 32,\n",
       " 'end': 50,\n",
       " 'answer': '0.999999999\\\\dots=1'}"
      ]
     },
     "execution_count": 70,
     "metadata": {},
     "output_type": "execute_result"
    }
   ],
   "source": [
    "nlp_qa = pipeline('question-answering', model=\"shauryr/arqmath-roberta-base\", tokenizer='roberta-base')"
   ]
  },
  {
   "cell_type": "code",
   "execution_count": null,
   "metadata": {},
   "outputs": [],
   "source": [
    "\"I'm told by smart people that 0.999999999\\\\dots=1 and I believe them, but is there a proof that explains why this is?\""
   ]
  },
  {
   "cell_type": "code",
   "execution_count": 71,
   "metadata": {},
   "outputs": [
    {
     "data": {
      "text/plain": [
       "{'score': 1.3738734686305942e-05,\n",
       " 'start': 32,\n",
       " 'end': 50,\n",
       " 'answer': '0.999999999\\\\dots=1'}"
      ]
     },
     "execution_count": 71,
     "metadata": {},
     "output_type": "execute_result"
    }
   ],
   "source": [
    "nlp_qa(context='I was told by smart people that 0.999999999\\\\dots=1 and I believe them', question='proof that explains why this is?')"
   ]
  },
  {
   "cell_type": "code",
   "execution_count": null,
   "metadata": {},
   "outputs": [],
   "source": [
    "\"Remember that whatever method you use for solving (t_i,y_i,y_i^{\\\\prime}) (y_i^{\\\\prime}=f(t_i,y_i)) at each evaluation point.\""
   ]
  },
  {
   "cell_type": "code",
   "execution_count": 74,
   "metadata": {},
   "outputs": [
    {
     "data": {
      "text/plain": [
       "{'score': 3.063697650796922e-05,\n",
       " 'start': 1432,\n",
       " 'end': 1480,\n",
       " 'answer': 'function. The special properties inherent in the'}"
      ]
     },
     "execution_count": 74,
     "metadata": {},
     "output_type": "execute_result"
    }
   ],
   "source": [
    "nlp_qa(context=\"Remember that whatever method you use for solving <span class=\\\"math-container\\\" id=\\\"154115\\\">y^{\\\\prime}=f(t,y)</span>, be it Runge-Kutta, Bulirsch-Stoer (extrapolative), Gear/Adams multistep, or fancier methods, one always has a triple of values <span class=\\\"math-container\\\" id=\\\"154116\\\">(t_i,y_i,y_i^{\\\\prime})</span> (<span class=\\\"math-container\\\" id=\\\"154117\\\">y_i^{\\\\prime}=f(t_i,y_i)</span>) at each evaluation point. Thus, one can always do cubic Hermite interpolation across the points <span class=\\\"math-container\\\" id=\\\"154118\\\">(t_i,y_i)</span> and <span class=\\\"math-container\\\" id=\\\"154119\\\">(t_{i+1},y_{i+1})</span> (note that I am not assuming that the evaluation <span class=\\\"math-container\\\" id=\\\"154120\\\">p</span>oints are equis<span class=\\\"math-container\\\" id=\\\"154121\\\">p</span>aced, as is often the case when doing adaptive solving). If the underlying method is at most third order accurate, cubic Hermite is a good choice.</p>  <p>Now, the upshot is that modern implementations of DE solvers always support so-called \\\"dense output\\\"; briefly, associated with a method with $p$th order \\\"accuracy\\\" (in quotes since \\\"high order doesnt always imply high accuracy\\\" ;) ) has with it an associated $p$th order interpolating function. To use my favorite example, the <span class=\\\"math-container\\\" id=\\\"154122\\\">(4,5)</span> adaptive Runge-Kutta solver based on the Dormand-Prince coefficients has with it an associated fifth order interpolating function. The special properties inherent in the coefficients allow the existence of an associated interpolating function with the same order of \\\"accuracy\\\"; in general, not all Runge-Kutta coefficients will have an associated \\\"nice\\\" interpolating function (but again, one can always do cubic Hermite). I could say more, but the books by Hairer/Nørsett/Wanner</a> have an extensive discussion on dense output (and they say it better than what I can hope to say), as well as usable routines (also available within the site). You would do well to study them.\", question=\"What is Hermite interpolation ?\")"
   ]
  },
  {
   "cell_type": "code",
   "execution_count": 82,
   "metadata": {},
   "outputs": [],
   "source": [
    "context = \"The main idea of Hermite is to take x1→x0, but for this to succeed you cannot use the standard Lagrange basis L0(x):=(x−x1)/(x0−x1) and L1(x):=(x−x0)/(x1−x0) because the denominators will go to zero while the numerators stay finite.So the trick is to replace Lagrange basis with another one (there's nothing really special about Lagrange basis except that it makes collocation easy). For example take M0(x):≡1 and M1(x):=(x−x0) (which happens to be the naive Vandermonde basis when x0=0 but consider that an accident). Look now for two coefficients, say c0,c1 such that the linear function c0M0+c1M1 interpolates f at x0,x1, you solve a linear system and you'll getc0=f(x0) and c1=f(x1)−f(x0)x1−x0.(Can you smell Newton's divided differences? Never mind, focus on Hermite for now.) So in fact, posing h=x1−x0 we see that the only quantity that depends on h is c1=c^1(h), while c0,M0,M1 are h-independent, so we have an h-dependent Lagrange interpolant L(h)(x)=c0M0(x)+c^1(h)M1(x). This is useful. Drums rolling, we let x1→x0 (or h→0) and track the quantities that depend on h, i.e., c^1(h) which will simply converge to f′(x0), hence the linear interpolant becomes\"\n",
    "question = \"what is the standard Lagrange basis?\""
   ]
  },
  {
   "cell_type": "code",
   "execution_count": 83,
   "metadata": {},
   "outputs": [
    {
     "data": {
      "text/plain": [
       "{'score': 2.9588249041183172e-05,\n",
       " 'start': 279,\n",
       " 'end': 337,\n",
       " 'answer': \"another one (there's nothing really special about Lagrange\"}"
      ]
     },
     "execution_count": 83,
     "metadata": {},
     "output_type": "execute_result"
    }
   ],
   "source": [
    "nlp_qa(context=context, question=question)"
   ]
  },
  {
   "cell_type": "code",
   "execution_count": 1,
   "metadata": {},
   "outputs": [],
   "source": [
    "from elasticsearch import Elasticsearch\n",
    "es = Elasticsearch(['http://csxindex05:9200/'], verify_certs=True)\n",
    "\n",
    "if not es.ping():\n",
    "    raise ValueError(\"Connection failed\")"
   ]
  },
  {
   "cell_type": "code",
   "execution_count": 8,
   "metadata": {},
   "outputs": [],
   "source": [
    "query = \"The purpose of the present invention is provide a slidable adhesive tape that allows the amount of outgassing, particularly of siloxane gas, to be greatly reduced. A slidable adhesive tape (6) comprises an adhesive layer (2) and a peelable liner (3) on one side of a base material (1), and is characterized in that the base material (1) comprises a fluororesin film or a polyetheretherketone film and the peelable liner (3) comprises a non-silicone-based peelable liner.\"\n",
    "\n",
    "body = {\n",
    "            \"size\": 5,\n",
    "             \"query\": {\n",
    "                   \"more_like_this\" : {\n",
    "                \"fields\" : [\"paperAbstract\", \"title\"],\n",
    "                \"like\" : query,\n",
    "            }\n",
    "            }\n",
    "        }\n",
    "\n",
    "res = es.search(index=\"opencorpus\", body=body, request_timeout=1000)"
   ]
  },
  {
   "cell_type": "code",
   "execution_count": 9,
   "metadata": {},
   "outputs": [
    {
     "data": {
      "text/plain": [
       "{'took': 106293,\n",
       " 'timed_out': False,\n",
       " '_shards': {'total': 1, 'successful': 1, 'skipped': 0, 'failed': 0},\n",
       " 'hits': {'total': {'value': 10000, 'relation': 'gte'},\n",
       "  'max_score': 111.033104,\n",
       "  'hits': [{'_index': 'opencorpus',\n",
       "    '_type': '_doc',\n",
       "    '_id': '9nGdbHIBuT-Ur5XV2qv-',\n",
       "    '_score': 111.033104,\n",
       "    '_source': {'entities': [],\n",
       "     'journalVolume': '',\n",
       "     'journalPages': '',\n",
       "     'pmid': '',\n",
       "     'fieldsOfStudy': ['Materials Science'],\n",
       "     'year': 2013,\n",
       "     'outCitations': [],\n",
       "     's2Url': 'https://semanticscholar.org/paper/58d447d60c4af70694d63531feef95ea55abdba2',\n",
       "     's2PdfUrl': '',\n",
       "     'id': '58d447d60c4af70694d63531feef95ea55abdba2',\n",
       "     'authors': [{'name': '博之 飯田', 'ids': ['87123418']},\n",
       "      {'name': '秋桐 村田', 'ids': ['116904390']}],\n",
       "     'journalName': '',\n",
       "     'paperAbstract': 'The purpose of the present invention is provide a slidable adhesive tape that allows the amount of outgassing, particularly of siloxane gas, to be greatly reduced. A slidable adhesive tape (6) comprises an adhesive layer (2) and a peelable liner (3) on one side of a base material (1), and is characterized in that the base material (1) comprises a fluororesin film or a polyetheretherketone film and the peelable liner (3) comprises a non-silicone-based peelable liner.',\n",
       "     'inCitations': [],\n",
       "     'pdfUrls': [],\n",
       "     'title': 'Slidable adhesive tape',\n",
       "     'doi': '',\n",
       "     'sources': [],\n",
       "     'doiUrl': '',\n",
       "     'venue': ''}},\n",
       "   {'_index': 'opencorpus',\n",
       "    '_type': '_doc',\n",
       "    '_id': 'JpgzcnIBuT-Ur5XV275o',\n",
       "    '_score': 60.01861,\n",
       "    '_source': {'entities': [],\n",
       "     'journalVolume': '',\n",
       "     'journalPages': '',\n",
       "     'pmid': '',\n",
       "     'fieldsOfStudy': ['Materials Science'],\n",
       "     'year': 2008,\n",
       "     'outCitations': [],\n",
       "     's2Url': 'https://semanticscholar.org/paper/010187026e4ccdbbf54e52b4e7a91120b708fc5c',\n",
       "     's2PdfUrl': '',\n",
       "     'id': '010187026e4ccdbbf54e52b4e7a91120b708fc5c',\n",
       "     'authors': [{'name': '도모꼬 기시모또', 'ids': ['115404211']},\n",
       "      {'name': '유끼오 아리미쯔', 'ids': ['114214696']}],\n",
       "     'journalName': '',\n",
       "     'paperAbstract': 'A heat-peelable double-sided adhesive tape or sheet is provided to ensure firm adhesion and easy peel-off of an adhesive layer, and to prevent contamination of an article attached to the adhesive layer. A heat-peelable double-sided adhesive tape or sheet comprises: (A) an adhesive layer(2) not containing a foaming agent on one surface of a substrate; and (B) an adhesive layer(5) containing a foaming agent on the other surface. The adhesive layer(A) comprises 5-30 parts by weight of a plasticizer based on 100 parts by weight of the base polymer forming the adhesive layer and a tensile adhesion(tensile adhesion to a polyethylene terephthalate film, 180 deg. peel, tensile rate: 300 mm/min., temperature: 21-25 deg.C, humidity: 60-70% RH) of 1N/20 mm or less. When the double-sided tape or sheet is heated at 165 deg.C under 1 atm for 1 hour, the decrement in the plasticizer is 2 wt% or less.',\n",
       "     'inCitations': [],\n",
       "     'pdfUrls': [],\n",
       "     'title': 'Heat-peelable double-sided pressure-sensitive adhesive tape or sheet and method of processing adherend',\n",
       "     'doi': '',\n",
       "     'sources': [],\n",
       "     'doiUrl': '',\n",
       "     'venue': ''}},\n",
       "   {'_index': 'opencorpus',\n",
       "    '_type': '_doc',\n",
       "    '_id': '2T86bXIBuT-Ur5XVggXg',\n",
       "    '_score': 58.745956,\n",
       "    '_source': {'entities': [],\n",
       "     'journalVolume': '',\n",
       "     'journalPages': '',\n",
       "     'pmid': '',\n",
       "     'fieldsOfStudy': ['Materials Science'],\n",
       "     'year': 2014,\n",
       "     'outCitations': [],\n",
       "     's2Url': 'https://semanticscholar.org/paper/b38bc9d843d71b4ddfecfb759586e575add8371d',\n",
       "     's2PdfUrl': '',\n",
       "     'id': 'b38bc9d843d71b4ddfecfb759586e575add8371d',\n",
       "     'authors': [{'name': '胡荣', 'ids': ['52267919']},\n",
       "      {'name': '胡宏宇', 'ids': ['72061511']},\n",
       "      {'name': '陈进财', 'ids': ['107859632']}],\n",
       "     'journalName': '',\n",
       "     'paperAbstract': 'The invention discloses a non-base-material double-faced adhesive tape waste removing method and belongs to the field of adhesive waste removing processes. The non-base-material double-faced adhesive tape waste removing method is designed for solving the problems such as adhesive deformation and residuals in a waste removing process of an existing method. The non-base-material double-faced adhesive tape waste removing method at least comprises the following steps that 1, process release film waste of a non-base-material double-faced adhesive tape composite material is removed, so that a semi-finished non-base-material double-faced adhesive tape composite material is obtained; 2, a plastic film is compounded on the semi-finished product of the non-base-material double-faced adhesive tape composite material obtained in the step 1 for removing the non-base-material double-faced adhesive tape waste and plastic film waste; and 3, a single-faced adhesive tape is compounded on the semi-finished non-base-material double-faced adhesive tape composite material obtained in the step 2 for removing non-base-material double-faced adhesive tape surface process release film waste and single-faced adhesive tape waste. By means of the method, various kinds of waste generated after non-base-material double-faced adhesive tapes are subjected to die cutting can be removed independently, and the product quality is guaranteed.',\n",
       "     'inCitations': [],\n",
       "     'pdfUrls': [],\n",
       "     'title': 'Non-base-material double-faced adhesive tape waste removing method',\n",
       "     'doi': '',\n",
       "     'sources': [],\n",
       "     'doiUrl': '',\n",
       "     'venue': ''}},\n",
       "   {'_index': 'opencorpus',\n",
       "    '_type': '_doc',\n",
       "    '_id': 'OHL2bnIBuT-Ur5XVkAS3',\n",
       "    '_score': 58.46628,\n",
       "    '_source': {'entities': [],\n",
       "     'journalVolume': '',\n",
       "     'journalPages': '',\n",
       "     'pmid': '',\n",
       "     'fieldsOfStudy': ['Materials Science'],\n",
       "     'year': 2008,\n",
       "     'outCitations': [],\n",
       "     's2Url': 'https://semanticscholar.org/paper/8de265e74eb3c4b0d7741fc950062c62b5bafb6f',\n",
       "     's2PdfUrl': '',\n",
       "     'id': '8de265e74eb3c4b0d7741fc950062c62b5bafb6f',\n",
       "     'authors': [{'name': '도모꼬 기시모또', 'ids': ['115404211']},\n",
       "      {'name': '유끼오 아리미쯔', 'ids': ['114214696']}],\n",
       "     'journalName': '',\n",
       "     'paperAbstract': 'According to the invention, the blowing agent-containing pressure-sensitive adhesive layer and the adhesive securely and to obtain a heat-peelable double-faced adhesive tape or sheet having a foaming agent-free pressure-sensitive adhesive layer that can be easily peeled off by the peeling. Heat-peelable double-faced adhesive tape or sheet of the present invention, has a pressure-sensitive adhesive layer (A) containing no foaming agent on one surface of a base material, having a pressure-sensitive adhesive layer (B) containing a foaming agent on the other side, the pressure-sensitive adhesive layer (a) is, for a plasticizer to 100 parts by weight of the base polymer constituting the pressure-sensitive adhesive layer (a) and at the same time that it contains a proportion of 5 to 30 parts by weight, the tensile adhesive strength (tensile adhesive strength to the polyethylene terephthalate film, a peeling angle: 180 °, tensile speed: 300 mm / min, temperature: 23 ± 2 ℃, humidity: 65 ± 5% RH) is 1 N / 20 mm has a less characteristic, temperature 165 ℃ double-sided pressure-sensitive adhesive tape or sheet, the pressure 1 atmosphere the loss of the plasticizer when heated for one hour under a condition characterized by less than 2% by weight. Heat-peelable double-faced adhesive tape, pressure-sensitive adhesive sheet, the blowing agent',\n",
       "     'inCitations': [],\n",
       "     'pdfUrls': [],\n",
       "     'title': 'Thermal-release double-coated pressure-sensitive adhesive tape or sheet and method of processing adherend',\n",
       "     'doi': '',\n",
       "     'sources': [],\n",
       "     'doiUrl': '',\n",
       "     'venue': ''}},\n",
       "   {'_index': 'opencorpus',\n",
       "    '_type': '_doc',\n",
       "    '_id': 'nppMbnIBuT-Ur5XVjd2a',\n",
       "    '_score': 56.92551,\n",
       "    '_source': {'entities': [],\n",
       "     'journalVolume': '',\n",
       "     'journalPages': '',\n",
       "     'pmid': '',\n",
       "     'fieldsOfStudy': ['Materials Science'],\n",
       "     'year': 2011,\n",
       "     'outCitations': [],\n",
       "     's2Url': 'https://semanticscholar.org/paper/221368573f3154055872a91683150275ab2bd5df',\n",
       "     's2PdfUrl': '',\n",
       "     'id': '221368573f3154055872a91683150275ab2bd5df',\n",
       "     'authors': [{'name': 'クレイグ ディー． トンプソン，', 'ids': ['1483847358']}],\n",
       "     'journalName': '',\n",
       "     'paperAbstract': 'Use adhesive tape stretching peelable can be affixed to the mounting surface item support apparatus is disclosed herein, the apparatus comprising a base portion, rotatably and inseparably connected at its base and a support body that is, the support body includes a base and a first position in which stretching peelable adhesive tape is hidden, at least a portion of the adhesive tape pull tab extension peelable becomes visible at least one second between a position of a rotatable relative to the base. .FIELD 1',\n",
       "     'inCitations': [],\n",
       "     'pdfUrls': [],\n",
       "     'title': 'Item support apparatus comprising a rotatable coupling part',\n",
       "     'doi': '',\n",
       "     'sources': [],\n",
       "     'doiUrl': '',\n",
       "     'venue': ''}}]}}"
      ]
     },
     "execution_count": 9,
     "metadata": {},
     "output_type": "execute_result"
    }
   ],
   "source": [
    "res"
   ]
  },
  {
   "cell_type": "code",
   "execution_count": 72,
   "metadata": {},
   "outputs": [
    {
     "name": "stdout",
     "output_type": "stream",
     "text": [
      "72618\t1\t20.81068\tHow to compute this sum\tI'm trying to remove the summation sign from this formula, is this possible?  1+\\sum_{k=1}^{500}(4(2k+1)^2-12k) \n",
      "\n",
      "923613\t1\t20.81068\tHow to compute this sum?\tI want to sum the following:  f(n) = \\sum_{i=1}^n (i^3 \\cdot (n \\mod i))  Since the sum can be huge I have to output the sum modulo some given number m. How can I approach this problem?  Also, n can be upto 10^{10}. \n",
      "\n",
      "2394328\t1\t19.80419\tHow to compute this infinite sum?\tI'm trying to compute the infinite sum  \\sum_{n=1}^{\\infty}n(\\frac{1}{2})^n  which I believe should represent the expected amount of coin flips needed to get a head. Can someone remind me how to do this? \n",
      "\n",
      "1386906\t1\t18.888252\tCan this combinatoric sum be simplified?\tBase cases:  F(n,k,d) = 0 if d=0 and n&gt;0  F(n,k,d) = 1 if n=0  Expression:  F(n,k,d) = \\sum_{s=0}^{\\min(k,n)}\\binom{n}{s}F(n-s,k,d-1)  I am trying to compute the value of F(n,k,10) where n is a large positive integer and k is a positive integer (can be small or large). As you can see, the inner loop can possibly take a very long time. Is there any way I can simplify? \n",
      "\n",
      "2080448\t1\t18.65229\tCombinatoric sum\t\\lim \\limits_{n\\to \\infty }\\sum _{k=0}^n\\frac{C\\left(n,\\:k\\right)}{k2^n+n}  I've tried the Squeeze theorem but it didn't work. \n",
      "\n",
      "1817122\t1\t17.597092\tOrthogonal combinatoric sum\tI have verified this identity in Matlab:  \\sum_{k=m}^n~(-)^{n+k}\\frac{2k+1}{n+k+1}\\binom{n}{k}\\binom{n+k}{k}^{-1}\\binom{k}{m}\\binom{k+m}{m}=\\delta_{nm}  Where n, m are positive integers. It was found by combining two inverse expansions  f_n=\\sum_{k=0}^n\\frac{2k+1}{n+k+1}\\binom{n}{k}\\binom{n+k}{k}^{-1}g_k   and  g_n =\\sum_{k=0}^n(-)^{n-k}\\binom{n}{k}\\binom{n+k}{k}f_k  where f_n and g_n are orthogonal polynomials (related to Legendre polynomials) of several variables. Could anyone offer a proof of this? Or recommend any books etc. that might be useful? \n",
      "\n",
      "502951\t1\t17.574623\tHow can I compute this sum?\tI want to calculate the summation  \\sum_{i=0}^{\\log_2 n - 1}\\frac{1}{\\log_2 n-i} when $n$ is a power of 2.  Even a reasonable estimate on lower bound and upper bound on this summation is fine for me.   I know that we can establish the lower bound and upper bound using integration but I am not able to correctly establish what this bound will be. \n",
      "\n",
      "1071655\t1\t17.574623\tHow would I compute this sum?\tSo I would to compute this integral which is coupled by a sum:   \\int_{x = 0}^{x = \\lambda} \\sum_{k=-\\infty}^\\infty e^{-( \\frac{x-k \\lambda}{\\sigma} )^2} dx  I was thinking about using parseval's theorem to solve this integral but it doesn't quite work. I think a technique from PDEs does work but I am not sure which one to use.  \n",
      "\n",
      "1499369\t1\t17.574623\tHow do we compute this sum?\tGiven: f(x)=\\sum_{n=0}^{\\infty} \\frac{2x^{2n+1}}{2n+1} How do we show that: \\sum_{n=0}^{\\infty} \\frac{1}{(2n+1)4^n} = ln3  Hints given are that   f(1/2)=\\sum_{n=0}^{\\infty} \\frac{1}{(2n+1)4^n}  and f'(x)=\\frac{1}{1-x^2}  From what I understand, there isn't a series definition of logarithms is there?  \n",
      "\n",
      "1817395\t1\t16.65489\tcombinatoric sum (generating functions)\tGiven the generating functions:  f(x) = (1-x)^r = \\Sigma_{i=0}^\\infty a_i x^i  g(x) = \\frac{1}{(1-x)^{r+1}} = \\Sigma_{i=0}^\\infty b_i x^i  h(x) = f(x) \\cdot g(x) = \\frac{1}{1-x}  The factor of x^k in h(x) is 1 according to:  \\frac{1}{1-x} = \\Sigma_{i=0}^\\infty x^i  On the other hand, if   h(x) = \\Sigma_{i=0}^\\infty c_i x^i  then by multiplication of generating functions:  c_k = \\Sigma_{i=0}^k a_i b_{k-i}  How can we show that c_k = 1 based on the a's and the b's?  Hint:  a_i = (-1)^i \\left(r \\atop i\\right) if 0 \\leq i \\leq r, and a_i=0 for i &gt; r  also:  (\\frac{1}{1-x})^{n} = [\\Sigma_{i=0}^\\infty x^i]^{n} = \\Sigma_{i=0}^\\infty D(n,i)x^i  where: D(n,i) = \\left(n-1+i \\atop i\\right)   so: b_i = D(r+1, i) = \\left(r+i \\atop i\\right)  How can we show c_k = \\Sigma_{i=0}^k a_i b_{k-i} is equal to 1? \n",
      "\n"
     ]
    }
   ],
   "source": [
    "import xml.etree.ElementTree as ET\n",
    "from elasticsearch import Elasticsearch\n",
    "import re\n",
    "\n",
    "def remove_stop(query):\n",
    "    with open('../englishST.txt') as f:\n",
    "        all_stopwords = f.readlines()\n",
    "    # you may also want to remove whitespace characters like `\\n` at the end of each line\n",
    "    all_stopwords = [x.strip() for x in all_stopwords] \n",
    "    text_tokens = query.split(' ')\n",
    "    query = [word for word in text_tokens if not word in all_stopwords]\n",
    "    query = ' '.join(query)\n",
    "    return query\n",
    "\n",
    "\n",
    "def remove_punct(my_str):\n",
    "    punctuations = '''!()-[]{};:'\"\\,<>./?@#$%^&*_~'''\n",
    "    # To take input from the user\n",
    "    # my_str = input(\"Enter a string: \")\n",
    "\n",
    "    # remove punctuation from the string\n",
    "    no_punct = \"\"\n",
    "    for char in my_str:\n",
    "        if char not in punctuations:\n",
    "            no_punct = no_punct + char\n",
    "\n",
    "    # display the unpunctuated string\n",
    "    return no_punct\n",
    "\n",
    "\n",
    "es = Elasticsearch(['http://csxindex05:9200/'], verify_certs=True)\n",
    "\n",
    "# query = \"How to compute this combinatoric sum?  I have the sum \\sum_{k=0}^{n} \\binom{n}{k} k I know the result is n 2^{n-1} but I don\\'t know how you get there. How does one even begin to simplify a sum like this that has binomial coefficients.\"\n",
    "query = \"How to compute this combinatoric sum?  \"\n",
    "# I have the sum \\sum_{k=0}^{n} \\binom{n}{k} k I know the result is n 2^{n-1} but I don\\'t know how you get there. How does one even begin to simplify a sum like this that has binomial coefficients.\"\n",
    "# query = re.sub('<[^<]+?>', '', query)\n",
    "# query = query.lower()\n",
    "# query = remove_stop(query)\n",
    "# query = remove_punct(query)\n",
    "\n",
    "# body = {\n",
    "#             \"size\": 10,\n",
    "#                      \"query\": {\n",
    "#                     \"multi_match\": {\n",
    "#                             \"query\": query,\n",
    "#                             \"fields\":  ['title^3',\"body\"],\n",
    "#                             \"type\": \"cross_fields\"\n",
    "#                         }\n",
    "#                      }}  \n",
    "body = {\n",
    "        \"size\": 10,\n",
    "        \"query\": {\n",
    "               \"more_like_this\" : {\n",
    "            \"fields\" : [\"title\"],\n",
    "            \"like\" : query,\n",
    "            \"min_term_freq\" : 1,\n",
    "            \"max_query_terms\" : 200\n",
    "        }}}\n",
    "\n",
    "res = es.search(index=\"question_bulk_index\", body=body)\n",
    "count = 1\n",
    "for result in res['hits']['hits'][:10]:\n",
    "    print(str(result['_source']['post_id'])+'\\t'+str(count)+'\\t'+ str(result['_score'])+ '\\t'+ result['_source']['title'] +'\\t'+ result['_source']['body']+'\\n')"
   ]
  },
  {
   "cell_type": "code",
   "execution_count": 73,
   "metadata": {},
   "outputs": [],
   "source": [
    "# %%capture\n",
    "# !pip install pyserini==0.8.1.0\n",
    "# !pip install transformers\n",
    "\n",
    "import json\n",
    "import os\n",
    "import torch\n",
    "import numpy\n",
    "from tqdm import tqdm\n",
    "from transformers import *\n",
    "import warnings\n",
    "warnings.simplefilter(action='ignore', category=FutureWarning)\n",
    "\n",
    "os.environ[\"JAVA_HOME\"] = \"/usr/lib/jvm/java-11-openjdk-11.0.7.10-4.el7_8.x86_64\"\n",
    "\n",
    "topic_file_path = \"/data/szr207/dataset/ArqMath/Task1/Sample Topics/Task1_Samples_V2.0.xml\"\n",
    "model_path = \"/data/szr207/github/transformers/examples/language-modeling/output/checkpoint-3000000\"\n",
    "tokenizer = AutoTokenizer.from_pretrained('roberta-base', do_lower_case=False)\n",
    "model = AutoModel.from_pretrained(model_path)query = (\"How to compute this combinatoric sum?. I have the sum  $$\\\\sum_{k=0}^{n} \\\\binom{n}{k} k$$  I know the result is $n 2^{n-1}$ but I don't know how you get there. How does one even begin to simplify a sum like this that has binomial coefficients. \")"
   ]
  },
  {
   "cell_type": "code",
   "execution_count": 81,
   "metadata": {},
   "outputs": [],
   "source": [
    "def extract_bert(text, tokenizer, model):\n",
    "    text_ids = torch.tensor([tokenizer.encode(text, add_special_tokens=True)])\n",
    "    text_words = tokenizer.convert_ids_to_tokens(text_ids[0])[1:-1]\n",
    "\n",
    "    n_chunks = int(numpy.ceil(float(text_ids.size(1))/510))\n",
    "    states = []\n",
    "    \n",
    "    for ci in range(n_chunks):\n",
    "        text_ids_ = text_ids[0, 1+ci*510:1+(ci+1)*510]            \n",
    "        text_ids_ = torch.cat([text_ids[0, 0].unsqueeze(0), text_ids_])\n",
    "        if text_ids[0, -1] != text_ids[0, -1]:\n",
    "            text_ids_ = torch.cat([text_ids_, text_ids[0,-1].unsqueeze(0)])\n",
    "        \n",
    "        with torch.no_grad():\n",
    "            state = model(text_ids_.unsqueeze(0))[0]\n",
    "            state = state[:, 1:-1, :]\n",
    "        states.append(state)\n",
    "\n",
    "    state = torch.cat(states, axis=1)\n",
    "    return text_ids, text_words, state[0]"
   ]
  },
  {
   "cell_type": "code",
   "execution_count": 82,
   "metadata": {},
   "outputs": [],
   "source": [
    "text_ids, query_words, query_state = extract_bert(query, tokenizer, model)"
   ]
  },
  {
   "cell_type": "code",
   "execution_count": 91,
   "metadata": {
    "scrolled": true
   },
   "outputs": [
    {
     "data": {
      "text/plain": [
       "torch.Size([78, 768])"
      ]
     },
     "execution_count": 91,
     "metadata": {},
     "output_type": "execute_result"
    }
   ],
   "source": [
    "query_state"
   ]
  },
  {
   "cell_type": "code",
   "execution_count": 99,
   "metadata": {},
   "outputs": [
    {
     "name": "stdout",
     "output_type": "stream",
     "text": [
      "ndcg                  \tA.101\t0.1568\n",
      "ndcg                  \tA.31\t0.1602\n",
      "ndcg                  \tA.78\t0.0443\n",
      "ndcg                  \tall\t0.1204\n"
     ]
    }
   ],
   "source": [
    "!java -jar jtreceval-0.0.5-jar-with-dependencies.jar -q -m ndcg /data/szr207/dataset/ArqMath/Task1/Sample\\ Topics/qrel.V1.0.tsv /data/szr207/projects/ArqMath/runs/es.fintune.roberta-base.dat"
   ]
  },
  {
   "cell_type": "markdown",
   "metadata": {},
   "source": [
    "### get vectors for all formulae and see what finetuned model returns \n",
    "\n",
    "trying see to see if BERT even learns something about formulae or not ?"
   ]
  },
  {
   "cell_type": "code",
   "execution_count": 1,
   "metadata": {},
   "outputs": [],
   "source": [
    "import glob, os\n",
    "import pandas as pd\n",
    "from tqdm.notebook import tqdm \n",
    "import numpy as np\n",
    "from sklearn.neighbors import NearestNeighbors\n",
    "from transformers import pipeline\n",
    "from transformers import *\n",
    "import math\n",
    "from IPython.core.display import display, HTML\n",
    "\n",
    "latex_root = '/data/szr207/dataset/ArqMath/latex_representation/'\n",
    "\n",
    "\n",
    "# os.chdir(\"latex_root\")\n",
    "list_tsv = []\n",
    "for file in glob.glob(latex_root+\"*.tsv\"):\n",
    "    list_tsv.append(file)"
   ]
  },
  {
   "cell_type": "code",
   "execution_count": 2,
   "metadata": {},
   "outputs": [
    {
     "data": {
      "application/vnd.jupyter.widget-view+json": {
       "model_id": "bc3378c88d9f42bf91491193ddcb4ffd",
       "version_major": 2,
       "version_minor": 0
      },
      "text/plain": [
       "HBox(children=(FloatProgress(value=0.0, max=101.0), HTML(value='')))"
      ]
     },
     "metadata": {},
     "output_type": "display_data"
    },
    {
     "name": "stdout",
     "output_type": "stream",
     "text": [
      "\n"
     ]
    }
   ],
   "source": [
    "list_formula = []\n",
    "for tsv in tqdm(list_tsv):\n",
    "    df = pd.read_csv(tsv, sep=\"\\t\")\n",
    "    df.dropna()\n",
    "    list_formula.extend(df['formula'])"
   ]
  },
  {
   "cell_type": "code",
   "execution_count": 3,
   "metadata": {},
   "outputs": [],
   "source": [
    "len(list_formula)\n",
    "\n",
    "list_formula = list(set(list_formula))\n",
    "list_formula = [x for x in list_formula if str(x) != 'nan']"
   ]
  },
  {
   "cell_type": "code",
   "execution_count": 4,
   "metadata": {},
   "outputs": [],
   "source": [
    "feat_ext = pipeline(\"feature-extraction\", model=\"/data/szr207/github/transformers/examples/language-modeling/output/checkpoint-3000000\", tokenizer='roberta-base', device=0) #our finetuned model\n",
    "tokenizer =  RobertaTokenizer.from_pretrained('roberta-base')"
   ]
  },
  {
   "cell_type": "code",
   "execution_count": 5,
   "metadata": {},
   "outputs": [
    {
     "data": {
      "application/vnd.jupyter.widget-view+json": {
       "model_id": "8e8ed67907a1482cad012a27f8fd842f",
       "version_major": 2,
       "version_minor": 0
      },
      "text/plain": [
       "HBox(children=(FloatProgress(value=0.0, max=100000.0), HTML(value='')))"
      ]
     },
     "metadata": {},
     "output_type": "display_data"
    },
    {
     "name": "stdout",
     "output_type": "stream",
     "text": [
      "\n"
     ]
    }
   ],
   "source": [
    "form_emb = []\n",
    "for form in tqdm(list_formula[:100000]):\n",
    "        feat = feat_ext(form)[0]\n",
    "        ans_emb = np.mean(feat, axis=0)\n",
    "        form_emb.append(ans_emb)"
   ]
  },
  {
   "cell_type": "code",
   "execution_count": 6,
   "metadata": {},
   "outputs": [],
   "source": [
    "form_emb = np.array(form_emb)"
   ]
  },
  {
   "cell_type": "code",
   "execution_count": 7,
   "metadata": {},
   "outputs": [
    {
     "data": {
      "text/plain": [
       "(100000, 768)"
      ]
     },
     "execution_count": 7,
     "metadata": {},
     "output_type": "execute_result"
    }
   ],
   "source": [
    "form_emb.shape"
   ]
  },
  {
   "cell_type": "code",
   "execution_count": 8,
   "metadata": {},
   "outputs": [],
   "source": [
    "nbrs = NearestNeighbors(n_neighbors=5, algorithm='ball_tree').fit(form_emb)"
   ]
  },
  {
   "cell_type": "code",
   "execution_count": 9,
   "metadata": {},
   "outputs": [],
   "source": [
    "distances, indices = nbrs.kneighbors(form_emb[:20])"
   ]
  },
  {
   "cell_type": "code",
   "execution_count": 10,
   "metadata": {
    "scrolled": true
   },
   "outputs": [
    {
     "data": {
      "text/html": [
       "<div style=\"font-family: Times New Roman; font-size: 18px; padding-bottom:10px; margin-left: 15px\">$\\frac{(n + 1)(2n^2 + n + 6)}{6}$ </div>"
      ],
      "text/plain": [
       "<IPython.core.display.HTML object>"
      ]
     },
     "metadata": {},
     "output_type": "display_data"
    },
    {
     "data": {
      "text/html": [
       "<div style=\"font-family: Times New Roman; font-size: 18px; padding-bottom:10px; margin-left: 15px\">$\\frac{(n + 1)(2n^2 + n + 6)}{6}$ </div>"
      ],
      "text/plain": [
       "<IPython.core.display.HTML object>"
      ]
     },
     "metadata": {},
     "output_type": "display_data"
    },
    {
     "data": {
      "text/html": [
       "<div style=\"font-family: Times New Roman; font-size: 18px; padding-bottom:10px; margin-left: 15px\">$\\frac{n^2(n + 1)}{2}$ </div>"
      ],
      "text/plain": [
       "<IPython.core.display.HTML object>"
      ]
     },
     "metadata": {},
     "output_type": "display_data"
    },
    {
     "data": {
      "text/html": [
       "<div style=\"font-family: Times New Roman; font-size: 18px; padding-bottom:10px; margin-left: 15px\">$\\frac{n(n - 1)(n - 2)}{6} + \\frac{n(n - 1)}{2} + 1$ </div>"
      ],
      "text/plain": [
       "<IPython.core.display.HTML object>"
      ]
     },
     "metadata": {},
     "output_type": "display_data"
    },
    {
     "data": {
      "text/html": [
       "<div style=\"font-family: Times New Roman; font-size: 18px; padding-bottom:10px; margin-left: 15px\">$\\frac{2n^3 + 3n^2 − 5n}{6}$ </div>"
      ],
      "text/plain": [
       "<IPython.core.display.HTML object>"
      ]
     },
     "metadata": {},
     "output_type": "display_data"
    },
    {
     "data": {
      "text/html": [
       "<div style=\"font-family: Times New Roman; font-size: 18px; padding-bottom:10px; margin-left: 15px\">$\\frac{1}{16} ( 2n^4 + 8n^3 + 8n^2 - 1 + (-1)^n)$ </div>"
      ],
      "text/plain": [
       "<IPython.core.display.HTML object>"
      ]
     },
     "metadata": {},
     "output_type": "display_data"
    },
    {
     "name": "stdout",
     "output_type": "stream",
     "text": [
      "=========================================\n"
     ]
    },
    {
     "data": {
      "text/html": [
       "<div style=\"font-family: Times New Roman; font-size: 18px; padding-bottom:10px; margin-left: 15px\">$D_{T^*}=(I-TT^*)^{1/2}$ </div>"
      ],
      "text/plain": [
       "<IPython.core.display.HTML object>"
      ]
     },
     "metadata": {},
     "output_type": "display_data"
    },
    {
     "data": {
      "text/html": [
       "<div style=\"font-family: Times New Roman; font-size: 18px; padding-bottom:10px; margin-left: 15px\">$D_{T^*}=(I-TT^*)^{1/2}$ </div>"
      ],
      "text/plain": [
       "<IPython.core.display.HTML object>"
      ]
     },
     "metadata": {},
     "output_type": "display_data"
    },
    {
     "data": {
      "text/html": [
       "<div style=\"font-family: Times New Roman; font-size: 18px; padding-bottom:10px; margin-left: 15px\">$2B(T^\\mathstrut+T^*)B^*$ </div>"
      ],
      "text/plain": [
       "<IPython.core.display.HTML object>"
      ]
     },
     "metadata": {},
     "output_type": "display_data"
    },
    {
     "data": {
      "text/html": [
       "<div style=\"font-family: Times New Roman; font-size: 18px; padding-bottom:10px; margin-left: 15px\">$Q^{-1/2}=U^*D^{-1/2}U$ </div>"
      ],
      "text/plain": [
       "<IPython.core.display.HTML object>"
      ]
     },
     "metadata": {},
     "output_type": "display_data"
    },
    {
     "data": {
      "text/html": [
       "<div style=\"font-family: Times New Roman; font-size: 18px; padding-bottom:10px; margin-left: 15px\">$T={1\\over 4 }(TT^*+3I)$ </div>"
      ],
      "text/plain": [
       "<IPython.core.display.HTML object>"
      ]
     },
     "metadata": {},
     "output_type": "display_data"
    },
    {
     "data": {
      "text/html": [
       "<div style=\"font-family: Times New Roman; font-size: 18px; padding-bottom:10px; margin-left: 15px\">$Tf(I-T^*T)=f(I-TT^*)T$ </div>"
      ],
      "text/plain": [
       "<IPython.core.display.HTML object>"
      ]
     },
     "metadata": {},
     "output_type": "display_data"
    },
    {
     "name": "stdout",
     "output_type": "stream",
     "text": [
      "=========================================\n"
     ]
    },
    {
     "data": {
      "text/html": [
       "<div style=\"font-family: Times New Roman; font-size: 18px; padding-bottom:10px; margin-left: 15px\">$\\pi_i:\\mathbb{R}^n\\to\\mathbb{R}^{n-1}$ </div>"
      ],
      "text/plain": [
       "<IPython.core.display.HTML object>"
      ]
     },
     "metadata": {},
     "output_type": "display_data"
    },
    {
     "data": {
      "text/html": [
       "<div style=\"font-family: Times New Roman; font-size: 18px; padding-bottom:10px; margin-left: 15px\">$\\pi_i:\\mathbb{R}^n\\to\\mathbb{R}^{n-1}$ </div>"
      ],
      "text/plain": [
       "<IPython.core.display.HTML object>"
      ]
     },
     "metadata": {},
     "output_type": "display_data"
    },
    {
     "data": {
      "text/html": [
       "<div style=\"font-family: Times New Roman; font-size: 18px; padding-bottom:10px; margin-left: 15px\">$\\rho_i:\\mathbb{R}^n\\rightarrow\\mathbb{R}$ </div>"
      ],
      "text/plain": [
       "<IPython.core.display.HTML object>"
      ]
     },
     "metadata": {},
     "output_type": "display_data"
    },
    {
     "data": {
      "text/html": [
       "<div style=\"font-family: Times New Roman; font-size: 18px; padding-bottom:10px; margin-left: 15px\">$\\psi:M\\rightarrow\\mathbb{R}^{n+1}$ </div>"
      ],
      "text/plain": [
       "<IPython.core.display.HTML object>"
      ]
     },
     "metadata": {},
     "output_type": "display_data"
    },
    {
     "data": {
      "text/html": [
       "<div style=\"font-family: Times New Roman; font-size: 18px; padding-bottom:10px; margin-left: 15px\">$v_i:\\mathbb{R}^n\\rightarrow\\mathbb{R}$ </div>"
      ],
      "text/plain": [
       "<IPython.core.display.HTML object>"
      ]
     },
     "metadata": {},
     "output_type": "display_data"
    },
    {
     "data": {
      "text/html": [
       "<div style=\"font-family: Times New Roman; font-size: 18px; padding-bottom:10px; margin-left: 15px\">$g^i:\\mathbb{R}^n\\rightarrow\\mathbb{R}$ </div>"
      ],
      "text/plain": [
       "<IPython.core.display.HTML object>"
      ]
     },
     "metadata": {},
     "output_type": "display_data"
    },
    {
     "name": "stdout",
     "output_type": "stream",
     "text": [
      "=========================================\n"
     ]
    },
    {
     "data": {
      "text/html": [
       "<div style=\"font-family: Times New Roman; font-size: 18px; padding-bottom:10px; margin-left: 15px\">$g\\in C_P(A)$ </div>"
      ],
      "text/plain": [
       "<IPython.core.display.HTML object>"
      ]
     },
     "metadata": {},
     "output_type": "display_data"
    },
    {
     "data": {
      "text/html": [
       "<div style=\"font-family: Times New Roman; font-size: 18px; padding-bottom:10px; margin-left: 15px\">$g\\in C_P(A)$ </div>"
      ],
      "text/plain": [
       "<IPython.core.display.HTML object>"
      ]
     },
     "metadata": {},
     "output_type": "display_data"
    },
    {
     "data": {
      "text/html": [
       "<div style=\"font-family: Times New Roman; font-size: 18px; padding-bottom:10px; margin-left: 15px\">$c_1(L)\\in A^1(X)$ </div>"
      ],
      "text/plain": [
       "<IPython.core.display.HTML object>"
      ]
     },
     "metadata": {},
     "output_type": "display_data"
    },
    {
     "data": {
      "text/html": [
       "<div style=\"font-family: Times New Roman; font-size: 18px; padding-bottom:10px; margin-left: 15px\">$\\phi_g\\in H(X)$ </div>"
      ],
      "text/plain": [
       "<IPython.core.display.HTML object>"
      ]
     },
     "metadata": {},
     "output_type": "display_data"
    },
    {
     "data": {
      "text/html": [
       "<div style=\"font-family: Times New Roman; font-size: 18px; padding-bottom:10px; margin-left: 15px\">$A\\in K(X)$ </div>"
      ],
      "text/plain": [
       "<IPython.core.display.HTML object>"
      ]
     },
     "metadata": {},
     "output_type": "display_data"
    },
    {
     "data": {
      "text/html": [
       "<div style=\"font-family: Times New Roman; font-size: 18px; padding-bottom:10px; margin-left: 15px\">$g\\in O(H_x)$ </div>"
      ],
      "text/plain": [
       "<IPython.core.display.HTML object>"
      ]
     },
     "metadata": {},
     "output_type": "display_data"
    },
    {
     "name": "stdout",
     "output_type": "stream",
     "text": [
      "=========================================\n"
     ]
    },
    {
     "data": {
      "text/html": [
       "<div style=\"font-family: Times New Roman; font-size: 18px; padding-bottom:10px; margin-left: 15px\">$2^{x/2}\\geqslant x$ </div>"
      ],
      "text/plain": [
       "<IPython.core.display.HTML object>"
      ]
     },
     "metadata": {},
     "output_type": "display_data"
    },
    {
     "data": {
      "text/html": [
       "<div style=\"font-family: Times New Roman; font-size: 18px; padding-bottom:10px; margin-left: 15px\">$2^{x/2}\\geqslant x$ </div>"
      ],
      "text/plain": [
       "<IPython.core.display.HTML object>"
      ]
     },
     "metadata": {},
     "output_type": "display_data"
    },
    {
     "data": {
      "text/html": [
       "<div style=\"font-family: Times New Roman; font-size: 18px; padding-bottom:10px; margin-left: 15px\">$x^2 \\geq 2x&gt;x+1$ </div>"
      ],
      "text/plain": [
       "<IPython.core.display.HTML object>"
      ]
     },
     "metadata": {},
     "output_type": "display_data"
    },
    {
     "data": {
      "text/html": [
       "<div style=\"font-family: Times New Roman; font-size: 18px; padding-bottom:10px; margin-left: 15px\">$\\geqslant \\dfrac{1}{2^2+1}$ </div>"
      ],
      "text/plain": [
       "<IPython.core.display.HTML object>"
      ]
     },
     "metadata": {},
     "output_type": "display_data"
    },
    {
     "data": {
      "text/html": [
       "<div style=\"font-family: Times New Roman; font-size: 18px; padding-bottom:10px; margin-left: 15px\">$\\sqrt{2} \\leqslant 2$ </div>"
      ],
      "text/plain": [
       "<IPython.core.display.HTML object>"
      ]
     },
     "metadata": {},
     "output_type": "display_data"
    },
    {
     "data": {
      "text/html": [
       "<div style=\"font-family: Times New Roman; font-size: 18px; padding-bottom:10px; margin-left: 15px\">$x_n\\geq \\sqrt{2} $ </div>"
      ],
      "text/plain": [
       "<IPython.core.display.HTML object>"
      ]
     },
     "metadata": {},
     "output_type": "display_data"
    },
    {
     "name": "stdout",
     "output_type": "stream",
     "text": [
      "=========================================\n"
     ]
    },
    {
     "data": {
      "text/html": [
       "<div style=\"font-family: Times New Roman; font-size: 18px; padding-bottom:10px; margin-left: 15px\">$ b\\in f(U) $ </div>"
      ],
      "text/plain": [
       "<IPython.core.display.HTML object>"
      ]
     },
     "metadata": {},
     "output_type": "display_data"
    },
    {
     "data": {
      "text/html": [
       "<div style=\"font-family: Times New Roman; font-size: 18px; padding-bottom:10px; margin-left: 15px\">$ b\\in f(U) $ </div>"
      ],
      "text/plain": [
       "<IPython.core.display.HTML object>"
      ]
     },
     "metadata": {},
     "output_type": "display_data"
    },
    {
     "data": {
      "text/html": [
       "<div style=\"font-family: Times New Roman; font-size: 18px; padding-bottom:10px; margin-left: 15px\">$c\\in f(a,b)$ </div>"
      ],
      "text/plain": [
       "<IPython.core.display.HTML object>"
      ]
     },
     "metadata": {},
     "output_type": "display_data"
    },
    {
     "data": {
      "text/html": [
       "<div style=\"font-family: Times New Roman; font-size: 18px; padding-bottom:10px; margin-left: 15px\">$a\\in U(R)$ </div>"
      ],
      "text/plain": [
       "<IPython.core.display.HTML object>"
      ]
     },
     "metadata": {},
     "output_type": "display_data"
    },
    {
     "data": {
      "text/html": [
       "<div style=\"font-family: Times New Roman; font-size: 18px; padding-bottom:10px; margin-left: 15px\">$f(b)\\in\\text{Int}(U)$ </div>"
      ],
      "text/plain": [
       "<IPython.core.display.HTML object>"
      ]
     },
     "metadata": {},
     "output_type": "display_data"
    },
    {
     "data": {
      "text/html": [
       "<div style=\"font-family: Times New Roman; font-size: 18px; padding-bottom:10px; margin-left: 15px\">$f(x)\\in f(A)$ </div>"
      ],
      "text/plain": [
       "<IPython.core.display.HTML object>"
      ]
     },
     "metadata": {},
     "output_type": "display_data"
    },
    {
     "name": "stdout",
     "output_type": "stream",
     "text": [
      "=========================================\n"
     ]
    },
    {
     "data": {
      "text/html": [
       "<div style=\"font-family: Times New Roman; font-size: 18px; padding-bottom:10px; margin-left: 15px\">$\\int_0^1x^{-1}\\mathrm dx=\\lim_{c\\searrow 0}\\int_c^1x^{-1}\\mathrm dx=\\lim_{c\\searrow 0}(-\\log x)=\\infty.$ </div>"
      ],
      "text/plain": [
       "<IPython.core.display.HTML object>"
      ]
     },
     "metadata": {},
     "output_type": "display_data"
    },
    {
     "data": {
      "text/html": [
       "<div style=\"font-family: Times New Roman; font-size: 18px; padding-bottom:10px; margin-left: 15px\">$\\int_0^1x^{-1}\\mathrm dx=\\lim_{c\\searrow 0}\\int_c^1x^{-1}\\mathrm dx=\\lim_{c\\searrow 0}(-\\log x)=\\infty.$ </div>"
      ],
      "text/plain": [
       "<IPython.core.display.HTML object>"
      ]
     },
     "metadata": {},
     "output_type": "display_data"
    },
    {
     "data": {
      "text/html": [
       "<div style=\"font-family: Times New Roman; font-size: 18px; padding-bottom:10px; margin-left: 15px\">$\\displaystyle \\int 2^{-x}\\,dx=\\sum_{x=0}^{\\infty}\\lim_{k\\to\\infty}\\dfrac{2^{-x}}{k}$ </div>"
      ],
      "text/plain": [
       "<IPython.core.display.HTML object>"
      ]
     },
     "metadata": {},
     "output_type": "display_data"
    },
    {
     "data": {
      "text/html": [
       "<div style=\"font-family: Times New Roman; font-size: 18px; padding-bottom:10px; margin-left: 15px\">$\\lim_{n\\rightarrow \\infty}\\int_{0}^1f_n(x)\\mathrm{d}x= \\int_{0}^1\\frac{1}{\\sqrt{x}}\\mathrm{d}x$ </div>"
      ],
      "text/plain": [
       "<IPython.core.display.HTML object>"
      ]
     },
     "metadata": {},
     "output_type": "display_data"
    },
    {
     "data": {
      "text/html": [
       "<div style=\"font-family: Times New Roman; font-size: 18px; padding-bottom:10px; margin-left: 15px\">$\\lim_{s\\to \\infty }F(s)=\\lim_{s\\to \\infty}\\int_0^\\infty f(t)e^{-st}\\,dt=\\int_0^\\infty \\lim_{s\\to \\infty}f(t)e^{-st}\\,dt=\\int_0^\\infty f(t)\\cdot 0\\,dt=0$ </div>"
      ],
      "text/plain": [
       "<IPython.core.display.HTML object>"
      ]
     },
     "metadata": {},
     "output_type": "display_data"
    },
    {
     "data": {
      "text/html": [
       "<div style=\"font-family: Times New Roman; font-size: 18px; padding-bottom:10px; margin-left: 15px\">$\\lim_{n\\to\\infty}\\int_0^{\\frac\\pi2}\\cos^n(t)\\mathrm dt=\\int_0^{\\frac\\pi2}\\lim_{n\\to\\infty}cos^n(t)\\mathrm dt$ </div>"
      ],
      "text/plain": [
       "<IPython.core.display.HTML object>"
      ]
     },
     "metadata": {},
     "output_type": "display_data"
    },
    {
     "name": "stdout",
     "output_type": "stream",
     "text": [
      "=========================================\n"
     ]
    },
    {
     "data": {
      "text/html": [
       "<div style=\"font-family: Times New Roman; font-size: 18px; padding-bottom:10px; margin-left: 15px\">$ \\left(6\\begin{bmatrix}1&amp;0&amp;0\\\\0&amp;1&amp;0\\\\0&amp;0&amp;1\\end{bmatrix}+\\begin{bmatrix}0&amp;1&amp;0\\\\0&amp;0&amp;1\\\\0&amp;0&amp;0\\end{bmatrix}\\right)^n $ </div>"
      ],
      "text/plain": [
       "<IPython.core.display.HTML object>"
      ]
     },
     "metadata": {},
     "output_type": "display_data"
    },
    {
     "data": {
      "text/html": [
       "<div style=\"font-family: Times New Roman; font-size: 18px; padding-bottom:10px; margin-left: 15px\">$ \\left(6\\begin{bmatrix}1&amp;0&amp;0\\\\0&amp;1&amp;0\\\\0&amp;0&amp;1\\end{bmatrix}+\\begin{bmatrix}0&amp;1&amp;0\\\\0&amp;0&amp;1\\\\0&amp;0&amp;0\\end{bmatrix}\\right)^n $ </div>"
      ],
      "text/plain": [
       "<IPython.core.display.HTML object>"
      ]
     },
     "metadata": {},
     "output_type": "display_data"
    },
    {
     "data": {
      "text/html": [
       "<div style=\"font-family: Times New Roman; font-size: 18px; padding-bottom:10px; margin-left: 15px\">$\\begin{bmatrix}1&amp;1&amp;0&amp;0\\\\0&amp;1&amp;0&amp;0\\\\0&amp;0&amp;-1&amp;1\\\\0&amp;0&amp;0&amp;-1\\end{bmatrix}.$ </div>"
      ],
      "text/plain": [
       "<IPython.core.display.HTML object>"
      ]
     },
     "metadata": {},
     "output_type": "display_data"
    },
    {
     "data": {
      "text/html": [
       "<div style=\"font-family: Times New Roman; font-size: 18px; padding-bottom:10px; margin-left: 15px\">$ q=\\begin{bmatrix}1&amp;0&amp;0\\\\ 0&amp;1&amp;0\\\\ 0&amp;0&amp;0\\end{bmatrix},\\ \\ \\ p=\\begin{bmatrix}1/2&amp;1/2&amp;0\\\\1/2&amp;1/2&amp;0\\\\0&amp;0&amp;0\\end{bmatrix},\\ \\ \\  u=\\begin{bmatrix}0&amp;0&amp;1\\\\0&amp;1&amp;0\\\\1&amp;0&amp;0\\end{bmatrix}. $ </div>"
      ],
      "text/plain": [
       "<IPython.core.display.HTML object>"
      ]
     },
     "metadata": {},
     "output_type": "display_data"
    },
    {
     "data": {
      "text/html": [
       "<div style=\"font-family: Times New Roman; font-size: 18px; padding-bottom:10px; margin-left: 15px\">$\\begin{bmatrix}\\lambda&amp;1&amp;0&amp;0\\\\0&amp;\\lambda&amp;1&amp;0\\\\0&amp;0&amp;\\lambda&amp;1\\\\0&amp;0&amp;0&amp;\\lambda\\end{bmatrix}$ </div>"
      ],
      "text/plain": [
       "<IPython.core.display.HTML object>"
      ]
     },
     "metadata": {},
     "output_type": "display_data"
    },
    {
     "data": {
      "text/html": [
       "<div style=\"font-family: Times New Roman; font-size: 18px; padding-bottom:10px; margin-left: 15px\">$A = \\begin{bmatrix}1&amp;0&amp;0\\\\0&amp;1&amp;0\\\\0&amp;0&amp;0\\end{bmatrix}$ </div>"
      ],
      "text/plain": [
       "<IPython.core.display.HTML object>"
      ]
     },
     "metadata": {},
     "output_type": "display_data"
    },
    {
     "name": "stdout",
     "output_type": "stream",
     "text": [
      "=========================================\n"
     ]
    },
    {
     "data": {
      "text/html": [
       "<div style=\"font-family: Times New Roman; font-size: 18px; padding-bottom:10px; margin-left: 15px\">$(||f||_p^p + ||g|| _p^p ) ^{1/p} \\le 2^{1/p -1} ( ||f||_p + ||g||_p)$ </div>"
      ],
      "text/plain": [
       "<IPython.core.display.HTML object>"
      ]
     },
     "metadata": {},
     "output_type": "display_data"
    },
    {
     "data": {
      "text/html": [
       "<div style=\"font-family: Times New Roman; font-size: 18px; padding-bottom:10px; margin-left: 15px\">$(||f||_p^p + ||g|| _p^p ) ^{1/p} \\le 2^{1/p -1} ( ||f||_p + ||g||_p)$ </div>"
      ],
      "text/plain": [
       "<IPython.core.display.HTML object>"
      ]
     },
     "metadata": {},
     "output_type": "display_data"
    },
    {
     "data": {
      "text/html": [
       "<div style=\"font-family: Times New Roman; font-size: 18px; padding-bottom:10px; margin-left: 15px\">$||\\overline{X_n}||_p \\leq \\frac{p}{p-1} ||X_n||_p?$ </div>"
      ],
      "text/plain": [
       "<IPython.core.display.HTML object>"
      ]
     },
     "metadata": {},
     "output_type": "display_data"
    },
    {
     "data": {
      "text/html": [
       "<div style=\"font-family: Times New Roman; font-size: 18px; padding-bottom:10px; margin-left: 15px\">$\\lVert f \\rVert_{X}^2 \\leq C_1(\\lVert f \\rVert_{Y}^2 + \\lVert f \\rVert_{Z}^2)$ </div>"
      ],
      "text/plain": [
       "<IPython.core.display.HTML object>"
      ]
     },
     "metadata": {},
     "output_type": "display_data"
    },
    {
     "data": {
      "text/html": [
       "<div style=\"font-family: Times New Roman; font-size: 18px; padding-bottom:10px; margin-left: 15px\">$ |f(x) h (y) | \\le (1 - \\theta ) |f(x) |^{p _\\theta } |h (y) |^{ \\frac{q_\\theta ' }{ q_0 ' }} + \\theta |f(x) |^{ \\frac{p_\\theta}{p_1}} |h(y) |^{ q_\\theta ' } $ </div>"
      ],
      "text/plain": [
       "<IPython.core.display.HTML object>"
      ]
     },
     "metadata": {},
     "output_type": "display_data"
    },
    {
     "data": {
      "text/html": [
       "<div style=\"font-family: Times New Roman; font-size: 18px; padding-bottom:10px; margin-left: 15px\">$|x_1|+...+|x_n| = \\sqrt{x_1^2} + ... + \\sqrt{ x_n^2} \\ge \\sqrt{x_1^2 +...+x_n^2}\\ \\ \\therefore\\ ||x||_1 \\ge ||x||_2$ </div>"
      ],
      "text/plain": [
       "<IPython.core.display.HTML object>"
      ]
     },
     "metadata": {},
     "output_type": "display_data"
    },
    {
     "name": "stdout",
     "output_type": "stream",
     "text": [
      "=========================================\n"
     ]
    },
    {
     "data": {
      "text/html": [
       "<div style=\"font-family: Times New Roman; font-size: 18px; padding-bottom:10px; margin-left: 15px\">$b+c=4$ </div>"
      ],
      "text/plain": [
       "<IPython.core.display.HTML object>"
      ]
     },
     "metadata": {},
     "output_type": "display_data"
    },
    {
     "data": {
      "text/html": [
       "<div style=\"font-family: Times New Roman; font-size: 18px; padding-bottom:10px; margin-left: 15px\">$b+c=4$ </div>"
      ],
      "text/plain": [
       "<IPython.core.display.HTML object>"
      ]
     },
     "metadata": {},
     "output_type": "display_data"
    },
    {
     "data": {
      "text/html": [
       "<div style=\"font-family: Times New Roman; font-size: 18px; padding-bottom:10px; margin-left: 15px\">$b+c=9$ </div>"
      ],
      "text/plain": [
       "<IPython.core.display.HTML object>"
      ]
     },
     "metadata": {},
     "output_type": "display_data"
    },
    {
     "data": {
      "text/html": [
       "<div style=\"font-family: Times New Roman; font-size: 18px; padding-bottom:10px; margin-left: 15px\">$a+b+c=12$ </div>"
      ],
      "text/plain": [
       "<IPython.core.display.HTML object>"
      ]
     },
     "metadata": {},
     "output_type": "display_data"
    },
    {
     "data": {
      "text/html": [
       "<div style=\"font-family: Times New Roman; font-size: 18px; padding-bottom:10px; margin-left: 15px\">$b+c=113$ </div>"
      ],
      "text/plain": [
       "<IPython.core.display.HTML object>"
      ]
     },
     "metadata": {},
     "output_type": "display_data"
    },
    {
     "data": {
      "text/html": [
       "<div style=\"font-family: Times New Roman; font-size: 18px; padding-bottom:10px; margin-left: 15px\">$b+c-a=x$ </div>"
      ],
      "text/plain": [
       "<IPython.core.display.HTML object>"
      ]
     },
     "metadata": {},
     "output_type": "display_data"
    },
    {
     "name": "stdout",
     "output_type": "stream",
     "text": [
      "=========================================\n"
     ]
    },
    {
     "data": {
      "text/html": [
       "<div style=\"font-family: Times New Roman; font-size: 18px; padding-bottom:10px; margin-left: 15px\">$\\arg{(z)} \\in [0, 2\\pi)$ </div>"
      ],
      "text/plain": [
       "<IPython.core.display.HTML object>"
      ]
     },
     "metadata": {},
     "output_type": "display_data"
    },
    {
     "data": {
      "text/html": [
       "<div style=\"font-family: Times New Roman; font-size: 18px; padding-bottom:10px; margin-left: 15px\">$\\arg{(z)} \\in [0, 2\\pi)$ </div>"
      ],
      "text/plain": [
       "<IPython.core.display.HTML object>"
      ]
     },
     "metadata": {},
     "output_type": "display_data"
    },
    {
     "data": {
      "text/html": [
       "<div style=\"font-family: Times New Roman; font-size: 18px; padding-bottom:10px; margin-left: 15px\">$\\arg(z)\\in[0,2\\pi)$ </div>"
      ],
      "text/plain": [
       "<IPython.core.display.HTML object>"
      ]
     },
     "metadata": {},
     "output_type": "display_data"
    },
    {
     "data": {
      "text/html": [
       "<div style=\"font-family: Times New Roman; font-size: 18px; padding-bottom:10px; margin-left: 15px\">$\\theta = \\arg{\\sqrt{a^2 - 4b}} \\in [0, 2\\pi) \\tag 4$ </div>"
      ],
      "text/plain": [
       "<IPython.core.display.HTML object>"
      ]
     },
     "metadata": {},
     "output_type": "display_data"
    },
    {
     "data": {
      "text/html": [
       "<div style=\"font-family: Times New Roman; font-size: 18px; padding-bottom:10px; margin-left: 15px\">$\\phi \\in[0, 2\\pi]$ </div>"
      ],
      "text/plain": [
       "<IPython.core.display.HTML object>"
      ]
     },
     "metadata": {},
     "output_type": "display_data"
    },
    {
     "data": {
      "text/html": [
       "<div style=\"font-family: Times New Roman; font-size: 18px; padding-bottom:10px; margin-left: 15px\">$\\theta \\in \\left[0,2\\pi\\right)$ </div>"
      ],
      "text/plain": [
       "<IPython.core.display.HTML object>"
      ]
     },
     "metadata": {},
     "output_type": "display_data"
    },
    {
     "name": "stdout",
     "output_type": "stream",
     "text": [
      "=========================================\n"
     ]
    },
    {
     "data": {
      "text/html": [
       "<div style=\"font-family: Times New Roman; font-size: 18px; padding-bottom:10px; margin-left: 15px\">$x\\in Ker f$ </div>"
      ],
      "text/plain": [
       "<IPython.core.display.HTML object>"
      ]
     },
     "metadata": {},
     "output_type": "display_data"
    },
    {
     "data": {
      "text/html": [
       "<div style=\"font-family: Times New Roman; font-size: 18px; padding-bottom:10px; margin-left: 15px\">$x\\in Ker f$ </div>"
      ],
      "text/plain": [
       "<IPython.core.display.HTML object>"
      ]
     },
     "metadata": {},
     "output_type": "display_data"
    },
    {
     "data": {
      "text/html": [
       "<div style=\"font-family: Times New Roman; font-size: 18px; padding-bottom:10px; margin-left: 15px\">$u\\in Imf$ </div>"
      ],
      "text/plain": [
       "<IPython.core.display.HTML object>"
      ]
     },
     "metadata": {},
     "output_type": "display_data"
    },
    {
     "data": {
      "text/html": [
       "<div style=\"font-family: Times New Roman; font-size: 18px; padding-bottom:10px; margin-left: 15px\">$y\\in \\ker (f)$ </div>"
      ],
      "text/plain": [
       "<IPython.core.display.HTML object>"
      ]
     },
     "metadata": {},
     "output_type": "display_data"
    },
    {
     "data": {
      "text/html": [
       "<div style=\"font-family: Times New Roman; font-size: 18px; padding-bottom:10px; margin-left: 15px\">$x\\in Null(T)$ </div>"
      ],
      "text/plain": [
       "<IPython.core.display.HTML object>"
      ]
     },
     "metadata": {},
     "output_type": "display_data"
    },
    {
     "data": {
      "text/html": [
       "<div style=\"font-family: Times New Roman; font-size: 18px; padding-bottom:10px; margin-left: 15px\">$y\\in Ker(G)$ </div>"
      ],
      "text/plain": [
       "<IPython.core.display.HTML object>"
      ]
     },
     "metadata": {},
     "output_type": "display_data"
    },
    {
     "name": "stdout",
     "output_type": "stream",
     "text": [
      "=========================================\n"
     ]
    },
    {
     "data": {
      "text/html": [
       "<div style=\"font-family: Times New Roman; font-size: 18px; padding-bottom:10px; margin-left: 15px\">$\\int_0^\\infty\\,\\frac{\\sin(kx)}{x^2+1}\\,\\text{d}x=\\frac{\\exp(-k)\\,\\text{Ei}(+k)-\\exp(+k)\\,\\text{Ei}(-k)}{2}$ </div>"
      ],
      "text/plain": [
       "<IPython.core.display.HTML object>"
      ]
     },
     "metadata": {},
     "output_type": "display_data"
    },
    {
     "data": {
      "text/html": [
       "<div style=\"font-family: Times New Roman; font-size: 18px; padding-bottom:10px; margin-left: 15px\">$\\int_0^\\infty\\,\\frac{\\sin(kx)}{x^2+1}\\,\\text{d}x=\\frac{\\exp(-k)\\,\\text{Ei}(+k)-\\exp(+k)\\,\\text{Ei}(-k)}{2}$ </div>"
      ],
      "text/plain": [
       "<IPython.core.display.HTML object>"
      ]
     },
     "metadata": {},
     "output_type": "display_data"
    },
    {
     "data": {
      "text/html": [
       "<div style=\"font-family: Times New Roman; font-size: 18px; padding-bottom:10px; margin-left: 15px\">$\\frac{\\text{d}}{\\text{d}x}\\,\\text{arctan}(x)=\\sum_{k=0}^\\infty\\,\\frac{(-1)^k}{2^{\\frac{k+1}{2}}}\\,\\sin\\left(\\frac{(k+1)\\pi}{4}\\right)\\,(x-1)^k$ </div>"
      ],
      "text/plain": [
       "<IPython.core.display.HTML object>"
      ]
     },
     "metadata": {},
     "output_type": "display_data"
    },
    {
     "data": {
      "text/html": [
       "<div style=\"font-family: Times New Roman; font-size: 18px; padding-bottom:10px; margin-left: 15px\">$ \\int\\log(1+ae^{bx})\\,\\mathrm{d}x =-\\frac1b\\,\\mathrm{Li}_2\\!\\left(-ae^{bx}\\right)+C\\tag{2} $ </div>"
      ],
      "text/plain": [
       "<IPython.core.display.HTML object>"
      ]
     },
     "metadata": {},
     "output_type": "display_data"
    },
    {
     "data": {
      "text/html": [
       "<div style=\"font-family: Times New Roman; font-size: 18px; padding-bottom:10px; margin-left: 15px\">$ \\int_{0}^{+\\infty}x^\\alpha \\log(x)e^{-2x}\\,dx = \\frac{\\Gamma(\\alpha+1)}{2^{\\alpha+1}}\\left[\\psi(\\alpha+1)-\\log 2\\right]\\tag{C}$ </div>"
      ],
      "text/plain": [
       "<IPython.core.display.HTML object>"
      ]
     },
     "metadata": {},
     "output_type": "display_data"
    },
    {
     "data": {
      "text/html": [
       "<div style=\"font-family: Times New Roman; font-size: 18px; padding-bottom:10px; margin-left: 15px\">$\\int_{-\\infty}^{+\\infty}\\,\\frac{x^\\alpha}{x^2+1}\\,\\text{d}x=\\pi\\,\\exp\\left(\\frac{\\text{i}\\pi\\alpha}{2}\\right)\\,,$ </div>"
      ],
      "text/plain": [
       "<IPython.core.display.HTML object>"
      ]
     },
     "metadata": {},
     "output_type": "display_data"
    },
    {
     "name": "stdout",
     "output_type": "stream",
     "text": [
      "=========================================\n"
     ]
    },
    {
     "data": {
      "text/html": [
       "<div style=\"font-family: Times New Roman; font-size: 18px; padding-bottom:10px; margin-left: 15px\">$ \\log(1-x) = -\\sum_n \\frac{x^n}{n} $ </div>"
      ],
      "text/plain": [
       "<IPython.core.display.HTML object>"
      ]
     },
     "metadata": {},
     "output_type": "display_data"
    },
    {
     "data": {
      "text/html": [
       "<div style=\"font-family: Times New Roman; font-size: 18px; padding-bottom:10px; margin-left: 15px\">$ \\log(1-x) = -\\sum_n \\frac{x^n}{n} $ </div>"
      ],
      "text/plain": [
       "<IPython.core.display.HTML object>"
      ]
     },
     "metadata": {},
     "output_type": "display_data"
    },
    {
     "data": {
      "text/html": [
       "<div style=\"font-family: Times New Roman; font-size: 18px; padding-bottom:10px; margin-left: 15px\">$\\sum \\frac{z^n}{n} = -\\ln(1-z)$ </div>"
      ],
      "text/plain": [
       "<IPython.core.display.HTML object>"
      ]
     },
     "metadata": {},
     "output_type": "display_data"
    },
    {
     "data": {
      "text/html": [
       "<div style=\"font-family: Times New Roman; font-size: 18px; padding-bottom:10px; margin-left: 15px\">$\\displaystyle -\\frac{\\log(1-x)}{x} = \\sum_{n=0}^{\\infty} \\frac{x^n}{n+1}$ </div>"
      ],
      "text/plain": [
       "<IPython.core.display.HTML object>"
      ]
     },
     "metadata": {},
     "output_type": "display_data"
    },
    {
     "data": {
      "text/html": [
       "<div style=\"font-family: Times New Roman; font-size: 18px; padding-bottom:10px; margin-left: 15px\">$\\sum_{n=1}^{\\infty} H_nx^n = -\\frac{\\log(1-x)}{1-x}$ </div>"
      ],
      "text/plain": [
       "<IPython.core.display.HTML object>"
      ]
     },
     "metadata": {},
     "output_type": "display_data"
    },
    {
     "data": {
      "text/html": [
       "<div style=\"font-family: Times New Roman; font-size: 18px; padding-bottom:10px; margin-left: 15px\">$\\sum_{n=1}^{\\infty} a_n\\,x^n = -\\frac{\\log^2(1-x)}{1-x}$ </div>"
      ],
      "text/plain": [
       "<IPython.core.display.HTML object>"
      ]
     },
     "metadata": {},
     "output_type": "display_data"
    },
    {
     "name": "stdout",
     "output_type": "stream",
     "text": [
      "=========================================\n"
     ]
    },
    {
     "data": {
      "text/html": [
       "<div style=\"font-family: Times New Roman; font-size: 18px; padding-bottom:10px; margin-left: 15px\">$\\Delta(a) = (2, 2, 0) \\not= 0.$ </div>"
      ],
      "text/plain": [
       "<IPython.core.display.HTML object>"
      ]
     },
     "metadata": {},
     "output_type": "display_data"
    },
    {
     "data": {
      "text/html": [
       "<div style=\"font-family: Times New Roman; font-size: 18px; padding-bottom:10px; margin-left: 15px\">$\\Delta(a) = (2, 2, 0) \\not= 0.$ </div>"
      ],
      "text/plain": [
       "<IPython.core.display.HTML object>"
      ]
     },
     "metadata": {},
     "output_type": "display_data"
    },
    {
     "data": {
      "text/html": [
       "<div style=\"font-family: Times New Roman; font-size: 18px; padding-bottom:10px; margin-left: 15px\">$ \\vec{n} = (2, -5, 0) \\times (2, 0, -3) = (15, 6, 10). $ </div>"
      ],
      "text/plain": [
       "<IPython.core.display.HTML object>"
      ]
     },
     "metadata": {},
     "output_type": "display_data"
    },
    {
     "data": {
      "text/html": [
       "<div style=\"font-family: Times New Roman; font-size: 18px; padding-bottom:10px; margin-left: 15px\">$r_h(x, y) = (x, -y) \\ne (x, y) \\; \\text{if} \\; y \\ne 0; \\tag 1$ </div>"
      ],
      "text/plain": [
       "<IPython.core.display.HTML object>"
      ]
     },
     "metadata": {},
     "output_type": "display_data"
    },
    {
     "data": {
      "text/html": [
       "<div style=\"font-family: Times New Roman; font-size: 18px; padding-bottom:10px; margin-left: 15px\">$ 2 \\cdot (1, 0) + 4 \\cdot (0, 1) = (2, 4) $ </div>"
      ],
      "text/plain": [
       "<IPython.core.display.HTML object>"
      ]
     },
     "metadata": {},
     "output_type": "display_data"
    },
    {
     "data": {
      "text/html": [
       "<div style=\"font-family: Times New Roman; font-size: 18px; padding-bottom:10px; margin-left: 15px\">$\\vec x = (x,y) \\ne (0,0) = \\vec 0$ </div>"
      ],
      "text/plain": [
       "<IPython.core.display.HTML object>"
      ]
     },
     "metadata": {},
     "output_type": "display_data"
    },
    {
     "name": "stdout",
     "output_type": "stream",
     "text": [
      "=========================================\n"
     ]
    },
    {
     "data": {
      "text/html": [
       "<div style=\"font-family: Times New Roman; font-size: 18px; padding-bottom:10px; margin-left: 15px\">$\\{x_1,x_2,\\cdots,x_n\\}$ </div>"
      ],
      "text/plain": [
       "<IPython.core.display.HTML object>"
      ]
     },
     "metadata": {},
     "output_type": "display_data"
    },
    {
     "data": {
      "text/html": [
       "<div style=\"font-family: Times New Roman; font-size: 18px; padding-bottom:10px; margin-left: 15px\">$\\{x_1,x_2,\\cdots,x_n\\}$ </div>"
      ],
      "text/plain": [
       "<IPython.core.display.HTML object>"
      ]
     },
     "metadata": {},
     "output_type": "display_data"
    },
    {
     "data": {
      "text/html": [
       "<div style=\"font-family: Times New Roman; font-size: 18px; padding-bottom:10px; margin-left: 15px\">$G-\\{x_1,x_2,\\ldots,x_k\\}$ </div>"
      ],
      "text/plain": [
       "<IPython.core.display.HTML object>"
      ]
     },
     "metadata": {},
     "output_type": "display_data"
    },
    {
     "data": {
      "text/html": [
       "<div style=\"font-family: Times New Roman; font-size: 18px; padding-bottom:10px; margin-left: 15px\">$\\{x_1,x_2,x_3,...\\}$ </div>"
      ],
      "text/plain": [
       "<IPython.core.display.HTML object>"
      ]
     },
     "metadata": {},
     "output_type": "display_data"
    },
    {
     "data": {
      "text/html": [
       "<div style=\"font-family: Times New Roman; font-size: 18px; padding-bottom:10px; margin-left: 15px\">$(x_1,x_2,\\ldots,x_{n})$ </div>"
      ],
      "text/plain": [
       "<IPython.core.display.HTML object>"
      ]
     },
     "metadata": {},
     "output_type": "display_data"
    },
    {
     "data": {
      "text/html": [
       "<div style=\"font-family: Times New Roman; font-size: 18px; padding-bottom:10px; margin-left: 15px\">$ \\{x_1,x_2,..\\}$ </div>"
      ],
      "text/plain": [
       "<IPython.core.display.HTML object>"
      ]
     },
     "metadata": {},
     "output_type": "display_data"
    },
    {
     "name": "stdout",
     "output_type": "stream",
     "text": [
      "=========================================\n"
     ]
    },
    {
     "data": {
      "text/html": [
       "<div style=\"font-family: Times New Roman; font-size: 18px; padding-bottom:10px; margin-left: 15px\">$\\lnot x \\in x$ </div>"
      ],
      "text/plain": [
       "<IPython.core.display.HTML object>"
      ]
     },
     "metadata": {},
     "output_type": "display_data"
    },
    {
     "data": {
      "text/html": [
       "<div style=\"font-family: Times New Roman; font-size: 18px; padding-bottom:10px; margin-left: 15px\">$\\lnot x \\in x$ </div>"
      ],
      "text/plain": [
       "<IPython.core.display.HTML object>"
      ]
     },
     "metadata": {},
     "output_type": "display_data"
    },
    {
     "data": {
      "text/html": [
       "<div style=\"font-family: Times New Roman; font-size: 18px; padding-bottom:10px; margin-left: 15px\">$\\lnot \\forall x \\lnot \\lnot A$ </div>"
      ],
      "text/plain": [
       "<IPython.core.display.HTML object>"
      ]
     },
     "metadata": {},
     "output_type": "display_data"
    },
    {
     "data": {
      "text/html": [
       "<div style=\"font-family: Times New Roman; font-size: 18px; padding-bottom:10px; margin-left: 15px\">$\\neg \\exists x \\neg A$ </div>"
      ],
      "text/plain": [
       "<IPython.core.display.HTML object>"
      ]
     },
     "metadata": {},
     "output_type": "display_data"
    },
    {
     "data": {
      "text/html": [
       "<div style=\"font-family: Times New Roman; font-size: 18px; padding-bottom:10px; margin-left: 15px\">$\\lnot \\exists x \\lnot (x \\ge 0)$ </div>"
      ],
      "text/plain": [
       "<IPython.core.display.HTML object>"
      ]
     },
     "metadata": {},
     "output_type": "display_data"
    },
    {
     "data": {
      "text/html": [
       "<div style=\"font-family: Times New Roman; font-size: 18px; padding-bottom:10px; margin-left: 15px\">$\\lnot \\exists x E(x)$ </div>"
      ],
      "text/plain": [
       "<IPython.core.display.HTML object>"
      ]
     },
     "metadata": {},
     "output_type": "display_data"
    },
    {
     "name": "stdout",
     "output_type": "stream",
     "text": [
      "=========================================\n"
     ]
    },
    {
     "data": {
      "text/html": [
       "<div style=\"font-family: Times New Roman; font-size: 18px; padding-bottom:10px; margin-left: 15px\">$\\binom 41^3$ </div>"
      ],
      "text/plain": [
       "<IPython.core.display.HTML object>"
      ]
     },
     "metadata": {},
     "output_type": "display_data"
    },
    {
     "data": {
      "text/html": [
       "<div style=\"font-family: Times New Roman; font-size: 18px; padding-bottom:10px; margin-left: 15px\">$\\binom 41^3$ </div>"
      ],
      "text/plain": [
       "<IPython.core.display.HTML object>"
      ]
     },
     "metadata": {},
     "output_type": "display_data"
    },
    {
     "data": {
      "text/html": [
       "<div style=\"font-family: Times New Roman; font-size: 18px; padding-bottom:10px; margin-left: 15px\">$\\binom 4 1^3$ </div>"
      ],
      "text/plain": [
       "<IPython.core.display.HTML object>"
      ]
     },
     "metadata": {},
     "output_type": "display_data"
    },
    {
     "data": {
      "text/html": [
       "<div style=\"font-family: Times New Roman; font-size: 18px; padding-bottom:10px; margin-left: 15px\">$\\binom 73$ </div>"
      ],
      "text/plain": [
       "<IPython.core.display.HTML object>"
      ]
     },
     "metadata": {},
     "output_type": "display_data"
    },
    {
     "data": {
      "text/html": [
       "<div style=\"font-family: Times New Roman; font-size: 18px; padding-bottom:10px; margin-left: 15px\">$\\binom L3$ </div>"
      ],
      "text/plain": [
       "<IPython.core.display.HTML object>"
      ]
     },
     "metadata": {},
     "output_type": "display_data"
    },
    {
     "data": {
      "text/html": [
       "<div style=\"font-family: Times New Roman; font-size: 18px; padding-bottom:10px; margin-left: 15px\">$\\tbinom 43 \\tfrac 5{6^4}$ </div>"
      ],
      "text/plain": [
       "<IPython.core.display.HTML object>"
      ]
     },
     "metadata": {},
     "output_type": "display_data"
    },
    {
     "name": "stdout",
     "output_type": "stream",
     "text": [
      "=========================================\n"
     ]
    },
    {
     "data": {
      "text/html": [
       "<div style=\"font-family: Times New Roman; font-size: 18px; padding-bottom:10px; margin-left: 15px\">$\\sum\\limits_{n=1}^\\infty b_n&lt;\\infty$ </div>"
      ],
      "text/plain": [
       "<IPython.core.display.HTML object>"
      ]
     },
     "metadata": {},
     "output_type": "display_data"
    },
    {
     "data": {
      "text/html": [
       "<div style=\"font-family: Times New Roman; font-size: 18px; padding-bottom:10px; margin-left: 15px\">$\\sum\\limits_{n=1}^\\infty b_n&lt;\\infty$ </div>"
      ],
      "text/plain": [
       "<IPython.core.display.HTML object>"
      ]
     },
     "metadata": {},
     "output_type": "display_data"
    },
    {
     "data": {
      "text/html": [
       "<div style=\"font-family: Times New Roman; font-size: 18px; padding-bottom:10px; margin-left: 15px\">$\\sum_{n=1}^\\infty T_n&lt;\\infty$ </div>"
      ],
      "text/plain": [
       "<IPython.core.display.HTML object>"
      ]
     },
     "metadata": {},
     "output_type": "display_data"
    },
    {
     "data": {
      "text/html": [
       "<div style=\"font-family: Times New Roman; font-size: 18px; padding-bottom:10px; margin-left: 15px\">$\\sum\\limits_{n=1}^{\\infty}a_n=\\infty$ </div>"
      ],
      "text/plain": [
       "<IPython.core.display.HTML object>"
      ]
     },
     "metadata": {},
     "output_type": "display_data"
    },
    {
     "data": {
      "text/html": [
       "<div style=\"font-family: Times New Roman; font-size: 18px; padding-bottom:10px; margin-left: 15px\">$\\sum_{i=1}^\\infty |a_i|<\\infty$ </div>"
      ],
      "text/plain": [
       "<IPython.core.display.HTML object>"
      ]
     },
     "metadata": {},
     "output_type": "display_data"
    },
    {
     "data": {
      "text/html": [
       "<div style=\"font-family: Times New Roman; font-size: 18px; padding-bottom:10px; margin-left: 15px\">$\\sum_{n=0}^\\infty |a_n|<\\infty.$ </div>"
      ],
      "text/plain": [
       "<IPython.core.display.HTML object>"
      ]
     },
     "metadata": {},
     "output_type": "display_data"
    },
    {
     "name": "stdout",
     "output_type": "stream",
     "text": [
      "=========================================\n"
     ]
    },
    {
     "data": {
      "text/html": [
       "<div style=\"font-family: Times New Roman; font-size: 18px; padding-bottom:10px; margin-left: 15px\">$\\lambda_i,\\lambda_i$ </div>"
      ],
      "text/plain": [
       "<IPython.core.display.HTML object>"
      ]
     },
     "metadata": {},
     "output_type": "display_data"
    },
    {
     "data": {
      "text/html": [
       "<div style=\"font-family: Times New Roman; font-size: 18px; padding-bottom:10px; margin-left: 15px\">$\\lambda_i,\\lambda_i$ </div>"
      ],
      "text/plain": [
       "<IPython.core.display.HTML object>"
      ]
     },
     "metadata": {},
     "output_type": "display_data"
    },
    {
     "data": {
      "text/html": [
       "<div style=\"font-family: Times New Roman; font-size: 18px; padding-bottom:10px; margin-left: 15px\">$v_i,\\alpha^i$ </div>"
      ],
      "text/plain": [
       "<IPython.core.display.HTML object>"
      ]
     },
     "metadata": {},
     "output_type": "display_data"
    },
    {
     "data": {
      "text/html": [
       "<div style=\"font-family: Times New Roman; font-size: 18px; padding-bottom:10px; margin-left: 15px\">$\\Re\\lambda_j$ </div>"
      ],
      "text/plain": [
       "<IPython.core.display.HTML object>"
      ]
     },
     "metadata": {},
     "output_type": "display_data"
    },
    {
     "data": {
      "text/html": [
       "<div style=\"font-family: Times New Roman; font-size: 18px; padding-bottom:10px; margin-left: 15px\">$(k_2,\\lambda)$ </div>"
      ],
      "text/plain": [
       "<IPython.core.display.HTML object>"
      ]
     },
     "metadata": {},
     "output_type": "display_data"
    },
    {
     "data": {
      "text/html": [
       "<div style=\"font-family: Times New Roman; font-size: 18px; padding-bottom:10px; margin-left: 15px\">$\\beta,\\beta_n$ </div>"
      ],
      "text/plain": [
       "<IPython.core.display.HTML object>"
      ]
     },
     "metadata": {},
     "output_type": "display_data"
    },
    {
     "name": "stdout",
     "output_type": "stream",
     "text": [
      "=========================================\n"
     ]
    }
   ],
   "source": [
    "for i,nn in enumerate(indices[:20]):\n",
    "#     print(list_formula[i])\n",
    "    display(HTML('<div style=\"font-family: Times New Roman; font-size: 18px; padding-bottom:10px; margin-left: 15px\">' +  f'${list_formula[i]}$ </div>'))\n",
    "    for j in nn:\n",
    "#         print(list_formula[i], list_formula[j])\n",
    "        display(HTML('<div style=\"font-family: Times New Roman; font-size: 18px; padding-bottom:10px; margin-left: 15px\">' +  f'${list_formula[j]}$ </div>'))\n",
    "    print('=========================================')"
   ]
  },
  {
   "cell_type": "markdown",
   "metadata": {},
   "source": [
    "## evaluate NTCIR-12 Dataset ?\n",
    "\n",
    "to know how good are these embeddings ? we should do that 😊"
   ]
  },
  {
   "cell_type": "code",
   "execution_count": 12,
   "metadata": {},
   "outputs": [
    {
     "data": {
      "application/vnd.jupyter.widget-view+json": {
       "model_id": "8b6de8dc7b4c45e4b45fee256cb04ea4",
       "version_major": 2,
       "version_minor": 0
      },
      "text/plain": [
       "HBox(children=(FloatProgress(value=1.0, bar_style='info', max=1.0), HTML(value='')))"
      ]
     },
     "metadata": {},
     "output_type": "display_data"
    },
    {
     "name": "stdout",
     "output_type": "stream",
     "text": [
      "\n"
     ]
    }
   ],
   "source": [
    "import jsonlines\n",
    "from tqdm.notebook import tqdm\n",
    "import re\n",
    "import glob, os\n",
    "import pandas as pd\n",
    "import numpy as np\n",
    "from sklearn.neighbors import NearestNeighbors\n",
    "from transformers import pipeline\n",
    "from transformers import *\n",
    "import math\n",
    "from IPython.core.display import display, HTML\n",
    "\n",
    "\n",
    "path_data = '/data/szr207/projects/Mathseer/output.jsonl'\n",
    "list_exp = []\n",
    "list_id = []\n",
    "dict_id = {}\n",
    "list_exp_orig = []\n",
    "\n",
    "with jsonlines.open(path_data) as reader:\n",
    "    for obj in tqdm(reader.iter(type=dict, skip_invalid=True)):\n",
    "        list_exp.append(obj['exp'].rstrip().replace('%',' '))\n",
    "#         list_exp_orig.append(obj['exp'].replace('%',' '))\n",
    "        list_id.append(obj['id'])\n",
    "        dict_id[obj['id']] = obj[\"list_id\"]"
   ]
  },
  {
   "cell_type": "code",
   "execution_count": 16,
   "metadata": {},
   "outputs": [],
   "source": [
    "def intersection(lst1, lst2): \n",
    "    lst3 = [value for value in tqdm(lst1) if value in lst2] \n",
    "    return lst3 \n",
    "\n",
    "def Diff(li1, li2): \n",
    "    return (list(set(li1) - set(li2))) "
   ]
  },
  {
   "cell_type": "code",
   "execution_count": 17,
   "metadata": {
    "collapsed": true,
    "jupyter": {
     "outputs_hidden": true
    }
   },
   "outputs": [
    {
     "data": {
      "application/vnd.jupyter.widget-view+json": {
       "model_id": "e84e855fbee145d2b728e5912f537e77",
       "version_major": 2,
       "version_minor": 0
      },
      "text/plain": [
       "HBox(children=(FloatProgress(value=0.0, max=326034.0), HTML(value='')))"
      ]
     },
     "metadata": {},
     "output_type": "display_data"
    },
    {
     "ename": "KeyboardInterrupt",
     "evalue": "",
     "output_type": "error",
     "traceback": [
      "\u001b[0;31m---------------------------------------------------------------------------\u001b[0m",
      "\u001b[0;31mKeyboardInterrupt\u001b[0m                         Traceback (most recent call last)",
      "\u001b[0;32m<ipython-input-17-555d1f2104b8>\u001b[0m in \u001b[0;36m<module>\u001b[0;34m\u001b[0m\n\u001b[0;32m----> 1\u001b[0;31m \u001b[0mlen\u001b[0m\u001b[0;34m(\u001b[0m\u001b[0mintersection\u001b[0m\u001b[0;34m(\u001b[0m\u001b[0mlist_exp\u001b[0m\u001b[0;34m,\u001b[0m \u001b[0mlist_formula\u001b[0m\u001b[0;34m)\u001b[0m\u001b[0;34m)\u001b[0m\u001b[0;34m\u001b[0m\u001b[0;34m\u001b[0m\u001b[0m\n\u001b[0m",
      "\u001b[0;32m<ipython-input-16-d1ec4a720225>\u001b[0m in \u001b[0;36mintersection\u001b[0;34m(lst1, lst2)\u001b[0m\n\u001b[1;32m      1\u001b[0m \u001b[0;32mdef\u001b[0m \u001b[0mintersection\u001b[0m\u001b[0;34m(\u001b[0m\u001b[0mlst1\u001b[0m\u001b[0;34m,\u001b[0m \u001b[0mlst2\u001b[0m\u001b[0;34m)\u001b[0m\u001b[0;34m:\u001b[0m\u001b[0;34m\u001b[0m\u001b[0;34m\u001b[0m\u001b[0m\n\u001b[0;32m----> 2\u001b[0;31m     \u001b[0mlst3\u001b[0m \u001b[0;34m=\u001b[0m \u001b[0;34m[\u001b[0m\u001b[0mvalue\u001b[0m \u001b[0;32mfor\u001b[0m \u001b[0mvalue\u001b[0m \u001b[0;32min\u001b[0m \u001b[0mtqdm\u001b[0m\u001b[0;34m(\u001b[0m\u001b[0mlst1\u001b[0m\u001b[0;34m)\u001b[0m \u001b[0;32mif\u001b[0m \u001b[0mvalue\u001b[0m \u001b[0;32min\u001b[0m \u001b[0mlst2\u001b[0m\u001b[0;34m]\u001b[0m\u001b[0;34m\u001b[0m\u001b[0;34m\u001b[0m\u001b[0m\n\u001b[0m\u001b[1;32m      3\u001b[0m     \u001b[0;32mreturn\u001b[0m \u001b[0mlst3\u001b[0m\u001b[0;34m\u001b[0m\u001b[0;34m\u001b[0m\u001b[0m\n\u001b[1;32m      4\u001b[0m \u001b[0;34m\u001b[0m\u001b[0m\n\u001b[1;32m      5\u001b[0m \u001b[0;32mdef\u001b[0m \u001b[0mDiff\u001b[0m\u001b[0;34m(\u001b[0m\u001b[0mli1\u001b[0m\u001b[0;34m,\u001b[0m \u001b[0mli2\u001b[0m\u001b[0;34m)\u001b[0m\u001b[0;34m:\u001b[0m\u001b[0;34m\u001b[0m\u001b[0;34m\u001b[0m\u001b[0m\n",
      "\u001b[0;32m<ipython-input-16-d1ec4a720225>\u001b[0m in \u001b[0;36m<listcomp>\u001b[0;34m(.0)\u001b[0m\n\u001b[1;32m      1\u001b[0m \u001b[0;32mdef\u001b[0m \u001b[0mintersection\u001b[0m\u001b[0;34m(\u001b[0m\u001b[0mlst1\u001b[0m\u001b[0;34m,\u001b[0m \u001b[0mlst2\u001b[0m\u001b[0;34m)\u001b[0m\u001b[0;34m:\u001b[0m\u001b[0;34m\u001b[0m\u001b[0;34m\u001b[0m\u001b[0m\n\u001b[0;32m----> 2\u001b[0;31m     \u001b[0mlst3\u001b[0m \u001b[0;34m=\u001b[0m \u001b[0;34m[\u001b[0m\u001b[0mvalue\u001b[0m \u001b[0;32mfor\u001b[0m \u001b[0mvalue\u001b[0m \u001b[0;32min\u001b[0m \u001b[0mtqdm\u001b[0m\u001b[0;34m(\u001b[0m\u001b[0mlst1\u001b[0m\u001b[0;34m)\u001b[0m \u001b[0;32mif\u001b[0m \u001b[0mvalue\u001b[0m \u001b[0;32min\u001b[0m \u001b[0mlst2\u001b[0m\u001b[0;34m]\u001b[0m\u001b[0;34m\u001b[0m\u001b[0;34m\u001b[0m\u001b[0m\n\u001b[0m\u001b[1;32m      3\u001b[0m     \u001b[0;32mreturn\u001b[0m \u001b[0mlst3\u001b[0m\u001b[0;34m\u001b[0m\u001b[0;34m\u001b[0m\u001b[0m\n\u001b[1;32m      4\u001b[0m \u001b[0;34m\u001b[0m\u001b[0m\n\u001b[1;32m      5\u001b[0m \u001b[0;32mdef\u001b[0m \u001b[0mDiff\u001b[0m\u001b[0;34m(\u001b[0m\u001b[0mli1\u001b[0m\u001b[0;34m,\u001b[0m \u001b[0mli2\u001b[0m\u001b[0;34m)\u001b[0m\u001b[0;34m:\u001b[0m\u001b[0;34m\u001b[0m\u001b[0;34m\u001b[0m\u001b[0m\n",
      "\u001b[0;31mKeyboardInterrupt\u001b[0m: "
     ]
    }
   ],
   "source": [
    "len(intersection(list_exp, list_formula))"
   ]
  },
  {
   "cell_type": "code",
   "execution_count": 19,
   "metadata": {},
   "outputs": [
    {
     "data": {
      "text/plain": [
       "10774550"
      ]
     },
     "execution_count": 19,
     "metadata": {},
     "output_type": "execute_result"
    }
   ],
   "source": [
    "len(list_formula)"
   ]
  },
  {
   "cell_type": "code",
   "execution_count": 17,
   "metadata": {},
   "outputs": [
    {
     "name": "stdout",
     "output_type": "stream",
     "text": [
      "File rrf.cft.bert.txt writen.\n"
     ]
    }
   ],
   "source": [
    "from trectools import TrecRun, TrecEval, fusion, TrecQrel\n",
    "\n",
    "r1 = TrecRun(\"/data/szr207/projects/Mathseer/bpe/new-concrete.dat\")\n",
    "qrels = TrecQrel('/data/szr207/projects/Mathseer/bpe/judge.dat')\n",
    "r3 = TrecRun(\"/data/szr207/projects/Mathseer/bpe/res_tangent_cft\")\n",
    "\n",
    "# Easy way to create new baselines by fusing existing runs:\n",
    "fused_run = fusion.reciprocal_rank_fusion([r1,r3])\n",
    "# r1_p25 = TrecEval(r1, qrels).get_bpref()          # P@25: 0.3392\n",
    "# r2_p25 = TrecEval(r3, qrels).get_bpref()          # P@25: 0.2872\n",
    "fused_run_p25 = TrecEval(fused_run, qrels).get_bpref()   # P@25: 0.3436\n",
    "\n",
    "# print(\"P@25 -- Run 1: %.3f, Run 2: %.3f, Fusion Run: %.3f\" % (r1_p25, r2_p25, fused_run_p25))\n",
    "\n",
    "# Save run to disk with all its topics\n",
    "fused_run.print_subset(\"rrf.cft.bert.txt\", topics=fused_run.topics())"
   ]
  },
  {
   "cell_type": "code",
   "execution_count": 18,
   "metadata": {},
   "outputs": [
    {
     "data": {
      "text/plain": [
       "0.643366279975944"
      ]
     },
     "execution_count": 18,
     "metadata": {},
     "output_type": "execute_result"
    }
   ],
   "source": [
    "fused_run_p25"
   ]
  },
  {
   "cell_type": "code",
   "execution_count": 15,
   "metadata": {},
   "outputs": [
    {
     "data": {
      "text/plain": [
       "0.4187256931858488"
      ]
     },
     "execution_count": 15,
     "metadata": {},
     "output_type": "execute_result"
    }
   ],
   "source": [
    "TrecEval(r1, qrels).get_bpref()"
   ]
  },
  {
   "cell_type": "code",
   "execution_count": 6,
   "metadata": {},
   "outputs": [
    {
     "ename": "TypeError",
     "evalue": "'<' not supported between instances of 'float' and 'str'",
     "output_type": "error",
     "traceback": [
      "\u001b[0;31m---------------------------------------------------------------------------\u001b[0m",
      "\u001b[0;31mTypeError\u001b[0m                                 Traceback (most recent call last)",
      "\u001b[0;32m<ipython-input-6-c3f679df1d06>\u001b[0m in \u001b[0;36m<module>\u001b[0;34m\u001b[0m\n\u001b[0;32m----> 1\u001b[0;31m \u001b[0mTrecEval\u001b[0m\u001b[0;34m(\u001b[0m\u001b[0mr3\u001b[0m\u001b[0;34m,\u001b[0m \u001b[0mqrels\u001b[0m\u001b[0;34m)\u001b[0m\u001b[0;34m.\u001b[0m\u001b[0mget_bpref\u001b[0m\u001b[0;34m(\u001b[0m\u001b[0;34m)\u001b[0m\u001b[0;34m\u001b[0m\u001b[0;34m\u001b[0m\u001b[0m\n\u001b[0m",
      "\u001b[0;32m/data/szr207/conda/envs/faiss/lib/python3.7/site-packages/trectools/trec_eval.py\u001b[0m in \u001b[0;36mget_bpref\u001b[0;34m(self, depth, per_query, trec_eval)\u001b[0m\n\u001b[1;32m    523\u001b[0m \u001b[0;34m\u001b[0m\u001b[0m\n\u001b[1;32m    524\u001b[0m         \u001b[0;31m# check number of queries\u001b[0m\u001b[0;34m\u001b[0m\u001b[0;34m\u001b[0m\u001b[0;34m\u001b[0m\u001b[0m\n\u001b[0;32m--> 525\u001b[0;31m         \u001b[0mnqueries\u001b[0m \u001b[0;34m=\u001b[0m \u001b[0mlen\u001b[0m\u001b[0;34m(\u001b[0m\u001b[0mself\u001b[0m\u001b[0;34m.\u001b[0m\u001b[0mrun\u001b[0m\u001b[0;34m.\u001b[0m\u001b[0mtopics\u001b[0m\u001b[0;34m(\u001b[0m\u001b[0;34m)\u001b[0m\u001b[0;34m)\u001b[0m\u001b[0;34m\u001b[0m\u001b[0;34m\u001b[0m\u001b[0m\n\u001b[0m\u001b[1;32m    526\u001b[0m \u001b[0;34m\u001b[0m\u001b[0m\n\u001b[1;32m    527\u001b[0m         \u001b[0mqrels\u001b[0m \u001b[0;34m=\u001b[0m \u001b[0mself\u001b[0m\u001b[0;34m.\u001b[0m\u001b[0mqrels\u001b[0m\u001b[0;34m.\u001b[0m\u001b[0mqrels_data\u001b[0m\u001b[0;34m.\u001b[0m\u001b[0mcopy\u001b[0m\u001b[0;34m(\u001b[0m\u001b[0;34m)\u001b[0m\u001b[0;34m\u001b[0m\u001b[0;34m\u001b[0m\u001b[0m\n",
      "\u001b[0;32m/data/szr207/conda/envs/faiss/lib/python3.7/site-packages/trectools/trec_run.py\u001b[0m in \u001b[0;36mtopics\u001b[0;34m(self)\u001b[0m\n\u001b[1;32m     62\u001b[0m             \u001b[0mReturns\u001b[0m \u001b[0ma\u001b[0m \u001b[0mlist\u001b[0m \u001b[0;32mwith\u001b[0m \u001b[0mall\u001b[0m \u001b[0mtopics\u001b[0m\u001b[0;34m.\u001b[0m\u001b[0;34m\u001b[0m\u001b[0;34m\u001b[0m\u001b[0m\n\u001b[1;32m     63\u001b[0m         \"\"\"\n\u001b[0;32m---> 64\u001b[0;31m         \u001b[0;32mreturn\u001b[0m \u001b[0msorted\u001b[0m\u001b[0;34m(\u001b[0m\u001b[0mself\u001b[0m\u001b[0;34m.\u001b[0m\u001b[0mrun_data\u001b[0m\u001b[0;34m[\u001b[0m\u001b[0;34m\"query\"\u001b[0m\u001b[0;34m]\u001b[0m\u001b[0;34m.\u001b[0m\u001b[0munique\u001b[0m\u001b[0;34m(\u001b[0m\u001b[0;34m)\u001b[0m\u001b[0;34m)\u001b[0m\u001b[0;34m\u001b[0m\u001b[0;34m\u001b[0m\u001b[0m\n\u001b[0m\u001b[1;32m     65\u001b[0m \u001b[0;34m\u001b[0m\u001b[0m\n\u001b[1;32m     66\u001b[0m     \u001b[0;32mdef\u001b[0m \u001b[0mtopics_intersection_with\u001b[0m\u001b[0;34m(\u001b[0m\u001b[0mself\u001b[0m\u001b[0;34m,\u001b[0m \u001b[0manother_run\u001b[0m\u001b[0;34m)\u001b[0m\u001b[0;34m:\u001b[0m\u001b[0;34m\u001b[0m\u001b[0;34m\u001b[0m\u001b[0m\n",
      "\u001b[0;31mTypeError\u001b[0m: '<' not supported between instances of 'float' and 'str'"
     ]
    }
   ],
   "source": [
    "TrecEval(r3, qrels).get_bpref()"
   ]
  },
  {
   "cell_type": "code",
   "execution_count": 12,
   "metadata": {},
   "outputs": [
    {
     "name": "stdout",
     "output_type": "stream",
     "text": [
      "bpref                 \tall\t0.6320\n"
     ]
    }
   ],
   "source": [
    "!java -jar jtreceval-0.0.5-jar-with-dependencies.jar -l4 -m bpref /data/szr207/projects/Mathseer/bpe/judge.dat /data/szr207/projects/Mathseer/bpe/res_tangent_cft"
   ]
  },
  {
   "cell_type": "code",
   "execution_count": null,
   "metadata": {},
   "outputs": [],
   "source": []
  }
 ],
 "metadata": {
  "kernelspec": {
   "display_name": "Python 3",
   "language": "python",
   "name": "python3"
  },
  "language_info": {
   "codemirror_mode": {
    "name": "ipython",
    "version": 3
   },
   "file_extension": ".py",
   "mimetype": "text/x-python",
   "name": "python",
   "nbconvert_exporter": "python",
   "pygments_lexer": "ipython3",
   "version": "3.7.7"
  }
 },
 "nbformat": 4,
 "nbformat_minor": 4
}
