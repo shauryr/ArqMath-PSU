{
 "cells": [
  {
   "cell_type": "markdown",
   "metadata": {},
   "source": [
    "## TRY language masking\n",
    "\n",
    "Comparing the default BERT model and RoBERTa-base fine-tuned on ARQMath dataset. "
   ]
  },
  {
   "cell_type": "code",
   "execution_count": 1,
   "metadata": {},
   "outputs": [
    {
     "data": {
      "application/vnd.jupyter.widget-view+json": {
       "model_id": "4977dab83df642e8bacf65acc43c7c08",
       "version_major": 2,
       "version_minor": 0
      },
      "text/plain": [
       "HBox(children=(FloatProgress(value=0.0, description='Downloading', max=230.0, style=ProgressStyle(description_…"
      ]
     },
     "metadata": {},
     "output_type": "display_data"
    },
    {
     "name": "stdout",
     "output_type": "stream",
     "text": [
      "\n"
     ]
    }
   ],
   "source": [
    "from transformers import pipeline\n",
    "# nlp_pipe_math = pipeline(\"fill-mask\", model=\"shauryr/arqmath-roberta-base-2M\", tokenizer='roberta-base') #our finetuned model\n",
    "# nlp_pipe_default = pipeline(\"fill-mask\", model=\"shauryr/arqmath-roberta-base\", tokenizer='roberta-base') #our finetuned model\n",
    "nlp_pipe_3m = pipeline(\"fill-mask\", model=\"/data/szr207/github/transformers/examples/language-modeling/output/checkpoint-4000000\", tokenizer='roberta-base') #our finetuned model\n",
    "nlp_pipe = pipeline(\"fill-mask\", model=\"roberta-base\")"
   ]
  },
  {
   "cell_type": "markdown",
   "metadata": {},
   "source": [
    "These 2 are actual formula with a <mask> token in them. We can clearly see that the fine-tuned models are performing better than the general purpose BERT model"
   ]
  },
  {
   "cell_type": "code",
   "execution_count": 2,
   "metadata": {},
   "outputs": [
    {
     "data": {
      "text/plain": [
       "[{'sequence': '<s> \\\\Omega(k \\\\log k)</s>',\n",
       "  'score': 0.9605358242988586,\n",
       "  'token': 12376},\n",
       " {'sequence': '<s> \\\\Omega(k \\\\ln k)</s>',\n",
       "  'score': 0.033158861100673676,\n",
       "  'token': 8502},\n",
       " {'sequence': '<s> \\\\Omega(k \\\\times k)</s>',\n",
       "  'score': 0.003569849533960223,\n",
       "  'token': 14616},\n",
       " {'sequence': '<s> \\\\Omega(k \\\\to k)</s>',\n",
       "  'score': 0.0006982240593060851,\n",
       "  'token': 560},\n",
       " {'sequence': '<s> \\\\Omega(k \\\\Delta k)</s>',\n",
       "  'score': 0.00021442517754621804,\n",
       "  'token': 38816}]"
      ]
     },
     "execution_count": 2,
     "metadata": {},
     "output_type": "execute_result"
    }
   ],
   "source": [
    "nlp_pipe_3m('\\\\Omega(k \\\\<mask> k)') # no prediction is near real data"
   ]
  },
  {
   "cell_type": "code",
   "execution_count": 3,
   "metadata": {},
   "outputs": [
    {
     "data": {
      "text/plain": [
       "[{'sequence': '<s> \\\\Omega(k \\\\quad k)</s>',\n",
       "  'score': 0.16942989826202393,\n",
       "  'token': 41666},\n",
       " {'sequence': '<s> \\\\Omega(k \\\\lambda k)</s>',\n",
       "  'score': 0.06397349387407303,\n",
       "  'token': 49744},\n",
       " {'sequence': '<s> \\\\Omega(k \\\\partial k)</s>',\n",
       "  'score': 0.06361297518014908,\n",
       "  'token': 45593},\n",
       " {'sequence': '<s> \\\\Omega(k \\\\times k)</s>',\n",
       "  'score': 0.05843636766076088,\n",
       "  'token': 14616},\n",
       " {'sequence': '<s> \\\\Omega(k \\\\, k)</s>',\n",
       "  'score': 0.0419234037399292,\n",
       "  'token': 6}]"
      ]
     },
     "execution_count": 3,
     "metadata": {},
     "output_type": "execute_result"
    }
   ],
   "source": [
    "nlp_pipe('\\\\Omega(k \\\\<mask> k)') # first prediction is correct. second prediction is very near first"
   ]
  },
  {
   "cell_type": "code",
   "execution_count": 4,
   "metadata": {},
   "outputs": [
    {
     "data": {
      "text/plain": [
       "[{'sequence': '<s> 0.999999999...=1</s>',\n",
       "  'score': 0.7469689846038818,\n",
       "  'token': 734},\n",
       " {'sequence': '<s> 0.999999999....=1</s>',\n",
       "  'score': 0.17701460421085358,\n",
       "  'token': 17220},\n",
       " {'sequence': '<s> 0.999999999.....=1</s>',\n",
       "  'score': 0.008749274536967278,\n",
       "  'token': 38917},\n",
       " {'sequence': '<s> 0.999999999..=1</s>',\n",
       "  'score': 0.005470377393066883,\n",
       "  'token': 7586},\n",
       " {'sequence': '<s> 0.99999999999=1</s>',\n",
       "  'score': 0.004018600098788738,\n",
       "  'token': 2831}]"
      ]
     },
     "execution_count": 4,
     "metadata": {},
     "output_type": "execute_result"
    }
   ],
   "source": [
    "nlp_pipe_3m('0.999999999<mask>=1') # first prediction is correct"
   ]
  },
  {
   "cell_type": "code",
   "execution_count": 5,
   "metadata": {},
   "outputs": [
    {
     "data": {
      "text/plain": [
       "[{'sequence': '<s> 0.999999999000000=1</s>',\n",
       "  'score': 0.5821407437324524,\n",
       "  'token': 33413},\n",
       " {'sequence': '<s> 0.9999999990000000=1</s>',\n",
       "  'score': 0.25718626379966736,\n",
       "  'token': 45121},\n",
       " {'sequence': '<s> 0.99999999900000000=1</s>',\n",
       "  'score': 0.034637562930583954,\n",
       "  'token': 45947},\n",
       " {'sequence': '<s> 0.999999999999=1</s>',\n",
       "  'score': 0.02206338383257389,\n",
       "  'token': 16692},\n",
       " {'sequence': '<s> 0.9999999999999=1</s>',\n",
       "  'score': 0.01752442494034767,\n",
       "  'token': 46847}]"
      ]
     },
     "execution_count": 5,
     "metadata": {},
     "output_type": "execute_result"
    }
   ],
   "source": [
    "nlp_pipe('0.999999999<mask>=1') # all are wrong"
   ]
  },
  {
   "cell_type": "code",
   "execution_count": 6,
   "metadata": {},
   "outputs": [
    {
     "data": {
      "text/plain": [
       "[{'sequence': '<s> f(x)=\\\\sin(\\\\ln(x^2+1))</s>',\n",
       "  'score': 0.47706010937690735,\n",
       "  'token': 20338},\n",
       " {'sequence': '<s> f(x)=\\\\exp(\\\\ln(x^2+1))</s>',\n",
       "  'score': 0.26473936438560486,\n",
       "  'token': 18793},\n",
       " {'sequence': '<s> f(x)=\\\\cos(\\\\ln(x^2+1))</s>',\n",
       "  'score': 0.18497884273529053,\n",
       "  'token': 16254},\n",
       " {'sequence': '<s> f(x)=\\\\tan(\\\\ln(x^2+1))</s>',\n",
       "  'score': 0.030037187039852142,\n",
       "  'token': 31518},\n",
       " {'sequence': '<s> f(x)=\\\\ln(\\\\ln(x^2+1))</s>',\n",
       "  'score': 0.02947470359504223,\n",
       "  'token': 8502}]"
      ]
     },
     "execution_count": 6,
     "metadata": {},
     "output_type": "execute_result"
    }
   ],
   "source": [
    "nlp_pipe_3m('f(x)=\\\\<mask>(\\\\ln(x^2+1))') "
   ]
  },
  {
   "cell_type": "code",
   "execution_count": 7,
   "metadata": {},
   "outputs": [
    {
     "data": {
      "text/plain": [
       "[{'sequence': '<s> Opposite angles are good</s>',\n",
       "  'score': 0.11228813230991364,\n",
       "  'token': 205},\n",
       " {'sequence': '<s> Opposite angles are better</s>',\n",
       "  'score': 0.08687204867601395,\n",
       "  'token': 357},\n",
       " {'sequence': '<s> Opposite angles are best</s>',\n",
       "  'score': 0.08057808130979538,\n",
       "  'token': 275},\n",
       " {'sequence': '<s> Opposite angles are optimal</s>',\n",
       "  'score': 0.036731988191604614,\n",
       "  'token': 19329},\n",
       " {'sequence': '<s> Opposite angles are ideal</s>',\n",
       "  'score': 0.028840839862823486,\n",
       "  'token': 5631}]"
      ]
     },
     "execution_count": 7,
     "metadata": {},
     "output_type": "execute_result"
    }
   ],
   "source": [
    "nlp_pipe(\"Opposite angles are <mask>\")"
   ]
  },
  {
   "cell_type": "code",
   "execution_count": 8,
   "metadata": {},
   "outputs": [
    {
     "data": {
      "text/plain": [
       "[{'sequence': '<s> Opposite angles are supplementary</s>',\n",
       "  'score': 0.3680975139141083,\n",
       "  'token': 35818},\n",
       " {'sequence': '<s> Opposite angles are equal</s>',\n",
       "  'score': 0.277553528547287,\n",
       "  'token': 3871},\n",
       " {'sequence': '<s> Opposite angles are complementary</s>',\n",
       "  'score': 0.05704743415117264,\n",
       "  'token': 25402},\n",
       " {'sequence': '<s> Opposite angles are similar</s>',\n",
       "  'score': 0.02094212919473648,\n",
       "  'token': 1122},\n",
       " {'sequence': '<s> Opposite angles are right</s>',\n",
       "  'score': 0.018216826021671295,\n",
       "  'token': 235}]"
      ]
     },
     "execution_count": 8,
     "metadata": {},
     "output_type": "execute_result"
    }
   ],
   "source": [
    "nlp_pipe_3m(\"Opposite angles are <mask>\")"
   ]
  },
  {
   "cell_type": "code",
   "execution_count": 9,
   "metadata": {},
   "outputs": [
    {
     "data": {
      "text/plain": [
       "[{'sequence': '<s> Opposite angles are good</s>',\n",
       "  'score': 0.11228813230991364,\n",
       "  'token': 205},\n",
       " {'sequence': '<s> Opposite angles are better</s>',\n",
       "  'score': 0.08687204867601395,\n",
       "  'token': 357},\n",
       " {'sequence': '<s> Opposite angles are best</s>',\n",
       "  'score': 0.08057808130979538,\n",
       "  'token': 275},\n",
       " {'sequence': '<s> Opposite angles are optimal</s>',\n",
       "  'score': 0.036731988191604614,\n",
       "  'token': 19329},\n",
       " {'sequence': '<s> Opposite angles are ideal</s>',\n",
       "  'score': 0.028840839862823486,\n",
       "  'token': 5631}]"
      ]
     },
     "execution_count": 9,
     "metadata": {},
     "output_type": "execute_result"
    }
   ],
   "source": [
    "nlp_pipe(\"Opposite angles are <mask>\")"
   ]
  },
  {
   "cell_type": "code",
   "execution_count": 10,
   "metadata": {},
   "outputs": [
    {
     "data": {
      "text/plain": [
       "[{'sequence': '<s> Prove that n squared is greater than or equal to 2 to the n by induction</s>',\n",
       "  'score': 0.7079125046730042,\n",
       "  'token': 2388},\n",
       " {'sequence': '<s> Prove that n squared is less than or equal to 2 to the n by induction</s>',\n",
       "  'score': 0.22251103818416595,\n",
       "  'token': 540},\n",
       " {'sequence': '<s> Prove that n squared is more than or equal to 2 to the n by induction</s>',\n",
       "  'score': 0.01951957307755947,\n",
       "  'token': 55},\n",
       " {'sequence': '<s> Prove that n squared is bigger than or equal to 2 to the n by induction</s>',\n",
       "  'score': 0.017121389508247375,\n",
       "  'token': 2671},\n",
       " {'sequence': '<s> Prove that n squared is larger than or equal to 2 to the n by induction</s>',\n",
       "  'score': 0.017013823613524437,\n",
       "  'token': 2514}]"
      ]
     },
     "execution_count": 10,
     "metadata": {},
     "output_type": "execute_result"
    }
   ],
   "source": [
    "nlp_pipe_3m(\"Prove that n squared is <mask> than or equal to 2 to the n by induction\")"
   ]
  },
  {
   "cell_type": "code",
   "execution_count": 11,
   "metadata": {},
   "outputs": [
    {
     "data": {
      "text/plain": [
       "[{'sequence': '<s> Prove that n squared is less than or equal to 2 to the n by induction</s>',\n",
       "  'score': 0.6536591649055481,\n",
       "  'token': 540},\n",
       " {'sequence': '<s> Prove that n squared is greater than or equal to 2 to the n by induction</s>',\n",
       "  'score': 0.2644166946411133,\n",
       "  'token': 2388},\n",
       " {'sequence': '<s> Prove that n squared is more than or equal to 2 to the n by induction</s>',\n",
       "  'score': 0.03602026775479317,\n",
       "  'token': 55},\n",
       " {'sequence': '<s> Prove that n squared is larger than or equal to 2 to the n by induction</s>',\n",
       "  'score': 0.013052919879555702,\n",
       "  'token': 2514},\n",
       " {'sequence': '<s> Prove that n squared is smaller than or equal to 2 to the n by induction</s>',\n",
       "  'score': 0.012192468158900738,\n",
       "  'token': 2735}]"
      ]
     },
     "execution_count": 11,
     "metadata": {},
     "output_type": "execute_result"
    }
   ],
   "source": [
    "nlp_pipe(\"Prove that n squared is <mask> than or equal to 2 to the n by induction\")"
   ]
  },
  {
   "cell_type": "code",
   "execution_count": 12,
   "metadata": {},
   "outputs": [
    {
     "data": {
      "text/plain": [
       "[{'sequence': '<s> one can always do cubic linear interpolation across the points (t_i,y_i) and (t_{i+1},y_{i+1})</s>',\n",
       "  'score': 0.6383483409881592,\n",
       "  'token': 26956},\n",
       " {'sequence': '<s> one can always do cubic degree interpolation across the points (t_i,y_i) and (t_{i+1},y_{i+1})</s>',\n",
       "  'score': 0.050498444586992264,\n",
       "  'token': 3093},\n",
       " {'sequence': '<s> one can always do cubic time interpolation across the points (t_i,y_i) and (t_{i+1},y_{i+1})</s>',\n",
       "  'score': 0.04258264973759651,\n",
       "  'token': 86},\n",
       " {'sequence': '<s> one can always do cubic difference interpolation across the points (t_i,y_i) and (t_{i+1},y_{i+1})</s>',\n",
       "  'score': 0.031410884112119675,\n",
       "  'token': 2249},\n",
       " {'sequence': '<s> one can always do cubic  interpolation across the points (t_i,y_i) and (t_{i+1},y_{i+1})</s>',\n",
       "  'score': 0.02486003004014492,\n",
       "  'token': 1437}]"
      ]
     },
     "execution_count": 12,
     "metadata": {},
     "output_type": "execute_result"
    }
   ],
   "source": [
    "nlp_pipe_3m(\"one can always do cubic <mask> interpolation across the points (t_i,y_i) and (t_{i+1},y_{i+1})\")"
   ]
  },
  {
   "cell_type": "code",
   "execution_count": 14,
   "metadata": {},
   "outputs": [
    {
     "data": {
      "text/plain": [
       "[{'sequence': '<s> one can always do a cubic vector interpolation across the points (t_i,y_i) and (t_{i+1},y_{i+1})</s>',\n",
       "  'score': 0.1666756421327591,\n",
       "  'token': 37681},\n",
       " {'sequence': '<s> one can always do a cubic interval interpolation across the points (t_i,y_i) and (t_{i+1},y_{i+1})</s>',\n",
       "  'score': 0.04609276354312897,\n",
       "  'token': 22455},\n",
       " {'sequence': '<s> one can always do a cubic series interpolation across the points (t_i,y_i) and (t_{i+1},y_{i+1})</s>',\n",
       "  'score': 0.03209888935089111,\n",
       "  'token': 651},\n",
       " {'sequence': '<s> one can always do a cubic point interpolation across the points (t_i,y_i) and (t_{i+1},y_{i+1})</s>',\n",
       "  'score': 0.03044942021369934,\n",
       "  'token': 477},\n",
       " {'sequence': '<s> one can always do a cubic matrix interpolation across the points (t_i,y_i) and (t_{i+1},y_{i+1})</s>',\n",
       "  'score': 0.024514490738511086,\n",
       "  'token': 36173}]"
      ]
     },
     "execution_count": 14,
     "metadata": {},
     "output_type": "execute_result"
    }
   ],
   "source": [
    "nlp_pipe(\"one can always do a cubic <mask> interpolation across the points (t_i,y_i) and (t_{i+1},y_{i+1})\")"
   ]
  },
  {
   "cell_type": "code",
   "execution_count": 109,
   "metadata": {},
   "outputs": [
    {
     "data": {
      "text/plain": [
       "[{'sequence': \"<s> A standard physical interpretation of the Cauchy-Riemann equations going back to Hardy's work on function theory</s>\",\n",
       "  'score': 0.24695351719856262,\n",
       "  'token': 14033},\n",
       " {'sequence': \"<s> A standard physical interpretation of the Cauchy-Riemann equations going back to Newton's work on function theory</s>\",\n",
       "  'score': 0.04369952902197838,\n",
       "  'token': 10793},\n",
       " {'sequence': \"<s> A standard physical interpretation of the Cauchy-Riemann equations going back to Picard's work on function theory</s>\",\n",
       "  'score': 0.042581938207149506,\n",
       "  'token': 41807},\n",
       " {'sequence': \"<s> A standard physical interpretation of the Cauchy-Riemann equations going back to Hilbert's work on function theory</s>\",\n",
       "  'score': 0.03474319726228714,\n",
       "  'token': 47260},\n",
       " {'sequence': \"<s> A standard physical interpretation of the Cauchy-Riemann equations going back to Hamilton's work on function theory</s>\",\n",
       "  'score': 0.03104364313185215,\n",
       "  'token': 4127}]"
      ]
     },
     "execution_count": 109,
     "metadata": {},
     "output_type": "execute_result"
    }
   ],
   "source": [
    "nlp_pipe_math(\"A standard physical interpretation of the Cauchy-Riemann equations going back to <mask>'s work on function theory\")"
   ]
  },
  {
   "cell_type": "code",
   "execution_count": 107,
   "metadata": {},
   "outputs": [
    {
     "data": {
      "text/plain": [
       "[{'sequence': \"<s> By applying the Cauchy–Riemann equations a second time, one shows that u solves Laplace's equation</s>\",\n",
       "  'score': 0.4030909538269043,\n",
       "  'token': 9889},\n",
       " {'sequence': \"<s> By using the Cauchy–Riemann equations a second time, one shows that u solves Laplace's equation</s>\",\n",
       "  'score': 0.31894782185554504,\n",
       "  'token': 634},\n",
       " {'sequence': \"<s> By solving the Cauchy–Riemann equations a second time, one shows that u solves Laplace's equation</s>\",\n",
       "  'score': 0.08841779828071594,\n",
       "  'token': 15582},\n",
       " {'sequence': \"<s> By integrating the Cauchy–Riemann equations a second time, one shows that u solves Laplace's equation</s>\",\n",
       "  'score': 0.058010946959257126,\n",
       "  'token': 22688},\n",
       " {'sequence': \"<s> By satisfying the Cauchy–Riemann equations a second time, one shows that u solves Laplace's equation</s>\",\n",
       "  'score': 0.009723959490656853,\n",
       "  'token': 17758}]"
      ]
     },
     "execution_count": 107,
     "metadata": {},
     "output_type": "execute_result"
    }
   ],
   "source": [
    "nlp_pipe_math(\"By <mask> the Cauchy–Riemann equations a second time, one shows that u solves Laplace\\'s equation\")"
   ]
  },
  {
   "cell_type": "code",
   "execution_count": 93,
   "metadata": {},
   "outputs": [
    {
     "data": {
      "text/plain": [
       "[{'sequence': '<s> You can then use your favorite interpolation technique.  As you say, you have a bunch of points (t,x).  So you can feed them to a spline routine, or a polynomial fit, or whatever.  If you have some knowledge of the functional form, you can take these data points to fit the form, but it may be better to use a differential equation for that</s>',\n",
       "  'score': 0.17656680941581726,\n",
       "  'token': 25406},\n",
       " {'sequence': '<s> You can then use your favorite interpolation technique.  As you say, you have a bunch of points (t,x).  So you can feed them to a spline routine, or a polynomial fit, or whatever.  If you have some knowledge of the functional form, you can take these data points to fit the form, but it may be better to use a linear equation for that</s>',\n",
       "  'score': 0.17444801330566406,\n",
       "  'token': 26956},\n",
       " {'sequence': '<s> You can then use your favorite interpolation technique.  As you say, you have a bunch of points (t,x).  So you can feed them to a spline routine, or a polynomial fit, or whatever.  If you have some knowledge of the functional form, you can take these data points to fit the form, but it may be better to use a cubic equation for that</s>',\n",
       "  'score': 0.15158185362815857,\n",
       "  'token': 15768},\n",
       " {'sequence': '<s> You can then use your favorite interpolation technique.  As you say, you have a bunch of points (t,x).  So you can feed them to a spline routine, or a polynomial fit, or whatever.  If you have some knowledge of the functional form, you can take these data points to fit the form, but it may be better to use a single equation for that</s>',\n",
       "  'score': 0.11307325959205627,\n",
       "  'token': 881},\n",
       " {'sequence': '<s> You can then use your favorite interpolation technique.  As you say, you have a bunch of points (t,x).  So you can feed them to a spline routine, or a polynomial fit, or whatever.  If you have some knowledge of the functional form, you can take these data points to fit the form, but it may be better to use a normal equation for that</s>',\n",
       "  'score': 0.06086444854736328,\n",
       "  'token': 2340}]"
      ]
     },
     "execution_count": 93,
     "metadata": {},
     "output_type": "execute_result"
    }
   ],
   "source": [
    "nlp_pipe_math(\"You can then use your favorite interpolation technique.  As you say, you have a bunch of points (t,x).  So you can feed them to a spline routine, or a polynomial fit, or whatever.  If you have some knowledge of the functional form, you can take these data points to fit the form, but it may be better to use a <mask> equation for that\")"
   ]
  },
  {
   "cell_type": "code",
   "execution_count": 81,
   "metadata": {},
   "outputs": [
    {
     "data": {
      "text/plain": [
       "[{'sequence': '<s> You can then use your favorite interpolation technique.  As you say, you have a bunch of points (t,x).  So you can feed them to a spline routine, or a polynomial fit, or whatever.  If you have some knowledge of the functional form, you can take these data points to fit the form, but it may be better to use a simple equation for that</s>',\n",
       "  'score': 0.21816980838775635,\n",
       "  'token': 2007},\n",
       " {'sequence': '<s> You can then use your favorite interpolation technique.  As you say, you have a bunch of points (t,x).  So you can feed them to a spline routine, or a polynomial fit, or whatever.  If you have some knowledge of the functional form, you can take these data points to fit the form, but it may be better to use a differential equation for that</s>',\n",
       "  'score': 0.09034056216478348,\n",
       "  'token': 25406},\n",
       " {'sequence': '<s> You can then use your favorite interpolation technique.  As you say, you have a bunch of points (t,x).  So you can feed them to a spline routine, or a polynomial fit, or whatever.  If you have some knowledge of the functional form, you can take these data points to fit the form, but it may be better to use a linear equation for that</s>',\n",
       "  'score': 0.07477249205112457,\n",
       "  'token': 26956},\n",
       " {'sequence': '<s> You can then use your favorite interpolation technique.  As you say, you have a bunch of points (t,x).  So you can feed them to a spline routine, or a polynomial fit, or whatever.  If you have some knowledge of the functional form, you can take these data points to fit the form, but it may be better to use a generalized equation for that</s>',\n",
       "  'score': 0.034048471599817276,\n",
       "  'token': 44030},\n",
       " {'sequence': '<s> You can then use your favorite interpolation technique.  As you say, you have a bunch of points (t,x).  So you can feed them to a spline routine, or a polynomial fit, or whatever.  If you have some knowledge of the functional form, you can take these data points to fit the form, but it may be better to use a mathematical equation for that</s>',\n",
       "  'score': 0.03212988004088402,\n",
       "  'token': 30412}]"
      ]
     },
     "execution_count": 81,
     "metadata": {},
     "output_type": "execute_result"
    }
   ],
   "source": [
    "nlp_pipe(\"You can then use your favorite interpolation technique.  As you say, you have a bunch of points (t,x).  So you can feed them to a spline routine, or a polynomial fit, or whatever.  If you have some knowledge of the functional form, you can take these data points to fit the form, but it may be better to use a <mask> equation for that\")"
   ]
  },
  {
   "cell_type": "code",
   "execution_count": 19,
   "metadata": {},
   "outputs": [],
   "source": [
    "from transformers import pipeline\n",
    "\n",
    "# summarization\n",
    "\n",
    "nlp_pipe_summarization = pipeline(\"summarization\", model=\"shauryr/arqmath-roberta-base\", tokenizer='roberta-base')"
   ]
  },
  {
   "cell_type": "code",
   "execution_count": 21,
   "metadata": {},
   "outputs": [],
   "source": [
    "from transformers import FeatureExtractionPipeline"
   ]
  },
  {
   "cell_type": "code",
   "execution_count": 22,
   "metadata": {},
   "outputs": [],
   "source": [
    "context = \"The main idea of Hermite is to take x1→x0, but for this to succeed you cannot use the standard Lagrange basis L0(x):=(x−x1)/(x0−x1) and L1(x):=(x−x0)/(x1−x0) because the denominators will go to zero while the numerators stay finite.So the trick is to replace Lagrange basis with another one (there's nothing really special about Lagrange basis except that it makes collocation easy). For example take M0(x):≡1 and M1(x):=(x−x0) (which happens to be the naive Vandermonde basis when x0=0 but consider that an accident). Look now for two coefficients, say c0,c1 such that the linear function c0M0+c1M1 interpolates f at x0,x1, you solve a linear system and you'll getc0=f(x0) and c1=f(x1)−f(x0)x1−x0.(Can you smell Newton's divided differences? Never mind, focus on Hermite for now.) So in fact, posing h=x1−x0 we see that the only quantity that depends on h is c1=c^1(h), while c0,M0,M1 are h-independent, so we have an h-dependent Lagrange interpolant L(h)(x)=c0M0(x)+c^1(h)M1(x). This is useful. Drums rolling, we let x1→x0 (or h→0) and track the quantities that depend on h, i.e., c^1(h) which will simply converge to f′(x0), hence the linear interpolant becomes\"\n"
   ]
  },
  {
   "cell_type": "code",
   "execution_count": 32,
   "metadata": {},
   "outputs": [],
   "source": [
    "feat_ext = pipeline(\"feature-extraction\", model=\"shauryr/arqmath-roberta-base\", tokenizer='roberta-base',device=0)"
   ]
  },
  {
   "cell_type": "code",
   "execution_count": 34,
   "metadata": {},
   "outputs": [],
   "source": [
    "list_a = feat_ext(context)"
   ]
  },
  {
   "cell_type": "code",
   "execution_count": 30,
   "metadata": {},
   "outputs": [
    {
     "data": {
      "text/plain": [
       "768"
      ]
     },
     "execution_count": 30,
     "metadata": {},
     "output_type": "execute_result"
    }
   ],
   "source": [
    "len(list_a[0][0])"
   ]
  },
  {
   "cell_type": "code",
   "execution_count": 8,
   "metadata": {},
   "outputs": [
    {
     "name": "stdout",
     "output_type": "stream",
     "text": [
      "Fri May 29 11:16:46 2020       \n",
      "+-----------------------------------------------------------------------------+\n",
      "| NVIDIA-SMI 440.64.00    Driver Version: 440.64.00    CUDA Version: 10.2     |\n",
      "|-------------------------------+----------------------+----------------------+\n",
      "| GPU  Name        Persistence-M| Bus-Id        Disp.A | Volatile Uncorr. ECC |\n",
      "| Fan  Temp  Perf  Pwr:Usage/Cap|         Memory-Usage | GPU-Util  Compute M. |\n",
      "|===============================+======================+======================|\n",
      "|   0  GeForce RTX 208...  Off  | 00000000:18:00.0 Off |                  N/A |\n",
      "| 40%   50C    P8    22W / 250W |   3716MiB / 11019MiB |      0%      Default |\n",
      "+-------------------------------+----------------------+----------------------+\n",
      "|   1  GeForce RTX 208...  Off  | 00000000:3B:00.0 Off |                  N/A |\n",
      "| 84%   75C    P2   233W / 250W |  10490MiB / 11019MiB |     88%      Default |\n",
      "+-------------------------------+----------------------+----------------------+\n",
      "|   2  GeForce RTX 208...  Off  | 00000000:86:00.0 Off |                  N/A |\n",
      "| 87%   78C    P2   232W / 250W |   9090MiB / 11019MiB |     74%      Default |\n",
      "+-------------------------------+----------------------+----------------------+\n",
      "|   3  GeForce RTX 208...  Off  | 00000000:AF:00.0 Off |                  N/A |\n",
      "| 72%   69C    P2   196W / 250W |   9536MiB / 11019MiB |     86%      Default |\n",
      "+-------------------------------+----------------------+----------------------+\n",
      "                                                                               \n",
      "+-----------------------------------------------------------------------------+\n",
      "| Processes:                                                       GPU Memory |\n",
      "|  GPU       PID   Type   Process name                             Usage      |\n",
      "|=============================================================================|\n",
      "|    0    382654      C   /data/nud83/anaconda3/envs/py36/bin/python  3705MiB |\n",
      "|    1    211999      C   /data/szr207/conda/envs/pytorch/bin/python  9057MiB |\n",
      "|    1    212000      C   /data/szr207/conda/envs/pytorch/bin/python   711MiB |\n",
      "|    1    212001      C   /data/szr207/conda/envs/pytorch/bin/python   711MiB |\n",
      "|    2    212000      C   /data/szr207/conda/envs/pytorch/bin/python  9079MiB |\n",
      "|    3    212001      C   /data/szr207/conda/envs/pytorch/bin/python  9525MiB |\n",
      "+-----------------------------------------------------------------------------+\n"
     ]
    }
   ],
   "source": [
    "!nvidia-smi"
   ]
  },
  {
   "cell_type": "code",
   "execution_count": null,
   "metadata": {},
   "outputs": [],
   "source": []
  }
 ],
 "metadata": {
  "kernelspec": {
   "display_name": "Python 3",
   "language": "python",
   "name": "python3"
  },
  "language_info": {
   "codemirror_mode": {
    "name": "ipython",
    "version": 3
   },
   "file_extension": ".py",
   "mimetype": "text/x-python",
   "name": "python",
   "nbconvert_exporter": "python",
   "pygments_lexer": "ipython3",
   "version": "3.7.7"
  }
 },
 "nbformat": 4,
 "nbformat_minor": 4
}
