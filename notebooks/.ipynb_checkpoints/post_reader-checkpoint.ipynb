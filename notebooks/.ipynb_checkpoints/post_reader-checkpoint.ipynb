{
 "cells": [
  {
   "cell_type": "code",
   "execution_count": 1,
   "metadata": {},
   "outputs": [],
   "source": [
    "import xml.etree.ElementTree as ET\n",
    "import sys\n",
    "sys.path.append(\"/data/szr207/projects/ArqMath/ARQMathCode/\")"
   ]
  },
  {
   "cell_type": "code",
   "execution_count": 2,
   "metadata": {},
   "outputs": [],
   "source": [
    "!export PYTHONPATH=\"/data/szr207/projects/ArqMath/ARQMathCode/\""
   ]
  },
  {
   "cell_type": "code",
   "execution_count": 3,
   "metadata": {},
   "outputs": [
    {
     "name": "stdout",
     "output_type": "stream",
     "text": [
      "reading users\n",
      "reading comments\n",
      "reading votes\n",
      "reading post links\n"
     ]
    },
    {
     "name": "stderr",
     "output_type": "stream",
     "text": [
      "2243it [00:00, 22393.29it/s]"
     ]
    },
    {
     "name": "stdout",
     "output_type": "stream",
     "text": [
      "reading posts\n"
     ]
    },
    {
     "name": "stderr",
     "output_type": "stream",
     "text": [
      "2477487it [02:21, 17507.10it/s]\n"
     ]
    }
   ],
   "source": [
    "from Entity_Parser_Record.comment_parser_record import CommentParserRecord\n",
    "from Entity_Parser_Record.post_link_parser_record import PostLinkParserRecord\n",
    "from Entity_Parser_Record.post_parser_record import PostParserRecord\n",
    "from Entity_Parser_Record.user_parser_record import UserParserRecord\n",
    "from Entity_Parser_Record.vote_parser_record import VoteParserRecord\n",
    "from Visualization.generate_html_file import HtmlGenerator\n",
    "import argparse\n",
    "\n",
    "\n",
    "class DataReaderRecord:\n",
    "    \"\"\"\n",
    "        This is the data reader class for MSE ARQMath dataset.\n",
    "        In the constructor, all the data is read and the related ones are linked together.\n",
    "        We have provided several functions as examples of how to work with this data reader.\n",
    "        Also if the participant will to generate the html file for a given thread (question), they can use the\n",
    "        get_html_pages where they specify list of questions id for which they want to get the html.\n",
    "\n",
    "\n",
    "        The main difference with the other DataReader is that each file is read record by record here.\n",
    "    \"\"\"\n",
    "\n",
    "    def __init__(self, root_file_path):\n",
    "        \"\"\"\n",
    "        This class read all the data file in MSE ARQMath Dataset. The root file of data is taken as the input\n",
    "        and then each of the files are read and the related data are linked together.\n",
    "        :param root_file_path: The root directory of MSE ARQMath Dataset.\n",
    "        \"\"\"\n",
    "        post_file_path = root_file_path + \"/Posts_V1_0.xml\"\n",
    "        badges_file_path = root_file_path + \"/Badges.V1.0.xml\"\n",
    "        comments_file_path = root_file_path + \"/Comments.V1.0.xml\"\n",
    "        votes_file_path = root_file_path + \"/Votes.V1.0.xml\"\n",
    "        users_file_path = root_file_path + \"/Users.V1.0.xml\"\n",
    "        post_links_file_path = root_file_path + \"/PostLinks.V1.0.xml\"\n",
    "\n",
    "        print(\"reading users\")\n",
    "        self.user_parser = UserParserRecord(users_file_path, badges_file_path)\n",
    "        print(\"reading comments\")\n",
    "        self.comment_parser = CommentParserRecord(comments_file_path)\n",
    "        print(\"reading votes\")\n",
    "        self.vote_parser = VoteParserRecord(votes_file_path)\n",
    "        print(\"reading post links\")\n",
    "        self.post_link_parser = PostLinkParserRecord(post_links_file_path)\n",
    "        print(\"reading posts\")\n",
    "        self.post_parser = PostParserRecord(post_file_path, self.comment_parser.map_of_comments_for_post,\n",
    "                                            self.post_link_parser.map_related_posts,\n",
    "                                            self.post_link_parser.map_duplicate_posts,\n",
    "                                            self.vote_parser.map_of_votes, self.user_parser.map_of_user)\n",
    "\n",
    "    def get_list_of_questions_posted_in_a_year(self, year):\n",
    "        \"\"\"\n",
    "\n",
    "        :param year:\n",
    "        :return:\n",
    "        \"\"\"\n",
    "        lst_of_question = []\n",
    "        for question_id in self.post_parser.map_questions:\n",
    "            question = self.post_parser.map_questions[question_id]\n",
    "            if question.creation_date is None:\n",
    "                continue\n",
    "            creation_year = int(question.creation_date.split(\"T\")[0].split(\"-\")[0])\n",
    "            if creation_year == year:\n",
    "                lst_of_question.append(question)\n",
    "        return lst_of_question\n",
    "\n",
    "    def get_answers_for_question(self, question_id):\n",
    "        \"\"\"\n",
    "\n",
    "        :param question_id:\n",
    "        :return:\n",
    "        \"\"\"\n",
    "        if question_id not in self.post_parser.map_questions:\n",
    "            return None\n",
    "        return self.post_parser.map_questions[question_id].answers\n",
    "\n",
    "    def get_user(self, user_id):\n",
    "        \"\"\"\n",
    "\n",
    "        :param user_id:\n",
    "        :return:\n",
    "        \"\"\"\n",
    "        if user_id not in self.user_parser.map_of_user:\n",
    "            return None\n",
    "        return self.user_parser.map_of_user[user_id]\n",
    "\n",
    "    def get_answers_posted_by_user(self, user_id):\n",
    "        \"\"\"\n",
    "\n",
    "        :param user_id:\n",
    "        :return:\n",
    "        \"\"\"\n",
    "        lst_of_answers = []\n",
    "        for parent_id in self.post_parser.map_answers:\n",
    "            lst_answer = self.post_parser.map_answers[parent_id]\n",
    "            for answer in lst_answer:\n",
    "                if answer.owner_user_id is not None:\n",
    "                    if answer.owner_user_id == user_id:\n",
    "                        lst_of_answers.append(answer)\n",
    "        return lst_of_answers\n",
    "\n",
    "    def get_question_of_tag(self, tag):\n",
    "        \"\"\"\n",
    "\n",
    "        :param tag:\n",
    "        :return:\n",
    "        \"\"\"\n",
    "        lst_of_questions = []\n",
    "        for question_id in self.post_parser.map_questions:\n",
    "            question = self.post_parser.map_questions[question_id]\n",
    "            lst_tags = question.tags\n",
    "            if tag in lst_tags:\n",
    "                lst_of_questions.append(tag)\n",
    "        return lst_of_questions\n",
    "\n",
    "    def get_html_pages(self, lst_of_questions_id, result_directory):\n",
    "        \"\"\"\n",
    "\n",
    "        :param lst_of_questions_id:\n",
    "        :param result_directory:\n",
    "        :return:\n",
    "        \"\"\"\n",
    "        HtmlGenerator.questions_to_html(lst_of_questions_id, self, result_directory)\n",
    "    \n",
    "    def get_duplicate(self, lst_of_questions_id, result_directory):\n",
    "        \"\"\"\n",
    "\n",
    "        :param lst_of_questions_id:\n",
    "        :param result_directory:\n",
    "        :return:\n",
    "        \"\"\"\n",
    "        HtmlGenerator.questions_to_html(lst_of_questions_id, self, result_directory)\n",
    "    \n",
    "# /data/szr207/dataset/ArqMath/V2/Badges.V1.0.xml\n",
    "        \n",
    "# parser = argparse.ArgumentParser(description='By setting the file path for MSE ARQMath Dataset,'\n",
    "#                                              'One can iterate read the related data and go through questions')\n",
    "# parser.add_argument('-ds', type=str, help=\"File path for the MSE ARQMath Dataset.\", required=True)\n",
    "# args = vars(parser.parse_args())\n",
    "\n",
    "clef_home_directory_file_path = ('/data/szr207/dataset/ArqMath/V2/')\n",
    "dr = DataReaderRecord(clef_home_directory_file_path)\n",
    "lst_questions = dr.get_question_of_tag(\"calculus\")\n",
    "lst_answers = dr.get_answers_posted_by_user(132)\n",
    "# dr.get_html_pages([1, 5], \"../html_files\")"
   ]
  },
  {
   "cell_type": "code",
   "execution_count": 6,
   "metadata": {},
   "outputs": [],
   "source": [
    "list_Q = dr.get_list_of_questions_posted_in_a_year(2010)"
   ]
  },
  {
   "cell_type": "code",
   "execution_count": 12,
   "metadata": {},
   "outputs": [
    {
     "data": {
      "text/plain": [
       "[]"
      ]
     },
     "execution_count": 12,
     "metadata": {},
     "output_type": "execute_result"
    }
   ],
   "source": [
    "lst_answers = dr.get_answers_posted_by_user(2121)\n",
    "lst_answers"
   ]
  },
  {
   "cell_type": "markdown",
   "metadata": {},
   "source": [
    "## Things to ask "
   ]
  },
  {
   "cell_type": "code",
   "execution_count": 4,
   "metadata": {},
   "outputs": [],
   "source": [
    "# attributes = list_Q[0].__dir__()[:24]\n",
    "import jsonlines\n",
    "from tqdm.notebook import tqdm \n",
    "import os, uuid\n",
    "import re \n",
    "import glob\n",
    "\n",
    "root_path = \"/data/szr207/dataset/ArqMath/jsons/answers/\""
   ]
  },
  {
   "cell_type": "code",
   "execution_count": null,
   "metadata": {
    "scrolled": true
   },
   "outputs": [],
   "source": [
    "year = 2010\n",
    "list_Q = dr.get_list_of_questions_posted_in_a_year(year)\n",
    "for i in tqdm(list_Q):\n",
    "    dict_q = i.__dict__\n",
    "    try:\n",
    "        for ans in dr.get_answers_for_question(dict_q['post_id']):\n",
    "            ans_dict = ans.__dict__\n",
    "            if ans_dict[\"votes\"]:\n",
    "                num_votes = len(ans_dict[\"votes\"])\n",
    "                ans_dict[\"votes\"] = num_votes\n",
    "            else:\n",
    "                ans_dict[\"votes\"] = 0\n",
    "            del ans_dict[\"user\"]\n",
    "            del ans_dict[\"comments\"]\n",
    "#                 print(ans_dict)\n",
    "            print(ans_dict)\n",
    "            break\n",
    "    except:\n",
    "        continue\n"
   ]
  },
  {
   "cell_type": "code",
   "execution_count": 14,
   "metadata": {
    "scrolled": true
   },
   "outputs": [
    {
     "data": {
      "application/vnd.jupyter.widget-view+json": {
       "model_id": "8691a77f3fa14d979784a2669fc4fd19",
       "version_major": 2,
       "version_minor": 0
      },
      "text/plain": [
       "HBox(children=(FloatProgress(value=0.0, max=4564.0), HTML(value='')))"
      ]
     },
     "metadata": {},
     "output_type": "display_data"
    },
    {
     "name": "stdout",
     "output_type": "stream",
     "text": [
      "\n"
     ]
    },
    {
     "data": {
      "application/vnd.jupyter.widget-view+json": {
       "model_id": "6692951954034a2ea290207c9613f28d",
       "version_major": 2,
       "version_minor": 0
      },
      "text/plain": [
       "HBox(children=(FloatProgress(value=0.0, max=26454.0), HTML(value='')))"
      ]
     },
     "metadata": {},
     "output_type": "display_data"
    },
    {
     "name": "stdout",
     "output_type": "stream",
     "text": [
      "\n"
     ]
    },
    {
     "data": {
      "application/vnd.jupyter.widget-view+json": {
       "model_id": "f4f12f7bafec4cdb98ed71963ebaf18c",
       "version_major": 2,
       "version_minor": 0
      },
      "text/plain": [
       "HBox(children=(FloatProgress(value=0.0, max=58148.0), HTML(value='')))"
      ]
     },
     "metadata": {},
     "output_type": "display_data"
    },
    {
     "name": "stdout",
     "output_type": "stream",
     "text": [
      "\n"
     ]
    },
    {
     "data": {
      "application/vnd.jupyter.widget-view+json": {
       "model_id": "fd74e61e36a2455d91cb9bbe5bd21142",
       "version_major": 2,
       "version_minor": 0
      },
      "text/plain": [
       "HBox(children=(FloatProgress(value=0.0, max=118129.0), HTML(value='')))"
      ]
     },
     "metadata": {},
     "output_type": "display_data"
    },
    {
     "name": "stdout",
     "output_type": "stream",
     "text": [
      "\n"
     ]
    },
    {
     "data": {
      "application/vnd.jupyter.widget-view+json": {
       "model_id": "040b5d93421b48a7a92e0d7e11d7e5b6",
       "version_major": 2,
       "version_minor": 0
      },
      "text/plain": [
       "HBox(children=(FloatProgress(value=0.0, max=149771.0), HTML(value='')))"
      ]
     },
     "metadata": {},
     "output_type": "display_data"
    },
    {
     "name": "stdout",
     "output_type": "stream",
     "text": [
      "\n"
     ]
    },
    {
     "data": {
      "application/vnd.jupyter.widget-view+json": {
       "model_id": "f30e7bc4243742a78a11586e80e080d8",
       "version_major": 2,
       "version_minor": 0
      },
      "text/plain": [
       "HBox(children=(FloatProgress(value=0.0, max=167657.0), HTML(value='')))"
      ]
     },
     "metadata": {},
     "output_type": "display_data"
    },
    {
     "name": "stdout",
     "output_type": "stream",
     "text": [
      "\n"
     ]
    },
    {
     "data": {
      "application/vnd.jupyter.widget-view+json": {
       "model_id": "b26103c4791741f4a99e2daea1da299f",
       "version_major": 2,
       "version_minor": 0
      },
      "text/plain": [
       "HBox(children=(FloatProgress(value=0.0, max=165434.0), HTML(value='')))"
      ]
     },
     "metadata": {},
     "output_type": "display_data"
    },
    {
     "name": "stdout",
     "output_type": "stream",
     "text": [
      "\n"
     ]
    },
    {
     "data": {
      "application/vnd.jupyter.widget-view+json": {
       "model_id": "200a313253c044e79af60371e3a9dc5c",
       "version_major": 2,
       "version_minor": 0
      },
      "text/plain": [
       "HBox(children=(FloatProgress(value=0.0, max=174269.0), HTML(value='')))"
      ]
     },
     "metadata": {},
     "output_type": "display_data"
    },
    {
     "name": "stdout",
     "output_type": "stream",
     "text": [
      "\n"
     ]
    },
    {
     "data": {
      "application/vnd.jupyter.widget-view+json": {
       "model_id": "ab47e2c60b1c455b8229ab923a0b0e89",
       "version_major": 2,
       "version_minor": 0
      },
      "text/plain": [
       "HBox(children=(FloatProgress(value=0.0, max=165023.0), HTML(value='')))"
      ]
     },
     "metadata": {},
     "output_type": "display_data"
    },
    {
     "name": "stdout",
     "output_type": "stream",
     "text": [
      "\n"
     ]
    }
   ],
   "source": [
    "for year in [2010,2011,2012,2013,2014,2015,2016,2017,2018]:\n",
    "    list_Q = dr.get_list_of_questions_posted_in_a_year(year)\n",
    "    with jsonlines.open(str(year)+'_ans.jsonl', mode='w') as writer:\n",
    "        for i in tqdm(list_Q):\n",
    "            dict_q = i.__dict__\n",
    "            try:\n",
    "                for ans in dr.get_answers_for_question(dict_q['post_id']):\n",
    "                    ans_dict = ans.__dict__\n",
    "                    if ans_dict[\"votes\"]:\n",
    "                        num_votes = len(ans_dict[\"votes\"])\n",
    "                        ans_dict[\"votes\"] = num_votes\n",
    "                    else:\n",
    "                        ans_dict[\"votes\"] = 0\n",
    "                    del ans_dict[\"user\"]\n",
    "                    del ans_dict[\"comments\"]\n",
    "    #                 print(ans_dict)\n",
    "                    writer.write(ans_dict)\n",
    "            except:\n",
    "                continue\n",
    "    #         ans = []\n",
    "    #         for\n",
    "    #         writer.write(dict_q)"
   ]
  },
  {
   "cell_type": "code",
   "execution_count": 15,
   "metadata": {},
   "outputs": [
    {
     "data": {
      "text/plain": [
       "{'post_id': 2587133,\n",
       " 'post_type': 1,\n",
       " 'creation_date': '2018-01-01T00:09:16.293',\n",
       " 'score': 0,\n",
       " 'view_count': 669,\n",
       " 'body': '<p>The task is to compute the area of a triangle in a 3 dimensional space who is defined by those 3 points:</p>  <p><span class=\"math-container\" id=\"23922459\">A=(1,1,1),  B=(1,2,0), C=(2,1,2)</span></p>  <p>The problem is that the formula I know would compute me the volume of the triangle.  The formula is the determinant of <span class=\"math-container\" id=\"23922460\">([A][B][C])</span> where <span class=\"math-container\" id=\"23922461\">[V]</span> represents V in the standard base. The area of a triangle is computed as half the area of a parallelogram.</p> ',\n",
       " 'owner_user_id': 477127,\n",
       " 'comment_count': 0,\n",
       " 'last_edit_date': None,\n",
       " 'last_activity_date': None,\n",
       " 'last_editor_user_id': None,\n",
       " 'community_owned_date': None,\n",
       " 'last_editor_display_name': None,\n",
       " 'comments': None,\n",
       " 'votes': None,\n",
       " 'user': <Entities.User.User at 0x7f40c8d95510>,\n",
       " 'related_post': [(128991, False), (128991, True)],\n",
       " 'title': 'Computing an area of a triangle in 3D',\n",
       " 'tags': ['linear-algebra', 'determinant', 'area'],\n",
       " 'accepted_answer_id': 2587138,\n",
       " 'answer_count': 2,\n",
       " 'favourite_count': None,\n",
       " 'closed_date': '2018-01-01T00:37:41.890',\n",
       " 'answers': [<Entities.Post.Answer at 0x7f3ebf265790>,\n",
       "  <Entities.Post.Answer at 0x7f3ebf265750>]}"
      ]
     },
     "execution_count": 15,
     "metadata": {},
     "output_type": "execute_result"
    }
   ],
   "source": [
    "dict_question = list_Q[0].__dict__\n",
    "# del dict_question[\"votes\"]\n",
    "# del dict_question[\"user\"]\n",
    "dict_question"
   ]
  },
  {
   "cell_type": "code",
   "execution_count": 16,
   "metadata": {},
   "outputs": [],
   "source": [
    "from elasticsearch import Elasticsearch\n",
    "\n",
    "es = Elasticsearch(['http://csxindex05:9200/'], verify_certs=True)\n",
    "\n",
    "if not es.ping():\n",
    "    raise ValueError(\"Connection failed\")"
   ]
  },
  {
   "cell_type": "code",
   "execution_count": 94,
   "metadata": {},
   "outputs": [],
   "source": [
    "from datetime import datetime\n",
    "\n",
    "from elasticsearch import Elasticsearch\n",
    "from elasticsearch import helpers\n",
    "\n",
    "es = Elasticsearch(['http://csxindex05:9200/'], verify_certs=True)"
   ]
  },
  {
   "cell_type": "code",
   "execution_count": 18,
   "metadata": {},
   "outputs": [],
   "source": [
    "list_a = []\n",
    "with jsonlines.open(os.path.join(root_path,'2018_ans.jsonl')) as reader:\n",
    "        for obj in reader:\n",
    "            if obj['body']:\n",
    "                obj['body'] = re.sub('<[^<]+?>', '',  obj['body'])\n",
    "            dict_item = {\n",
    "                    \"_index\": \"answer_bulk_index\",\n",
    "                    \"_id\": uuid.uuid4(),\n",
    "                    \"_source\": obj }\n",
    "            list_a.append(dict_item)"
   ]
  },
  {
   "cell_type": "code",
   "execution_count": 19,
   "metadata": {},
   "outputs": [
    {
     "data": {
      "text/plain": [
       "(201902, [])"
      ]
     },
     "execution_count": 19,
     "metadata": {},
     "output_type": "execute_result"
    }
   ],
   "source": [
    "helpers.bulk(es, list_a)"
   ]
  },
  {
   "cell_type": "code",
   "execution_count": 20,
   "metadata": {},
   "outputs": [
    {
     "data": {
      "application/vnd.jupyter.widget-view+json": {
       "model_id": "a753a66ee2404cf48c820e3aa5c94f64",
       "version_major": 2,
       "version_minor": 0
      },
      "text/plain": [
       "HBox(children=(FloatProgress(value=0.0, max=7.0), HTML(value='')))"
      ]
     },
     "metadata": {},
     "output_type": "display_data"
    },
    {
     "name": "stdout",
     "output_type": "stream",
     "text": [
      "\n"
     ]
    }
   ],
   "source": [
    "for file_name in tqdm(['2011_ans.jsonl','2012_ans.jsonl','2013_ans.jsonl','2014_ans.jsonl','2015_ans.jsonl','2016_ans.jsonl','2017_ans.jsonl']) :\n",
    "    list_a = []\n",
    "    with jsonlines.open(os.path.join(root_path,file_name)) as reader:\n",
    "            for obj in reader:\n",
    "                if obj['body']:\n",
    "                    obj['body'] = re.sub('<[^<]+?>', '',  obj['body'])\n",
    "                dict_item = {\n",
    "                        \"_index\": \"answer_bulk_index\",\n",
    "                        \"_id\": uuid.uuid4(),\n",
    "                        \"_source\": obj }\n",
    "                list_a.append(dict_item)\n",
    "    helpers.bulk(es, list_a)"
   ]
  },
  {
   "cell_type": "code",
   "execution_count": 98,
   "metadata": {},
   "outputs": [
    {
     "data": {
      "application/vnd.jupyter.widget-view+json": {
       "model_id": "ed285ccf9b7f413191c09af37efb9611",
       "version_major": 2,
       "version_minor": 0
      },
      "text/plain": [
       "HBox(children=(FloatProgress(value=0.0, max=1.0), HTML(value='')))"
      ]
     },
     "metadata": {},
     "output_type": "display_data"
    },
    {
     "data": {
      "application/vnd.jupyter.widget-view+json": {
       "model_id": "eef6938fbffc4d40a8a2d84250240826",
       "version_major": 2,
       "version_minor": 0
      },
      "text/plain": [
       "HBox(children=(FloatProgress(value=1.0, bar_style='info', max=1.0), HTML(value='')))"
      ]
     },
     "metadata": {},
     "output_type": "display_data"
    },
    {
     "name": "stdout",
     "output_type": "stream",
     "text": [
      "\n",
      "\n"
     ]
    }
   ],
   "source": [
    "# for year in tqdm([2010,2011,2012,2013,2014,2015,2016,2017,2018]):\n",
    "for year in tqdm([2019]):\n",
    "    list_Q = dr.get_list_of_questions_posted_in_a_year(year)\n",
    "    with jsonlines.open(os.path.join(root_path,str(year)+'_ques.jsonl'), mode='w') as writer:\n",
    "        for i in tqdm(list_Q):\n",
    "            dict_q = i.__dict__\n",
    "            list_ans = []\n",
    "#             try:\n",
    "#             if isinstance(dr.get_answers_for_question(dict_q['post_id']), int):\n",
    "#                 dict_q['answers'] = [dr.get_answers_for_question(dict_q['post_id'])]\n",
    "#             else:\n",
    "# #                 print(dr.get_answers_for_question(dict_q['post_id']))\n",
    "#             print(dict_q)\n",
    "            ans = dr.get_answers_for_question(dict_q['post_id'])\n",
    "            if ans:\n",
    "                for ans in dr.get_answers_for_question(dict_q['post_id']):\n",
    "                    list_ans.append(ans.__dict__['post_id'])\n",
    "                dict_q['answers'] = list_ans\n",
    "            else:\n",
    "                dict_q['answers'] = None\n",
    "            del dict_q[\"user\"]\n",
    "            del dict_q[\"votes\"]\n",
    "            del dict_q[\"related_post\"]\n",
    "            del dict_q[\"comments\"]\n",
    "#             print(dict_q)\n",
    "            writer.write(dict_q)\n",
    "            \n",
    "#             except:\n",
    "#                 print(\"exception\")\n",
    "#                 continue"
   ]
  },
  {
   "cell_type": "code",
   "execution_count": 97,
   "metadata": {},
   "outputs": [
    {
     "data": {
      "application/vnd.jupyter.widget-view+json": {
       "model_id": "6f65ca28049841a7ab61925d70bb2d4b",
       "version_major": 2,
       "version_minor": 0
      },
      "text/plain": [
       "HBox(children=(FloatProgress(value=0.0, max=1.0), HTML(value='')))"
      ]
     },
     "metadata": {},
     "output_type": "display_data"
    },
    {
     "data": {
      "application/vnd.jupyter.widget-view+json": {
       "model_id": "635264d9be584225aecf7844a5cdb2a1",
       "version_major": 2,
       "version_minor": 0
      },
      "text/plain": [
       "HBox(children=(FloatProgress(value=1.0, bar_style='info', max=1.0), HTML(value='')))"
      ]
     },
     "metadata": {},
     "output_type": "display_data"
    },
    {
     "name": "stdout",
     "output_type": "stream",
     "text": [
      "\n",
      "\n"
     ]
    }
   ],
   "source": [
    "# for year in tqdm([2010,2011,2012,2013,2014,2015,2016,2017,2018,2019]):\n",
    "for year in tqdm([2019]):\n",
    "    list_Q = dr.get_list_of_questions_posted_in_a_year(year)\n",
    "    with jsonlines.open(os.path.join(root_path,str(year)+'_ques.jsonl'), mode='w') as writer:\n",
    "        for i in tqdm(list_Q):\n",
    "            dict_q = i.__dict__\n",
    "            list_ans = []\n",
    "            try:\n",
    "                if dr.get_answers_for_question(dict_q['post_id']):\n",
    "                    for ans in dr.get_answers_for_question(dict_q['post_id']):\n",
    "                        list_ans.append(ans.__dict__['post_id'])\n",
    "                    dict_q['answers'] = list_ans\n",
    "    #                 del dict_q[\"user\"]\n",
    "    #                 del dict_q[\"votes\"]\n",
    "    #                 del dict_q[\"related_post\"]\n",
    "    #                 wri(dict_q)\n",
    "                    writer.write(dict_q)\n",
    "                else:\n",
    "                    continue\n",
    "            except Exception as e:\n",
    "                print(dict_q)\n",
    "                print(e)\n",
    "                break\n",
    "#                 print(\"exception\")\n",
    "#                 continue"
   ]
  },
  {
   "cell_type": "code",
   "execution_count": 96,
   "metadata": {},
   "outputs": [
    {
     "data": {
      "application/vnd.jupyter.widget-view+json": {
       "model_id": "a600fd5a4eee45799562e86cbfcf08b0",
       "version_major": 2,
       "version_minor": 0
      },
      "text/plain": [
       "HBox(children=(FloatProgress(value=0.0, max=9.0), HTML(value='')))"
      ]
     },
     "metadata": {},
     "output_type": "display_data"
    },
    {
     "name": "stdout",
     "output_type": "stream",
     "text": [
      "\n"
     ]
    }
   ],
   "source": [
    "root_path = '/data/szr207/dataset/ArqMath/jsons/questions'\n",
    "\n",
    "for file_name in tqdm(['2010_ques.jsonl', '2011_ques.jsonl','2012_ques.jsonl','2013_ques.jsonl','2014_ques.jsonl','2015_ques.jsonl','2016_ques.jsonl','2017_ques.jsonl','2018_ques.jsonl']) :\n",
    "    list_a = []\n",
    "    with jsonlines.open(os.path.join(root_path,file_name)) as reader:\n",
    "            for obj in reader:\n",
    "                if obj['body']:\n",
    "                    obj['body'] = re.sub('<[^<]+?>', '',  obj['body'])\n",
    "                if obj['title']:\n",
    "                    obj['title'] = re.sub('<[^<]+?>', '',  obj['title'])\n",
    "                dict_item = {\n",
    "                        \"_index\": \"question_bulk_index\",\n",
    "                        \"_id\": uuid.uuid4(),\n",
    "                        \"_source\": obj }\n",
    "                list_a.append(dict_item)\n",
    "    helpers.bulk(es, list_a)"
   ]
  },
  {
   "cell_type": "code",
   "execution_count": null,
   "metadata": {},
   "outputs": [],
   "source": []
  }
 ],
 "metadata": {
  "kernelspec": {
   "display_name": "Python 3",
   "language": "python",
   "name": "python3"
  },
  "language_info": {
   "codemirror_mode": {
    "name": "ipython",
    "version": 3
   },
   "file_extension": ".py",
   "mimetype": "text/x-python",
   "name": "python",
   "nbconvert_exporter": "python",
   "pygments_lexer": "ipython3",
   "version": "3.7.7"
  }
 },
 "nbformat": 4,
 "nbformat_minor": 4
}
