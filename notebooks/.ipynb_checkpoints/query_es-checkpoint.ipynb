{
 "cells": [
  {
   "cell_type": "code",
   "execution_count": 4,
   "metadata": {},
   "outputs": [
    {
     "name": "stdout",
     "output_type": "stream",
     "text": [
      "['logic']\n",
      "Doubt on Implication of Logical reasoning\n",
      "Its evident that in the truth table of $p \\to q$   When $p$ is False and $q$ is True, Then $p \\to q$ is True.  But in some instances i could not convince myself about this truth value.  For example:  $p$: Quadrilateral is Cyclic  $q$: Opposite angles are supplementary  Now is $p$ is False and $q$ is True, how can $p \\to q$ can be True? \n",
      "=================================\n",
      "['real-analysis', 'proof-verification', 'convergence']\n",
      "if <span class=\"math-container\" id=\"q_730\">$\\sum_{n=1}^{\\infty} a_n$</span> converges absolutely then prove that <span class=\"math-container\" id=\"q_731\">$\\sum_{n=1}^{\\infty} a_n^2$</span> converges\n",
      "I am self studying real analysis.I have come up with following proof and I know that other proofs exist. But, Can someone just tell me if there is anything wrong with the following proof.Thanks in advance     1.we will show that it satisfies cauchy criterion for series  2.consider arbitrary $\\epsilon &gt; 0$  3.since we know that $\\sum a_n$ converges absolutely  we know that there exists a N s.t forall $n &gt; m \\geq N$ s.t $|\\sum_{k=m+1}^{n} |a_k|| = \\sum_{k=m+1}^{n} |a_k| &lt; \\sqrt{\\epsilon}$  4.we know show that this N indeed suffices  5.consider arbitrary $n &gt; m \\geq N$  $|\\sum_{k=m+1}^{n} a_k^2|  =  \\sum_{k=m+1}^{n} a_k^2 \\leq  (\\sum_{k=m+1}^{n} |a_k|)^2 &lt; \\sqrt{\\epsilon}^2 = \\epsilon$  6.so conclude that $\\sum a_n^2$ converges \n",
      "=================================\n",
      "['discrete-mathematics', 'proof-verification', 'inequality', 'proof-writing', 'induction']\n",
      "Prove that n squared is less than or equal to 2 to the n by induction.\n",
      "I've been asked to prove by induction that $n^2\\leq 2^n$, and told it is true $ \\forall n\\in \\mathbb{N},n&gt;3$   I think I have found the right way to the proof, but I'm not sure since I get stuck half-way there. What I did was taking a base case of $n=4$ and tested it, and it resulted to be true. Then I assumed it would be true for some number $k$, such that $n=k$ and $k^2\\leq 2^k$, and attempted to prove   $(k+1)^2 \\leq 2^{k+1}$  And this is how I attempted to prove this. First of all, I started with my assumption.  $=k^2\\leq 2^k$  $=2k^2\\leq2^{k+1}$  Then I tried to prove that $(k+1)^2 \\leq 2k^2$, for this would imply my thesis, i.e. $(k+1)^2\\leq2^{k+1}$. So I went forth on my effort:  $(k+1)^2≤2k^2$  $=k^2+2k+1\\leq2k^2$  $=2k+1\\leq k^2$  (By assumption)  $=2k+1\\leq 2^k$   Now that I simplified it, I need to prove this is true; this is, prove that $(k+1)^2 \\leq 2k^2$. So I take a base case of $n=4$ and in deed it satisfies the inequality. So I assume it is true for some number $j, k=j$ and try to prove it. Nevertheless I have failed in trying to prove this, I don't really know if my steps so far are right or wrong. Is my reasoning okay? And if its, how can I prove $2k+1\\leq 2^k$? Thank you in advance. \n",
      "=================================\n"
     ]
    }
   ],
   "source": [
    "import xml.etree.ElementTree as ET\n",
    "from elasticsearch import Elasticsearch\n",
    "import re\n",
    "class Topic:\n",
    "    \"\"\"\n",
    "    This class shows a topic for task 1. Each topic has an topic_id which is str, a title and question which\n",
    "    is the question body and a list of tags.\n",
    "    \"\"\"\n",
    "\n",
    "    def __init__(self, topic_id, title, question, tags):\n",
    "        self.topic_id = topic_id\n",
    "        self.title = title\n",
    "        self.question = question\n",
    "        self.lst_tags = tags\n",
    "\n",
    "\n",
    "class TopicReader:\n",
    "    \"\"\"\n",
    "    This class takes in the topic file path and read all the topics into a map. The key in this map is the topic id\n",
    "    and the values are Topic which has 4 attributes: id, title, question and list of tags for each topic.\n",
    "\n",
    "    To see each topic, use the get_topic method, which takes the topic id and return the topic in Topic object and\n",
    "    you have access to the 4 attributes mentioned above.\n",
    "    \"\"\"\n",
    "\n",
    "    def __init__(self, topic_file_path):\n",
    "        self.__map_topics = self.__read_topics(topic_file_path)\n",
    "\n",
    "    def __read_topics(self, topic_file_path):\n",
    "        map_topics = {}\n",
    "        tree = ET.parse(topic_file_path)\n",
    "        root = tree.getroot()\n",
    "        for child in root:\n",
    "            topic_id = child.attrib['number']\n",
    "            title = child[0].text\n",
    "            question = child[1].text\n",
    "            lst_tag = child[2].text.split(\",\")\n",
    "            map_topics[topic_id] = Topic(topic_id, title, question, lst_tag)\n",
    "        return map_topics\n",
    "\n",
    "    def get_topic(self, topic_id):\n",
    "        if topic_id in self.__map_topics:\n",
    "            return self.__map_topics[topic_id]\n",
    "        return None\n",
    "\n",
    "def remove_stop(query):\n",
    "    with open('englishST.txt') as f:\n",
    "        all_stopwords = f.readlines()\n",
    "    # you may also want to remove whitespace characters like `\\n` at the end of each line\n",
    "    all_stopwords = [x.strip() for x in all_stopwords] \n",
    "    text_tokens = query.split(' ')\n",
    "    query = [word for word in text_tokens if not word in all_stopwords]\n",
    "    query = ' '.join(query)\n",
    "    return query\n",
    "\n",
    "\n",
    "def remove_punct(my_str):\n",
    "    punctuations = '''!()-[]{};:'\"\\,<>./?@#$%^&*_~'''\n",
    "    # To take input from the user\n",
    "    # my_str = input(\"Enter a string: \")\n",
    "\n",
    "    # remove punctuation from the string\n",
    "    no_punct = \"\"\n",
    "    for char in my_str:\n",
    "        if char not in punctuations:\n",
    "            no_punct = no_punct + char\n",
    "\n",
    "    # display the unpunctuated string\n",
    "    return no_punct\n",
    "\n",
    "\n",
    "es = Elasticsearch(['http://csxindex05:9200/'], verify_certs=True)\n",
    "\n",
    "#\"In this example, the title and the question body of topic with id A.1 is printed.\"\n",
    "topic_file_path = \"/data/szr207/dataset/ArqMath/Task1/Sample Topics/Task1_Samples_V2.0.xml\"\n",
    "topic_reader = TopicReader(topic_file_path)\n",
    "with open('es.punct.dat', 'w') as eval_file:\n",
    "    for topic_id in ['A.31','A.78', 'A.101']:\n",
    "    #     topic_id = \"A.31\"\n",
    "        title = re.sub('<[^<]+?>', '', topic_reader.get_topic(topic_id).title)\n",
    "        body = topic_reader.get_topic(topic_id).question\n",
    "        body_pro = re.sub('<[^<]+?>', '', body)\n",
    "        query = title + '. ' + body_pro\n",
    "        query = query.lower()\n",
    "#         query = remove_stop(query)\n",
    "        query = remove_punct(query)\n",
    "\n",
    "        print(topic_reader.get_topic(topic_id).lst_tags)\n",
    "        print(topic_reader.get_topic(topic_id).title)\n",
    "        print(body_pro)\n",
    "        print(\"=================================\")\n",
    "#         body = {\n",
    "#         \"size\": 1000,\n",
    "#         \"query\": {\n",
    "#                     \"multi_match\": {\n",
    "#                             \"query\": title + '. ' + body_pro,\n",
    "#                             \"fields\":  [\"body\"],\n",
    "#                             \"type\": \"cross_fields\"\n",
    "#                         }\n",
    "#                      }}  \n",
    "  \n",
    "        body = {\n",
    "            \"size\": 1000,\n",
    "            \"query\": {\n",
    "                \"match\": {\n",
    "                    \"body\": query\n",
    "                    #                     \"body\": body_pro\n",
    "                }\n",
    "\n",
    "            }\n",
    "        }\n",
    "        \n",
    "        res = es.search(index=\"answer_bulk_index\", body=body)\n",
    "        count = 1\n",
    "        for result in res['hits']['hits']:\n",
    "            eval_file.write(topic_id+'\\t'+ '1\\t' +str(result['_source']['post_id'])+'\\t'+str(count)+'\\t'+ str(result['_score'])+'\\t'+ 'run_1'+'\\n')\n",
    "            count+=1"
   ]
  },
  {
   "cell_type": "code",
   "execution_count": 1,
   "metadata": {},
   "outputs": [
    {
     "name": "stdout",
     "output_type": "stream",
     "text": [
      "Collecting elasticsearch\n",
      "  Downloading elasticsearch-7.6.0-py2.py3-none-any.whl (88 kB)\n",
      "\u001b[K     |████████████████████████████████| 88 kB 2.2 MB/s eta 0:00:011\n",
      "\u001b[?25hRequirement already satisfied: urllib3>=1.21.1 in /home/szr207/.local/lib/python3.6/site-packages (from elasticsearch) (1.25.8)\n",
      "Installing collected packages: elasticsearch\n",
      "Successfully installed elasticsearch-7.6.0\n"
     ]
    }
   ],
   "source": [
    "!pip install elasticsearch\n",
    "    "
   ]
  },
  {
   "cell_type": "code",
   "execution_count": 1,
   "metadata": {},
   "outputs": [
    {
     "name": "stdout",
     "output_type": "stream",
     "text": [
      "/data/szr207/conda/envs/tf-gpu/bin/python\n"
     ]
    }
   ],
   "source": [
    "!which python"
   ]
  },
  {
   "cell_type": "code",
   "execution_count": 6,
   "metadata": {},
   "outputs": [],
   "source": [
    "from elasticsearch import Elasticsearch\n",
    "from elasticsearch import helpers\n",
    "import uuid\n",
    "es = Elasticsearch(['http://csxindex05:9200/'], verify_certs=True)\n",
    "\n",
    "if not es.ping():\n",
    "    raise ValueError(\"Connection failed\")"
   ]
  },
  {
   "cell_type": "code",
   "execution_count": null,
   "metadata": {},
   "outputs": [],
   "source": []
  }
 ],
 "metadata": {
  "kernelspec": {
   "display_name": "Python 3",
   "language": "python",
   "name": "python3"
  },
  "language_info": {
   "codemirror_mode": {
    "name": "ipython",
    "version": 3
   },
   "file_extension": ".py",
   "mimetype": "text/x-python",
   "name": "python",
   "nbconvert_exporter": "python",
   "pygments_lexer": "ipython3",
   "version": "3.6.10"
  }
 },
 "nbformat": 4,
 "nbformat_minor": 4
}
