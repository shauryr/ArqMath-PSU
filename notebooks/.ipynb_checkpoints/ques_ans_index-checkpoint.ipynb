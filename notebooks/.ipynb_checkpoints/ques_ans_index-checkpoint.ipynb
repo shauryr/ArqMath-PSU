{
 "cells": [
  {
   "cell_type": "markdown",
   "metadata": {},
   "source": [
    "### Index Question and there answers together\n",
    "\n",
    "Answers which have questions should be index together\n",
    "\n",
    "Answer if it is associated with a question should be indexed with the question in elastic.\n",
    "\n",
    "then reranked on the basis of answer text"
   ]
  },
  {
   "cell_type": "code",
   "execution_count": 1,
   "metadata": {},
   "outputs": [],
   "source": [
    "import glob\n",
    "from tqdm.notebook import tqdm\n",
    "import os\n",
    "import jsonlines\n",
    "import re\n",
    "from elasticsearch import Elasticsearch\n",
    "from collections import defaultdict\n",
    "import pandas as pd\n",
    "\n",
    "ans_path = '/data/szr207/dataset/ArqMath/jsons/answers/all.ans.jsonl'\n",
    "ques_path = '/data/szr207/dataset/ArqMath/jsons/questions/all.ques.jsonl'"
   ]
  },
  {
   "cell_type": "code",
   "execution_count": 2,
   "metadata": {},
   "outputs": [
    {
     "data": {
      "application/vnd.jupyter.widget-view+json": {
       "model_id": "6fc01bcff5bc4ebf8c06a437febd3b22",
       "version_major": 2,
       "version_minor": 0
      },
      "text/plain": [
       "HBox(children=(FloatProgress(value=1.0, bar_style='info', max=1.0), HTML(value='')))"
      ]
     },
     "metadata": {},
     "output_type": "display_data"
    },
    {
     "name": "stdout",
     "output_type": "stream",
     "text": [
      "\n"
     ]
    },
    {
     "data": {
      "application/vnd.jupyter.widget-view+json": {
       "model_id": "62a2dc605fb6439a8e7b266b0412e8f4",
       "version_major": 2,
       "version_minor": 0
      },
      "text/plain": [
       "HBox(children=(FloatProgress(value=1.0, bar_style='info', max=1.0), HTML(value='')))"
      ]
     },
     "metadata": {},
     "output_type": "display_data"
    },
    {
     "name": "stdout",
     "output_type": "stream",
     "text": [
      "\n"
     ]
    }
   ],
   "source": [
    "dict_ans = {}\n",
    "\n",
    "with jsonlines.open(os.path.join(ans_path)) as reader:\n",
    "        for obj in tqdm(reader):\n",
    "            dict_ans[obj['post_id']] = obj\n",
    "\n",
    "dict_ques = {}\n",
    "\n",
    "with jsonlines.open(os.path.join(ques_path)) as reader:\n",
    "        for obj in tqdm(reader):\n",
    "            dict_ques[obj['post_id']] = obj"
   ]
  },
  {
   "cell_type": "code",
   "execution_count": 3,
   "metadata": {},
   "outputs": [
    {
     "data": {
      "application/vnd.jupyter.widget-view+json": {
       "model_id": "60d34bcfad284321a5e5bf5184c0fc37",
       "version_major": 2,
       "version_minor": 0
      },
      "text/plain": [
       "HBox(children=(FloatProgress(value=0.0, max=1029449.0), HTML(value='')))"
      ]
     },
     "metadata": {},
     "output_type": "display_data"
    },
    {
     "name": "stdout",
     "output_type": "stream",
     "text": [
      "\n"
     ]
    }
   ],
   "source": [
    "list_q_ans = []\n",
    "\n",
    "for qid in tqdm(list(dict_ques.keys())):\n",
    "    if dict_ques[qid]['accepted_answer_id'] in dict_ans:\n",
    "        list_q_ans.append(dict_ques[qid]['accepted_answer_id'])\n",
    "    if dict_ques[qid]['answers']:\n",
    "        for ans in dict_ques[qid]['answers']:\n",
    "            if ans in dict_ans:\n",
    "                list_q_ans.append(ans)\n"
   ]
  },
  {
   "cell_type": "code",
   "execution_count": 4,
   "metadata": {},
   "outputs": [
    {
     "data": {
      "text/plain": [
       "1981788"
      ]
     },
     "execution_count": 4,
     "metadata": {},
     "output_type": "execute_result"
    }
   ],
   "source": [
    "len(list_q_ans)"
   ]
  },
  {
   "cell_type": "code",
   "execution_count": 5,
   "metadata": {},
   "outputs": [
    {
     "data": {
      "text/plain": [
       "1435643"
      ]
     },
     "execution_count": 5,
     "metadata": {},
     "output_type": "execute_result"
    }
   ],
   "source": [
    "list_q_ans = list(set(list_q_ans))\n",
    "len(list_q_ans)"
   ]
  },
  {
   "cell_type": "code",
   "execution_count": 13,
   "metadata": {},
   "outputs": [
    {
     "data": {
      "application/vnd.jupyter.widget-view+json": {
       "model_id": "fe3bfdac0cce4eab8db3f666c8b23564",
       "version_major": 2,
       "version_minor": 0
      },
      "text/plain": [
       "HBox(children=(FloatProgress(value=0.0, max=1435643.0), HTML(value='')))"
      ]
     },
     "metadata": {},
     "output_type": "display_data"
    },
    {
     "name": "stdout",
     "output_type": "stream",
     "text": [
      "\n"
     ]
    }
   ],
   "source": [
    "list_idx_qa = []\n",
    "\n",
    "for a_id in tqdm(list_q_ans):\n",
    "    ans_body = re.sub('<[^<]+?>', '',  dict_ans[a_id]['body'])\n",
    "    qid = dict_ans[a_id]['parent_id']\n",
    "    ques_body = re.sub('<[^<]+?>', '',  dict_ques[qid]['body'])\n",
    "    ques_title = re.sub('<[^<]+?>', '',  dict_ques[qid]['title'])\n",
    "    list_idx_qa.append({ 'post_id':a_id, 'body': ques_title + '. ' + ques_body + '. ' + ans_body })"
   ]
  },
  {
   "cell_type": "code",
   "execution_count": 8,
   "metadata": {
    "scrolled": true
   },
   "outputs": [
    {
     "data": {
      "text/plain": [
       "[{5652: 'Floor function properties: [2x] = [x] + [ x + \\\\frac12 ] and [nx] = \\\\sum_{k = 0}^{n - 1} [ x + \\\\frac{k}{n} ] . I\\'m doing some exercises on Apostol\\'s calculus, on the floor function. Now, he doesn\\'t give an explicit definition of [x], so I\\'m going with this one:     DEFINITION Given  x\\\\in \\\\Bbb R, the integer part of x is the unique z\\\\in \\\\Bbb Z such that z\\\\leq x &lt; z+1 and we denote it by [x].   Now he asks to prove some basic things about it, such as: if n\\\\in \\\\Bbb Z, then [x+n]=[x]+n  So I proved it like this: Let z=[x+n] and z\\'=[x]. Then we have that  z\\\\leq x+n&lt;z+1  z\\'\\\\leq x&lt;z\\'+1  Then z\\'+n\\\\leq x+n&lt;z\\'+n+1  But since z\\' is an integer, so is z\\'+n. Since z is unique, it must be that z\\'+n=z.  However, this doesn\\'t seem to get me anywhere to prove that  \\\\left[ {2x} \\\\right] = \\\\left[ x \\\\right] + \\\\left[ {x + \\\\frac{1}{2}} \\\\right]  in and in general that   \\\\left[ {nx} \\\\right] = \\\\sum\\\\limits_{k = 0}^{n - 1} {\\\\left[ {x + \\\\frac{k}{n}} \\\\right]}   Obviously one could do an informal proof thinking about \"the carries\", but that\\'s not the idea, let alone how tedious it would be. Maybe there is some easier or clearer characterization of [x] in terms of x to work this out.  Another property is [-x]=\\\\begin{cases}-[x]\\\\text{ ; if }x\\\\in \\\\Bbb Z \\\\cr-[x]-1 \\\\text{ ; otherwise}\\\\end{cases}  I argue: if x\\\\in\\\\Bbb Z, it is clear [x]=x. Then -[x]=-x, and -[x]\\\\in \\\\Bbb Z so [-[x]]=-[x]=[-x]. For the other, I guess one could say:  n \\\\leqslant x &lt; n + 1 \\\\Rightarrow  - n - 1 &lt; x \\\\leqslant -n  and since x is not an integer, this should be the same as  - n - 1 \\\\leqslant -x &lt; -n   - n - 1 \\\\leqslant -x &lt; (-n-1)+1  So [-x]=-[x]-1 . It is enough to prove it for 0 &lt; x &lt; 1.  Now, let M be an integer such that, \\\\frac{M}{n} \\\\le x &lt; \\\\frac{M+1}{n} where 0 \\\\le M &lt; n  Thus [nx] = M.  For 0 \\\\le k \\\\le n-M-1, we have that [x+\\\\frac{k}{n}] = 0.   For n-1 \\\\ge k > n-M-1 we have that [x + \\\\frac{k}{n}] = 1.   The result follows.  I don\\'t think induction can be used here. '},\n",
       " {5667: 'Floor function properties: [2x] = [x] + [ x + \\\\frac12 ] and [nx] = \\\\sum_{k = 0}^{n - 1} [ x + \\\\frac{k}{n} ] . I\\'m doing some exercises on Apostol\\'s calculus, on the floor function. Now, he doesn\\'t give an explicit definition of [x], so I\\'m going with this one:     DEFINITION Given  x\\\\in \\\\Bbb R, the integer part of x is the unique z\\\\in \\\\Bbb Z such that z\\\\leq x &lt; z+1 and we denote it by [x].   Now he asks to prove some basic things about it, such as: if n\\\\in \\\\Bbb Z, then [x+n]=[x]+n  So I proved it like this: Let z=[x+n] and z\\'=[x]. Then we have that  z\\\\leq x+n&lt;z+1  z\\'\\\\leq x&lt;z\\'+1  Then z\\'+n\\\\leq x+n&lt;z\\'+n+1  But since z\\' is an integer, so is z\\'+n. Since z is unique, it must be that z\\'+n=z.  However, this doesn\\'t seem to get me anywhere to prove that  \\\\left[ {2x} \\\\right] = \\\\left[ x \\\\right] + \\\\left[ {x + \\\\frac{1}{2}} \\\\right]  in and in general that   \\\\left[ {nx} \\\\right] = \\\\sum\\\\limits_{k = 0}^{n - 1} {\\\\left[ {x + \\\\frac{k}{n}} \\\\right]}   Obviously one could do an informal proof thinking about \"the carries\", but that\\'s not the idea, let alone how tedious it would be. Maybe there is some easier or clearer characterization of [x] in terms of x to work this out.  Another property is [-x]=\\\\begin{cases}-[x]\\\\text{ ; if }x\\\\in \\\\Bbb Z \\\\cr-[x]-1 \\\\text{ ; otherwise}\\\\end{cases}  I argue: if x\\\\in\\\\Bbb Z, it is clear [x]=x. Then -[x]=-x, and -[x]\\\\in \\\\Bbb Z so [-[x]]=-[x]=[-x]. For the other, I guess one could say:  n \\\\leqslant x &lt; n + 1 \\\\Rightarrow  - n - 1 &lt; x \\\\leqslant -n  and since x is not an integer, this should be the same as  - n - 1 \\\\leqslant -x &lt; -n   - n - 1 \\\\leqslant -x &lt; (-n-1)+1  So [-x]=-[x]-1 . Both sides are equal since they count the same set: the RHS counts naturals \\\\rm\\\\:\\\\le n\\\\:x\\\\:. The LHS counts them in a unique mod \\\\rm\\\\ n\\\\  representation, \\\\: viz. \\\\rm\\\\ \\\\: j \\\\:\\\\le\\\\: x+k/n\\\\: \\\\iff \\\\ j\\\\:n-k \\\\:\\\\le\\\\: n\\\\:x\\\\:,\\\\ \\\\ j>0 \\\\le k &lt; n\\\\:.     REMARK \\\\: That every natural has a unique representation of form \\\\rm \\\\: j\\\\:n-k \\\\ \\\\ \\\\: where \\\\rm\\\\ \\\\ \\\\: j>0 \\\\le k &lt; n\\\\ \\\\ \\\\  is simply a slight variant of the Division Algorithm where one utilizes negative (vs. positive) remainders.\\\\ \\\\  To derive this negative form, simply  perform the following transformation on the positive remainder form \\\\rm\\\\ q\\\\: n + r\\\\ \\\\to\\\\ (q+1)\\\\:n + r-n\\\\  if \\\\rm\\\\ r\\\\ne 0\\\\:, i.e. inc the quotient, dec the remainder by the dividend.   Thus the result is equivalent to the Division Algorithm, whose normal proof is indeed by induction. One could give a direct inductive proof of the result if, instead of invoking the Division Algorithm by name, one unwinds or inlines this inductive proof directly into the proof of the result - much as the same way that the classic Lindenmann - Zermelo direct proof of unique factorization of naturals inlines a division / Euclidean algorithm based descent proof of the fundamental Prime Divisor property \\\\rm\\\\ p|ab\\\\ \\\\Rightarrow\\\\ p|a\\\\ \\\\ or\\\\ \\\\ p|b\\\\:. '},\n",
       " {16021: 'Equivalent statements of the Axiom of Choice. As a little project for myself this winter break, I\\'m trying to go through as much of Enderton\\'s Elements of Set Theory as I can. I hit a snag trying to show two forms of the Axiom of Choice are equivalent. This is exercise 31 on page 55.   The first form is:     For any relation R there is a function G\\\\subseteq R with \\\\text{dom}\\\\ G=\\\\text{dom}\\\\ R.   and the second form is:     For any set I and any function H with domain I, if H(i)\\\\neq\\\\emptyset for all i\\\\in I, then \\\\times_{i\\\\in I}H(i)\\\\neq\\\\emptyset.   Here is what I have so far:  Assume the first form. Take any set $I$ and let H be a function with domain I such that H(i)\\\\neq\\\\emptyset for all i\\\\in I. This function H is a relation, so by the Axiom of Choice, there exists a function G\\\\subseteq H such that \\\\text{dom}\\\\ G=\\\\text{dom}\\\\ H=I. Since \\\\text{dom}\\\\ G=I, for each i\\\\in I, there exists some G(i) such that (i,G(i))\\\\in G. But since G\\\\subseteq H, (i,G(i))=(j,H(j)) for some j\\\\in I. Since these are ordered pairs, i=j and G(i)=H(j)? I suppose I want to be able to show that for all i\\\\in I, I can have G \"choose\" some element G(i)\\\\in H(i), and thus G\\\\in\\\\times_{i\\\\in I}H(i), showing that \\\\times_{i\\\\in I}H(i)\\\\neq\\\\emptyset, but I don\\'t see how the first form allows one to do that. Instead, all I see is that G(i)=H(i).  Conversely, I assume the second form. I take any relation R, and denote \\\\text{dom}\\\\ R=I. Let H be any function with domain I. Now if H(i)\\\\neq\\\\emptyset for all i, then \\\\times_{i\\\\in I}H(i)\\\\neq\\\\emptyset, so then I could take some f\\\\in\\\\times_{i\\\\in I}H(i), so by definition, \\\\text{dom} f=I, and for all i, f(i)\\\\in H(i). If it is the case that (i,H(i))\\\\in R, then f\\\\subseteq R, and the first form would be proven. Again, I suppose I want H to be a function that, for each i\\\\in I, H takes the value of exactly one y_i such that iRy_i, but again, I don\\'t see how the assumed axiom allows one to do this.  Can anyone explain how to get around these two issues? Thank you. . The key in these kinds of proofs is to find a particular instance of the proposition you are assuming that will yield the one you want. So in order to prove the second form from the first, you start with I and H, and want to \"cook up\" some R for which the G will yield what you want. And conversely.   You are sort of on the right track, but the problem is that you are trying to apply each form to the information from the other, instead of cooking up an appropriate set to apply the \"other\" form in each case. For instance, in your second proof, you shouldn\\'t take H to be any function, you want to cook up a particular function.   Now, before we actually prove they are equivalent, let\\'s think about them. Intuitively, why should these two \"be\" the Axiom of Choice? In a relation, every element in the domain is associated to many elements in the codomain. Being able to find a function \"contained\" in the relation is like, for each x in the domain, picking one element from each of the things that are associated to x to be the image of $x$. This is the Axiom of Choice (you are picking one element from each collection of \"things related to $i$\" for i\\\\in I). As for the second, an element of \\\\mathop{\\\\times}\\\\limits_{i\\\\in I}H(i) is a function from I to \\\\cup H(i) such that the image of $i$ is in H(i) for each i; again, a choice of elements from a family of sets, again Choice. Knowing how each of them relates to AC, and hence to each other, should help you figure out how to show the equivalence: after all, that equivalence should be one in which the particular \"choice\" that one form allows you to make is exactly the \"choice\" that the other form requires you to make.   For more explicit hints:  In your attempt to show the first form implies the second, you are focusing on the wrong thing; you don\\'t want to look at H as a relation, because then you will have G=H (H is already a function). Instead, define a relation R\\\\subseteq I\\\\times \\\\cup H(i) by (i,x) if and only if x\\\\in H(i). (That is, H(i) is a nonempty set for each i; associate with each $i$ all elements in H(i)). Now use the first form with R, not with H, because the G should give you an element of the product (think of them as described above).  For the second, assume that R is a relation, and you want to define a function contained in R with the same domain. Let I be the domain of R, and for each i\\\\in I, let H(i) = \\\\{ x\\\\in\\\\mathrm{codom}(R)\\\\mid iRx\\\\}. Use the fact that the product is nonempty to pick an element in the product (which \"picks\" an element from each of the sets of \"things related to $i$\") and use that to define the function G.  '}]"
      ]
     },
     "execution_count": 8,
     "metadata": {},
     "output_type": "execute_result"
    }
   ],
   "source": [
    "list_idx_qa[:3]"
   ]
  },
  {
   "cell_type": "code",
   "execution_count": 10,
   "metadata": {},
   "outputs": [],
   "source": [
    "from elasticsearch import Elasticsearch\n",
    "from elasticsearch import helpers\n",
    "import os, uuid\n",
    "\n",
    "es = Elasticsearch(['http://csxindex05:9200/'], verify_certs=True)\n",
    "\n",
    "if not es.ping():\n",
    "    raise ValueError(\"Connection failed\")"
   ]
  },
  {
   "cell_type": "code",
   "execution_count": 14,
   "metadata": {},
   "outputs": [
    {
     "data": {
      "application/vnd.jupyter.widget-view+json": {
       "model_id": "4a7988abc1a54562b16860b798bdfc2d",
       "version_major": 2,
       "version_minor": 0
      },
      "text/plain": [
       "HBox(children=(FloatProgress(value=0.0, max=1435643.0), HTML(value='')))"
      ]
     },
     "metadata": {},
     "output_type": "display_data"
    },
    {
     "name": "stdout",
     "output_type": "stream",
     "text": [
      "\n"
     ]
    }
   ],
   "source": [
    "list_a = []\n",
    "for obj in tqdm(list_idx_qa):\n",
    "    dict_item = {\n",
    "            \"_index\": \"arq_ans_ques\",\n",
    "            \"_id\": uuid.uuid4(),\n",
    "            \"_source\": obj }\n",
    "    list_a.append(dict_item)"
   ]
  },
  {
   "cell_type": "code",
   "execution_count": null,
   "metadata": {},
   "outputs": [],
   "source": [
    "helpers.bulk(es, list_a)"
   ]
  },
  {
   "cell_type": "code",
   "execution_count": null,
   "metadata": {},
   "outputs": [],
   "source": []
  }
 ],
 "metadata": {
  "kernelspec": {
   "display_name": "Python 3",
   "language": "python",
   "name": "python3"
  },
  "language_info": {
   "codemirror_mode": {
    "name": "ipython",
    "version": 3
   },
   "file_extension": ".py",
   "mimetype": "text/x-python",
   "name": "python",
   "nbconvert_exporter": "python",
   "pygments_lexer": "ipython3",
   "version": "3.7.7"
  }
 },
 "nbformat": 4,
 "nbformat_minor": 4
}
