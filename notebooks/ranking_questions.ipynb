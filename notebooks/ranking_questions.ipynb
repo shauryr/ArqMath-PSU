{
 "cells": [
  {
   "cell_type": "markdown",
   "metadata": {},
   "source": [
    "## Rank questions on the basis of BERT\n",
    "\n",
    "We have seen that similarity on the basis of answers doesnt work as -\n",
    "- the way the ground is created\n",
    "- if you can find a similar past question to the current question, the past answers automatically become the answers for this questions\n",
    "\n",
    "\n",
    "Some oberservation - \n",
    "\n",
    "- Similar questions increase recall and are able to get a lot more similar \n",
    "- np.mean gives better results than the CLS token representation\n",
    "\n",
    "New Experiments - \n",
    "\n",
    "Check results for search against answer index and question index - how much overlap do each of them have ?\n",
    "\n",
    "\n",
    "#### We should know the length of accepted answers so that we understand what is acceptable"
   ]
  },
  {
   "cell_type": "code",
   "execution_count": null,
   "metadata": {},
   "outputs": [],
   "source": []
  }
 ],
 "metadata": {
  "kernelspec": {
   "display_name": "Python 3",
   "language": "python",
   "name": "python3"
  },
  "language_info": {
   "codemirror_mode": {
    "name": "ipython",
    "version": 3
   },
   "file_extension": ".py",
   "mimetype": "text/x-python",
   "name": "python",
   "nbconvert_exporter": "python",
   "pygments_lexer": "ipython3",
   "version": "3.7.7"
  }
 },
 "nbformat": 4,
 "nbformat_minor": 4
}
