{
 "cells": [
  {
   "cell_type": "markdown",
   "metadata": {},
   "source": [
    "# tf-df baseline "
   ]
  },
  {
   "cell_type": "code",
   "execution_count": 1,
   "metadata": {},
   "outputs": [],
   "source": [
    "import glob\n",
    "from tqdm.notebook import tqdm\n",
    "import os\n",
    "import jsonlines\n",
    "import re\n",
    "import xml.etree.ElementTree as ET\n",
    "from elasticsearch import Elasticsearch\n",
    "import re\n",
    "from collections import defaultdict\n",
    "import numpy as np\n",
    "from scipy import spatial\n",
    "import numpy as np\n",
    "from sklearn.feature_extraction.text import TfidfVectorizer\n",
    "from sklearn.metrics.pairwise import linear_kernel\n",
    "from collections import Counter\n"
   ]
  },
  {
   "cell_type": "code",
   "execution_count": 61,
   "metadata": {
    "scrolled": true
   },
   "outputs": [
    {
     "name": "stdout",
     "output_type": "stream",
     "text": [
      "A.31 Doubt on Implication of Logical reasoning <p>Its evident that in the truth table of <span class=\"math-container\" id=\"q_253\">$p \\to q$</span> </p>  <p>When <span class=\"math-container\" id=\"q_254\">$p$</span> is False and <span class=\"math-container\" id=\"q_255\">$q$</span> is True, Then <span class=\"math-container\" id=\"q_256\">$p \\to q$</span> is True.</p>  <p>But in some instances i could not convince myself about this truth value.</p>  <p>For example:</p>  <p><span class=\"math-container\" id=\"q_257\">$p$</span>: Quadrilateral is Cyclic</p>  <p><span class=\"math-container\" id=\"q_258\">$q$</span>: Opposite angles are supplementary</p>  <p>Now is <span class=\"math-container\" id=\"q_259\">$p$</span> is False and <span class=\"math-container\" id=\"q_260\">$q$</span> is True, how can <span class=\"math-container\" id=\"q_261\">$p \\to q$</span> can be True?</p> \n",
      "=================================\n",
      "A.78 if <span class=\"math-container\" id=\"q_730\">$\\sum_{n=1}^{\\infty} a_n$</span> converges absolutely then prove that <span class=\"math-container\" id=\"q_731\">$\\sum_{n=1}^{\\infty} a_n^2$</span> converges <p>I am self studying real analysis.I have come up with following proof and I know that other proofs exist. But, Can someone just tell me if there is anything wrong with the following proof.Thanks in advance   </p>  <p>1.we will show that it satisfies cauchy criterion for series</p>  <p>2.consider arbitrary <span class=\"math-container\" id=\"q_732\">$\\epsilon &gt; 0$</span></p>  <p>3.since we know that <span class=\"math-container\" id=\"q_733\">$\\sum a_n$</span> converges absolutely</p>  <p>we know that there exists a N s.t forall <span class=\"math-container\" id=\"q_734\">$n &gt; m \\geq N$</span> s.t <span class=\"math-container\" id=\"q_735\">$|\\sum_{k=m+1}^{n} |a_k|| = \\sum_{k=m+1}^{n} |a_k| &lt; \\sqrt{\\epsilon}$</span></p>  <p>4.we know show that this N indeed suffices</p>  <p>5.consider arbitrary <span class=\"math-container\" id=\"q_736\">$n &gt; m \\geq N$</span></p>  <p><span class=\"math-container\" id=\"q_737\">$|\\sum_{k=m+1}^{n} a_k^2|  =  \\sum_{k=m+1}^{n} a_k^2 \\leq  (\\sum_{k=m+1}^{n} |a_k|)^2 &lt; \\sqrt{\\epsilon}^2 = \\epsilon$</span></p>  <p>6.so conclude that <span class=\"math-container\" id=\"q_738\">$\\sum a_n^2$</span> converges</p> \n",
      "=================================\n",
      "A.101 Prove that n squared is less than or equal to 2 to the n by induction. <p>I've been asked to prove by induction that <span class=\"math-container\" id=\"q_1027\">$n^2\\leq 2^n$</span>, and told it is true <span class=\"math-container\" id=\"q_1028\">$ \\forall n\\in \\mathbb{N},n&gt;3$</span> </p>  <p>I think I have found the right way to the proof, but I'm not sure since I get stuck half-way there. What I did was taking a base case of <span class=\"math-container\" id=\"q_1029\">$n=4$</span> and tested it, and it resulted to be true. Then I assumed it would be true for some number <span class=\"math-container\" id=\"q_1030\">$k$</span>, such that <span class=\"math-container\" id=\"q_1031\">$n=k$</span> and <span class=\"math-container\" id=\"q_1032\">$k^2\\leq 2^k$</span>, and attempted to prove </p>  <p><span class=\"math-container\" id=\"q_1033\">$(k+1)^2 \\leq 2^{k+1}$</span></p>  <p>And this is how I attempted to prove this. First of all, I started with my assumption.</p>  <p><span class=\"math-container\" id=\"q_1034\">$=k^2\\leq 2^k$</span></p>  <p><span class=\"math-container\" id=\"q_1035\">$=2k^2\\leq2^{k+1}$</span></p>  <p>Then I tried to prove that <span class=\"math-container\" id=\"q_1036\">$(k+1)^2 \\leq 2k^2$</span>, for this would imply my thesis, i.e. <span class=\"math-container\" id=\"q_1037\">$(k+1)^2\\leq2^{k+1}$</span>. So I went forth on my effort:</p>  <p><span class=\"math-container\" id=\"q_1038\">$(k+1)^2≤2k^2$</span></p>  <p><span class=\"math-container\" id=\"q_1039\">$=k^2+2k+1\\leq2k^2$</span></p>  <p><span class=\"math-container\" id=\"q_1040\">$=2k+1\\leq k^2$</span></p>  <p>(<strong><em>By assumption</em></strong>)</p>  <p><span class=\"math-container\" id=\"q_1041\">$=2k+1\\leq 2^k$</span> </p>  <p>Now that I simplified it, I need to prove this is true; this is, prove that <span class=\"math-container\" id=\"q_1042\">$(k+1)^2 \\leq 2k^2$</span>. So I take a base case of <span class=\"math-container\" id=\"q_1043\">$n=4$</span> and in deed it satisfies the inequality. So I assume it is true for some number <span class=\"math-container\" id=\"q_1044\">$j, k=j$</span> and try to prove it. Nevertheless I have failed in trying to prove this, I don't really know if my steps so far are right or wrong. Is my reasoning okay? And if its, how can I prove <span class=\"math-container\" id=\"q_1045\">$2k+1\\leq 2^k$</span>? Thank you in advance.</p> \n",
      "=================================\n"
     ]
    }
   ],
   "source": [
    "class Topic:\n",
    "    \"\"\"\n",
    "    This class shows a topic for task 1. Each topic has an topic_id which is str, a title and question which\n",
    "    is the question body and a list of tags.\n",
    "    \"\"\"\n",
    "\n",
    "    def __init__(self, topic_id, title, question, tags):\n",
    "        self.topic_id = topic_id\n",
    "        self.title = title\n",
    "        self.question = question\n",
    "        self.lst_tags = tags\n",
    "\n",
    "\n",
    "class TopicReader:\n",
    "    \"\"\"\n",
    "    This class takes in the topic file path and read all the topics into a map. The key in this map is the topic id\n",
    "    and the values are Topic which has 4 attributes: id, title, question and list of tags for each topic.\n",
    "\n",
    "    To see each topic, use the get_topic method, which takes the topic id and return the topic in Topic object and\n",
    "    you have access to the 4 attributes mentioned above.\n",
    "    \"\"\"\n",
    "\n",
    "    def __init__(self, topic_file_path):\n",
    "        self.__map_topics = self.__read_topics(topic_file_path)\n",
    "\n",
    "    def __read_topics(self, topic_file_path):\n",
    "        map_topics = {}\n",
    "        tree = ET.parse(topic_file_path)\n",
    "        root = tree.getroot()\n",
    "        for child in root:\n",
    "            topic_id = child.attrib['number']\n",
    "            title = child[0].text\n",
    "            question = child[1].text\n",
    "            lst_tag = child[2].text.split(\",\")\n",
    "            map_topics[topic_id] = Topic(topic_id, title, question, lst_tag)\n",
    "        return map_topics\n",
    "\n",
    "    def get_topic(self, topic_id):\n",
    "        if topic_id in self.__map_topics:\n",
    "            return self.__map_topics[topic_id]\n",
    "        return None\n",
    "\n",
    "def remove_stop(query):\n",
    "    with open('englishST.txt') as f:\n",
    "        all_stopwords = f.readlines()\n",
    "    # you may also want to remove whitespace characters like `\\n` at the end of each line\n",
    "    all_stopwords = [x.strip() for x in all_stopwords] \n",
    "    text_tokens = query.split(' ')\n",
    "    query = [word for word in text_tokens if not word in all_stopwords]\n",
    "    query = ' '.join(query)\n",
    "    return query\n",
    "\n",
    "def remove_punct(my_str):\n",
    "    punctuations = '''!()-[]{};:'\"\\,<>./?@#$%^&*_~'''\n",
    "    # To take input from the user\n",
    "    # my_str = input(\"Enter a string: \")\n",
    "\n",
    "    # remove punctuation from the string\n",
    "    no_punct = \"\"\n",
    "    for char in my_str:\n",
    "        if char not in punctuations:\n",
    "            no_punct = no_punct + char\n",
    "\n",
    "    # display the unpunctuated string\n",
    "    return no_punct\n",
    "\n",
    "es = Elasticsearch(['http://csxindex05:9200/'], verify_certs=True)\n",
    "queries = []\n",
    "#\"In this example, the title and the question body of topic with id A.1 is printed.\"\n",
    "topic_file_path = \"/data/szr207/dataset/ArqMath/Task1/Sample Topics/Task1_Samples_V2.0.xml\"\n",
    "topic_reader = TopicReader(topic_file_path)\n",
    "dict_q_a = defaultdict(list)\n",
    "for topic_id in ['A.31','A.78', 'A.101']:\n",
    "#     topic_id = \"A.31\"\n",
    "    title = re.sub('<[^<]+?>', '', topic_reader.get_topic(topic_id).title)\n",
    "    body = topic_reader.get_topic(topic_id).question\n",
    "    body_pro = re.sub('<[^<]+?>', '', body)\n",
    "    query = title + '. ' + body_pro\n",
    "    \n",
    "    query = query.lower()\n",
    "    query = remove_stop(query)\n",
    "    queries.append(query)\n",
    "#     print(topic_reader.get_topic(topic_id).lst_tags)\n",
    "    print(topic_id, topic_reader.get_topic(topic_id).title, topic_reader.get_topic(topic_id).question)\n",
    "#     print(body_pro)\n",
    "    print(\"=================================\")\n",
    "    body = {\n",
    "        \"size\": 1000,\n",
    "        \"query\": {\n",
    "            \"match\": {\n",
    "                \"body\": query\n",
    "            }\n",
    "\n",
    "        }\n",
    "    }\n",
    "\n",
    "    res = es.search(index=\"answer_bulk_index\", body=body)\n",
    "    for result in res['hits']['hits']:\n",
    "        dict_q_a[topic_id].append(str(result['_source']['post_id']))"
   ]
  },
  {
   "cell_type": "code",
   "execution_count": 62,
   "metadata": {
    "jupyter": {
     "source_hidden": true
    }
   },
   "outputs": [
    {
     "data": {
      "application/vnd.jupyter.widget-view+json": {
       "model_id": "6ca0cde414654508bf9c51c7d377f727",
       "version_major": 2,
       "version_minor": 0
      },
      "text/plain": [
       "HBox(children=(FloatProgress(value=1.0, bar_style='info', max=1.0), HTML(value='')))"
      ]
     },
     "metadata": {},
     "output_type": "display_data"
    },
    {
     "name": "stdout",
     "output_type": "stream",
     "text": [
      "\n"
     ]
    },
    {
     "data": {
      "application/vnd.jupyter.widget-view+json": {
       "model_id": "3ecb5b321a9647e3877eeba13b2fab22",
       "version_major": 2,
       "version_minor": 0
      },
      "text/plain": [
       "HBox(children=(FloatProgress(value=1.0, bar_style='info', max=1.0), HTML(value='')))"
      ]
     },
     "metadata": {},
     "output_type": "display_data"
    },
    {
     "name": "stdout",
     "output_type": "stream",
     "text": [
      "\n"
     ]
    }
   ],
   "source": [
    "ques_path = '/data/szr207/dataset/ArqMath/jsons/questions/all.ques.jsonl'\n",
    "ans_path = '/data/szr207/dataset/ArqMath/jsons/answers/all.ans.jsonl'\n",
    "\n",
    "\n",
    "l_ques_idx = []\n",
    "l_ques_body = []\n",
    "\n",
    "with jsonlines.open(os.path.join(ques_path)) as reader:\n",
    "    for obj in tqdm(reader):\n",
    "        if obj['body']:\n",
    "            body = re.sub('<[^<]+?>', '', obj['title'] +'. '+ obj['body'])\n",
    "            l_ques_body.append(remove_stop(body.lower()))\n",
    "            l_ques_idx.append(obj['post_id'])\n",
    "                          \n",
    "l_ans_idx = []\n",
    "l_ans_body = []\n",
    "            \n",
    "with jsonlines.open(os.path.join(ans_path)) as reader:\n",
    "    for obj in tqdm(reader):\n",
    "        if obj['body']:\n",
    "            body = re.sub('<[^<]+?>', '',  obj['body'])\n",
    "            l_ans_body.append(remove_stop(body.lower()))        \n",
    "            l_ans_idx.append(obj['post_id'])"
   ]
  },
  {
   "cell_type": "code",
   "execution_count": 63,
   "metadata": {},
   "outputs": [
    {
     "data": {
      "application/vnd.jupyter.widget-view+json": {
       "model_id": "9035aa0107dd46db8decc8eb5f4799ec",
       "version_major": 2,
       "version_minor": 0
      },
      "text/plain": [
       "HBox(children=(FloatProgress(value=1.0, bar_style='info', max=1.0), HTML(value='')))"
      ]
     },
     "metadata": {},
     "output_type": "display_data"
    },
    {
     "name": "stdout",
     "output_type": "stream",
     "text": [
      "\n"
     ]
    }
   ],
   "source": [
    "root_path = '/data/szr207/dataset/ArqMath/jsons/answers/'\n",
    "\n",
    "dict_aid_post = {}\n",
    "with jsonlines.open(os.path.join(root_path,'all.ans.jsonl')) as reader:\n",
    "    for obj in tqdm(reader):\n",
    "        if obj['body']:\n",
    "            obj['body'] = re.sub('<[^<]+?>', '',  obj['body'])\n",
    "            dict_aid_post[obj['post_id']] = obj['body']"
   ]
  },
  {
   "cell_type": "code",
   "execution_count": 64,
   "metadata": {},
   "outputs": [
    {
     "data": {
      "application/vnd.jupyter.widget-view+json": {
       "model_id": "35d549a146de4da19f651fd6de53a3b8",
       "version_major": 2,
       "version_minor": 0
      },
      "text/plain": [
       "HBox(children=(FloatProgress(value=1.0, bar_style='info', max=1.0), HTML(value='')))"
      ]
     },
     "metadata": {},
     "output_type": "display_data"
    },
    {
     "name": "stdout",
     "output_type": "stream",
     "text": [
      "\n"
     ]
    }
   ],
   "source": [
    "\n",
    "with open('tf-idf.dat', 'w') as eval_file:\n",
    "    for qidx, topic_id in tqdm(enumerate(['A.31','A.78', 'A.101'])):\n",
    "        list_ans = []\n",
    "        list_es = []\n",
    "        for post_id in dict_q_a[topic_id]:\n",
    "            list_ans.append(dict_aid_post[int(post_id)])\n",
    "            list_es.append(post_id)\n",
    "\n",
    "        list_ans.append(queries[qidx])\n",
    "        tf = TfidfVectorizer(analyzer='word', ngram_range=(1, 3), min_df=0, stop_words='english')\n",
    "        tfidf_matrix = tf.fit_transform(list_ans)\n",
    "        cosine_similarities = linear_kernel(tfidf_matrix[-1], tfidf_matrix[:-1]).flatten()\n",
    "        related_docs_indices = cosine_similarities.argsort()[:-1000:-1]\n",
    "        related_postid = np.asarray(list_es)[related_docs_indices]\n",
    "        count = 1\n",
    "        score = 2000\n",
    "#         qid = \"A.31\"\n",
    "        for idx in related_postid:\n",
    "            eval_file.write(topic_id+'\\t'+ '1\\t' + str(idx) +'\\t'+str(count)+'\\t'+ str(score)+'\\t'+ 'tfidf'+'\\n')\n",
    "            count+=1\n",
    "            score-=1"
   ]
  },
  {
   "cell_type": "code",
   "execution_count": 51,
   "metadata": {},
   "outputs": [],
   "source": [
    "tf = TfidfVectorizer(analyzer='word', ngram_range=(1, 3), min_df=0, stop_words='english')\n",
    "tfidf_matrix = tf.fit_transform(list_ans)"
   ]
  },
  {
   "cell_type": "code",
   "execution_count": 52,
   "metadata": {},
   "outputs": [],
   "source": [
    "cosine_similarities = linear_kernel(tfidf_matrix[-1], tfidf_matrix[:-1]).flatten()"
   ]
  },
  {
   "cell_type": "code",
   "execution_count": 53,
   "metadata": {},
   "outputs": [
    {
     "data": {
      "text/plain": [
       "1000"
      ]
     },
     "execution_count": 53,
     "metadata": {},
     "output_type": "execute_result"
    }
   ],
   "source": [
    "len(cosine_similarities)"
   ]
  },
  {
   "cell_type": "code",
   "execution_count": 54,
   "metadata": {},
   "outputs": [],
   "source": [
    "related_docs_indices = cosine_similarities.argsort()[:-1000:-1]"
   ]
  },
  {
   "cell_type": "code",
   "execution_count": 55,
   "metadata": {
    "scrolled": true
   },
   "outputs": [],
   "source": [
    "related_postid = np.asarray(list_es)[related_docs_indices]"
   ]
  },
  {
   "cell_type": "code",
   "execution_count": 56,
   "metadata": {},
   "outputs": [
    {
     "name": "stdout",
     "output_type": "stream",
     "text": [
      "================\n"
     ]
    }
   ],
   "source": [
    "with open('tf-idf.A31.dat', 'w') as eval_file:\n",
    "#     for emb,qid in zip(query_emb,['A.31','A.78', 'A.101']):\n",
    "#         D, I = index.search(np.array([emb]), k)\n",
    "        count = 1\n",
    "        score = 2000\n",
    "        qid = \"A.31\"\n",
    "        for idx in related_postid:\n",
    "            eval_file.write(qid+'\\t'+ '1\\t' + str(idx) +'\\t'+str(count)+'\\t'+ str(score)+'\\t'+ 'tfidf'+'\\n')\n",
    "            count+=1\n",
    "        print(\"================\")"
   ]
  },
  {
   "cell_type": "code",
   "execution_count": 39,
   "metadata": {},
   "outputs": [
    {
     "data": {
      "text/plain": [
       "'prove squared equal 2 induction.. asked prove induction $n^2\\\\leq 2^n$, told true $ \\\\forall n\\\\in \\\\mathbb{n},n&gt;3$   found proof, stuck half-way there. taking base case $n=4$ tested it, resulted true. assumed true number $k$, $n=k$ $k^2\\\\leq 2^k$, attempted prove   $(k+1)^2 \\\\leq 2^{k+1}$  attempted prove this. all, started assumption.  $=k^2\\\\leq 2^k$  $=2k^2\\\\leq2^{k+1}$  prove $(k+1)^2 \\\\leq 2k^2$, imply thesis, i.e. $(k+1)^2\\\\leq2^{k+1}$. effort:  $(k+1)^2≤2k^2$  $=k^2+2k+1\\\\leq2k^2$  $=2k+1\\\\leq k^2$  (by assumption)  $=2k+1\\\\leq 2^k$   simplified it, prove true; is, prove $(k+1)^2 \\\\leq 2k^2$. base case $n=4$ deed satisfies inequality. assume true number $j, k=j$ prove it. failed prove this, steps wrong. reasoning okay? its, prove $2k+1\\\\leq 2^k$? advance. '"
      ]
     },
     "execution_count": 39,
     "metadata": {},
     "output_type": "execute_result"
    }
   ],
   "source": [
    "raw_text[-1]"
   ]
  },
  {
   "cell_type": "code",
   "execution_count": null,
   "metadata": {},
   "outputs": [],
   "source": []
  }
 ],
 "metadata": {
  "kernelspec": {
   "display_name": "Python 3",
   "language": "python",
   "name": "python3"
  },
  "language_info": {
   "codemirror_mode": {
    "name": "ipython",
    "version": 3
   },
   "file_extension": ".py",
   "mimetype": "text/x-python",
   "name": "python",
   "nbconvert_exporter": "python",
   "pygments_lexer": "ipython3",
   "version": "3.7.7"
  }
 },
 "nbformat": 4,
 "nbformat_minor": 4
}
