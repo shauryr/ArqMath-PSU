{
 "cells": [
  {
   "cell_type": "markdown",
   "metadata": {},
   "source": [
    "### Anserini"
   ]
  },
  {
   "cell_type": "code",
   "execution_count": 29,
   "metadata": {
    "scrolled": true
   },
   "outputs": [
    {
     "data": {
      "application/vnd.jupyter.widget-view+json": {
       "model_id": "35dfb8de04d74ac69819899b59f4aac9",
       "version_major": 2,
       "version_minor": 0
      },
      "text/plain": [
       "HBox(children=(FloatProgress(value=0.0, max=77.0), HTML(value='')))"
      ]
     },
     "metadata": {},
     "output_type": "display_data"
    },
    {
     "name": "stdout",
     "output_type": "stream",
     "text": [
      "\n"
     ]
    }
   ],
   "source": [
    "# %%capture\n",
    "# !pip install pyserini==0.8.1.0\n",
    "# !pip install transformers\n",
    "\n",
    "import json\n",
    "import os\n",
    "import torch\n",
    "import numpy\n",
    "from tqdm.notebook import tqdm\n",
    "from transformers import *\n",
    "import warnings\n",
    "import glob\n",
    "import os\n",
    "import jsonlines\n",
    "import re\n",
    "import xml.etree.ElementTree as ET\n",
    "from elasticsearch import Elasticsearch\n",
    "import re\n",
    "from collections import defaultdict\n",
    "import numpy as np\n",
    "from scipy import spatial\n",
    "import numpy as np\n",
    "import gc\n",
    "import math\n",
    "import torch\n",
    "from transformers import *\n",
    "import pandas as pd\n",
    "import warnings\n",
    "import time\n",
    "\n",
    "warnings.filterwarnings('ignore')\n",
    "warnings.simplefilter(action='ignore', category=FutureWarning)\n",
    "\n",
    "ARQ_INDEX = '/data/szr207/dataset/ArqMath/anserini_index'\n",
    "os.environ[\"JAVA_HOME\"] = \"/usr/lib/jvm/java-11-openjdk-11.0.7.10-4.el7_8.x86_64\"\n",
    "topic_file_path = \"/data/szr207/dataset/ArqMath/Task1/Topics/Topics_V2.0.xml\"\n",
    "# topic_file_path = \"/data/szr207/dataset/ArqMath/Task1/Sample Topics/Task1_Samples_V2.0.xml\"\n",
    "model_path = \"/data/szr207/github/transformers/examples/language-modeling/output/checkpoint-4000000\"\n",
    "\n",
    "from pyserini.search import pysearch\n",
    "\n",
    "class Topic:\n",
    "    \"\"\"\n",
    "    This class shows a topic for task 1. Each topic has an topic_id which is str, a title and question which\n",
    "    is the question body and a list of tags.\n",
    "    \"\"\"\n",
    "\n",
    "    def __init__(self, topic_id, title, question, tags):\n",
    "        self.topic_id = topic_id\n",
    "        self.title = title\n",
    "        self.question = question\n",
    "        self.lst_tags = tags\n",
    "\n",
    "\n",
    "class TopicReader:\n",
    "    \"\"\"\n",
    "    This class takes in the topic file path and read all the topics into a map. The key in this map is the topic id\n",
    "    and the values are Topic which has 4 attributes: id, title, question and list of tags for each topic.\n",
    "\n",
    "    To see each topic, use the get_topic method, which takes the topic id and return the topic in Topic object and\n",
    "    you have access to the 4 attributes mentioned above.\n",
    "    \"\"\"\n",
    "\n",
    "    def __init__(self, topic_file_path):\n",
    "        self.__map_topics = self.__read_topics(topic_file_path)\n",
    "\n",
    "    def __read_topics(self, topic_file_path):\n",
    "        map_topics = {}\n",
    "        tree = ET.parse(topic_file_path)\n",
    "        root = tree.getroot()\n",
    "        for child in root:\n",
    "            topic_id = child.attrib['number']\n",
    "            title = child[0].text\n",
    "            question = child[1].text\n",
    "            lst_tag = child[2].text.split(\",\")\n",
    "            map_topics[topic_id] = Topic(topic_id, title, question, lst_tag)\n",
    "        return map_topics\n",
    "\n",
    "    def get_topic(self, topic_id):\n",
    "        if topic_id in self.__map_topics:\n",
    "            return self.__map_topics[topic_id]\n",
    "        return None\n",
    "\n",
    "\n",
    "queries = []\n",
    "#\"In this example, the title and the question body of topic with id A.1 is printed.\"\n",
    "topic_reader = TopicReader(topic_file_path)\n",
    "dict_q_a = defaultdict(list)\n",
    "\n",
    "searcher = pysearch.SimpleSearcher(ARQ_INDEX)\n",
    "\n",
    "\n",
    "topic_list = []\n",
    "with open('../runs/qrel_task1', 'r') as eval_file:\n",
    "    for _,line in enumerate(eval_file):\n",
    "        topic_list.append(line.split('\\t')[0])\n",
    "\n",
    "topic_list = list(set(topic_list))\n",
    "\n",
    "anserini_time_list = []\n",
    "\n",
    "# with open('tf.psu-task1-prim.anserini-auto-both-A.tsv', 'w') as eval_file:\n",
    "for topic_id in tqdm(topic_list):\n",
    "#         if topic_id in topic_list:\n",
    "#         topic_id = 'A.4'\n",
    "    title = re.sub('<[^<]+?>', '', topic_reader.get_topic(topic_id).title)\n",
    "    body = topic_reader.get_topic(topic_id).question\n",
    "    body_pro = re.sub('<[^<]+?>', '', body)\n",
    "    query = title + '. ' + body_pro\n",
    "    queries.append(query)\n",
    "#     print(topic_id, query[:80], '...')\n",
    "    tic = time.perf_counter()\n",
    "    hits = searcher.search(query,1000)\n",
    "    toc = time.perf_counter()\n",
    "    anserini_time_list.append((topic_id,toc - tic))\n",
    "    \n",
    "    for hit in hits:\n",
    "#         if hit.docid in list_p:\n",
    "#             eval_file.write(topic_id+'\\t'+ '1\\t' +str(hit.docid)+'\\t'+str(count)+'\\t'+ str(hit.score)+'\\t'+ 'anserini'+'\\n')\n",
    "#             count+=1\n",
    "            dict_q_a[topic_id].append(hit)"
   ]
  },
  {
   "cell_type": "code",
   "execution_count": 30,
   "metadata": {},
   "outputs": [
    {
     "name": "stdout",
     "output_type": "stream",
     "text": [
      "Longest time:  ('A.47', 2.5889229811728)\n",
      "Shortest time:  ('A.88', 0.148848757147789)\n"
     ]
    }
   ],
   "source": [
    "sorted_by_second = sorted(anserini_time_list, key=lambda tup: tup[1])\n",
    "print(\"Longest time: \",sorted_by_second[-1])\n",
    "print(\"Shortest time: \",sorted_by_second[0])"
   ]
  },
  {
   "cell_type": "code",
   "execution_count": 32,
   "metadata": {},
   "outputs": [
    {
     "data": {
      "image/png": "[encoded data removed]",
      "text/plain": [
       "<Figure size 432x288 with 1 Axes>"
      ]
     },
     "metadata": {
      "needs_background": "light"
     },
     "output_type": "display_data"
    }
   ],
   "source": [
    "ans_times = []\n",
    "for idx, t in anserini_time_list:\n",
    "    ans_times.append(t)\n",
    "    \n",
    "import matplotlib.pyplot as plt\n",
    "x = ans_times\n",
    "plt.boxplot(x)\n",
    "plt.show()"
   ]
  },
  {
   "cell_type": "code",
   "execution_count": 14,
   "metadata": {},
   "outputs": [
    {
     "data": {
      "application/vnd.jupyter.widget-view+json": {
       "model_id": "04086c14beee4044a6a2fc2d98fbd2a1",
       "version_major": 2,
       "version_minor": 0
      },
      "text/plain": [
       "HBox(children=(FloatProgress(value=0.0, max=77.0), HTML(value='')))"
      ]
     },
     "metadata": {},
     "output_type": "display_data"
    },
    {
     "name": "stdout",
     "output_type": "stream",
     "text": [
      "\n"
     ]
    }
   ],
   "source": [
    "import glob\n",
    "from tqdm.notebook import tqdm\n",
    "import os\n",
    "import jsonlines\n",
    "import re\n",
    "import xml.etree.ElementTree as ET\n",
    "from elasticsearch import Elasticsearch\n",
    "import re\n",
    "from collections import defaultdict\n",
    "import numpy as np\n",
    "from scipy import spatial\n",
    "import numpy as np\n",
    "import gc\n",
    "import math\n",
    "import torch\n",
    "from transformers import *\n",
    "from transformers import pipeline\n",
    "\n",
    "model_path = \"/data/szr207/github/transformers/examples/language-modeling/output/checkpoint-3000000\"\n",
    "ques_path = '/data/szr207/dataset/ArqMath/jsons/questions/all.ques.jsonl'\n",
    "ans_path = '/data/szr207/dataset/ArqMath/jsons/answers/all.ans.jsonl'\n",
    "topic_file_path = \"/data/szr207/dataset/ArqMath/Task1/Topics/Topics_V2.0.xml\"\n",
    "\n",
    "class Topic:\n",
    "    \"\"\"\n",
    "    This class shows a topic for task 1. Each topic has an topic_id which is str, a title and question which\n",
    "    is the question body and a list of tags.\n",
    "    \"\"\"\n",
    "\n",
    "    def __init__(self, topic_id, title, question, tags):\n",
    "        self.topic_id = topic_id\n",
    "        self.title = title\n",
    "        self.question = question\n",
    "        self.lst_tags = tags\n",
    "\n",
    "\n",
    "class TopicReader:\n",
    "    \"\"\"\n",
    "    This class takes in the topic file path and read all the topics into a map. The key in this map is the topic id\n",
    "    and the values are Topic which has 4 attributes: id, title, question and list of tags for each topic.\n",
    "\n",
    "    To see each topic, use the get_topic method, which takes the topic id and return the topic in Topic object and\n",
    "    you have access to the 4 attributes mentioned above.\n",
    "    \"\"\"\n",
    "\n",
    "    def __init__(self, topic_file_path):\n",
    "        self.__map_topics = self.__read_topics(topic_file_path)\n",
    "\n",
    "    def __read_topics(self, topic_file_path):\n",
    "        map_topics = {}\n",
    "        tree = ET.parse(topic_file_path)\n",
    "        root = tree.getroot()\n",
    "        for child in root:\n",
    "            topic_id = child.attrib['number']\n",
    "            title = child[0].text\n",
    "            question = child[1].text\n",
    "            lst_tag = child[2].text.split(\",\")\n",
    "            map_topics[topic_id] = Topic(topic_id, title, question, lst_tag)\n",
    "        return map_topics\n",
    "\n",
    "    def get_topic(self, topic_id):\n",
    "        if topic_id in self.__map_topics:\n",
    "            return self.__map_topics[topic_id]\n",
    "        return None\n",
    "\n",
    "def remove_stop(query):\n",
    "    with open('englishST.txt') as f:\n",
    "        all_stopwords = f.readlines()\n",
    "    # you may also want to remove whitespace characters like `\\n` at the end of each line\n",
    "    all_stopwords = [x.strip() for x in all_stopwords] \n",
    "    text_tokens = query.split(' ')\n",
    "    query = [word for word in text_tokens if not word in all_stopwords]\n",
    "    query = ' '.join(query)\n",
    "    return query\n",
    "\n",
    "def remove_punct(my_str):\n",
    "    punctuations = '''!()-[]{};:'\"\\,<>./?@#$%^&*_~'''\n",
    "    # To take input from the user\n",
    "    # my_str = input(\"Enter a string: \")\n",
    "\n",
    "    # remove punctuation from the string\n",
    "    no_punct = \"\"\n",
    "    for char in my_str:\n",
    "        if char not in punctuations:\n",
    "            no_punct = no_punct + char\n",
    "\n",
    "    # display the unpunctuated string\n",
    "    return no_punct\n",
    "\n",
    "es = Elasticsearch(['http://csxindex05:9200/'], verify_certs=True)\n",
    "queries = []\n",
    "#\"In this example, the title and the question body of topic with id A.1 is printed.\"\n",
    "topic_reader = TopicReader(topic_file_path)\n",
    "dict_q_a = defaultdict(list)\n",
    "\n",
    "topic_list = []\n",
    "with open('../runs/qrel_task1', 'r') as eval_file:\n",
    "    for _,line in enumerate(eval_file):\n",
    "        topic_list.append(line.split('\\t')[0])\n",
    "\n",
    "topic_list = list(set(topic_list))\n",
    "\n",
    "time_list = []\n",
    "\n",
    "for topic_id in tqdm(topic_list):\n",
    "    title = re.sub('<[^<]+?>', '', topic_reader.get_topic(topic_id).title)\n",
    "    body = topic_reader.get_topic(topic_id).question\n",
    "    body_pro = re.sub('<[^<]+?>', '', body)\n",
    "    query = title + '. ' + body_pro\n",
    "    queries.append(query)\n",
    "    query = query.lower()\n",
    "    query = remove_stop(query)\n",
    "#     print(topic_id, query)\n",
    "    body = {\n",
    "        \"size\": 1000,\n",
    "         \"query\": {\n",
    "               \"more_like_this\" : {\n",
    "            \"fields\" : [\"body\"],\n",
    "            \"like\" : query,\n",
    "        }\n",
    "        }\n",
    "    }\n",
    "    tic = time.perf_counter()\n",
    "    res = es.search(index=\"arq_ans_ques\", body=body, request_timeout=1000)\n",
    "    toc = time.perf_counter()\n",
    "    \n",
    "    time_list.append((topic_id,toc - tic))\n",
    "    \n",
    "    for result in res['hits']['hits']:\n",
    "        dict_q_a[topic_id].append(result['_source']['post_id'])"
   ]
  },
  {
   "cell_type": "code",
   "execution_count": 20,
   "metadata": {},
   "outputs": [
    {
     "name": "stdout",
     "output_type": "stream",
     "text": [
      "Longest time:  ('A.87', 1.2058666124939919)\n",
      "Shortest time:  ('A.39', 0.14096404984593391)\n"
     ]
    }
   ],
   "source": [
    "sorted_by_second = sorted(time_list, key=lambda tup: tup[1])\n",
    "print(\"Longest time: \",sorted_by_second[-1])\n",
    "print(\"Shortest time: \",sorted_by_second[0])"
   ]
  },
  {
   "cell_type": "code",
   "execution_count": 34,
   "metadata": {},
   "outputs": [
    {
     "data": {
      "image/png": "[encoded data removed]",
      "text/plain": [
       "<Figure size 432x288 with 1 Axes>"
      ]
     },
     "metadata": {
      "needs_background": "light"
     },
     "output_type": "display_data"
    }
   ],
   "source": [
    "times = []\n",
    "for idx, t in time_list:\n",
    "    times.append(t)\n",
    "    \n",
    "import matplotlib.pyplot as plt\n",
    "data = [ans_times, times]\n",
    "plt.boxplot(x)\n",
    "plt.show()"
   ]
  },
  {
   "cell_type": "code",
   "execution_count": 35,
   "metadata": {},
   "outputs": [
    {
     "data": {
      "text/plain": [
       "{'whiskers': [<matplotlib.lines.Line2D at 0x7f82eff82f50>,\n",
       "  <matplotlib.lines.Line2D at 0x7f82eff82650>,\n",
       "  <matplotlib.lines.Line2D at 0x7f82eff7a350>,\n",
       "  <matplotlib.lines.Line2D at 0x7f82eff92190>],\n",
       " 'caps': [<matplotlib.lines.Line2D at 0x7f82eff82790>,\n",
       "  <matplotlib.lines.Line2D at 0x7f82effaf810>,\n",
       "  <matplotlib.lines.Line2D at 0x7f82eff9c250>,\n",
       "  <matplotlib.lines.Line2D at 0x7f82eff9c750>],\n",
       " 'boxes': [<matplotlib.lines.Line2D at 0x7f82eff921d0>,\n",
       "  <matplotlib.lines.Line2D at 0x7f82eff7abd0>],\n",
       " 'medians': [<matplotlib.lines.Line2D at 0x7f82effafd90>,\n",
       "  <matplotlib.lines.Line2D at 0x7f82effafd50>],\n",
       " 'fliers': [<matplotlib.lines.Line2D at 0x7f82effafe90>,\n",
       "  <matplotlib.lines.Line2D at 0x7f82e395b350>],\n",
       " 'means': []}"
      ]
     },
     "execution_count": 35,
     "metadata": {},
     "output_type": "execute_result"
    },
    {
     "data": {
      "image/png": "[encoded data removed]",
      "text/plain": [
       "<Figure size 432x288 with 1 Axes>"
      ]
     },
     "metadata": {
      "needs_background": "light"
     },
     "output_type": "display_data"
    }
   ],
   "source": [
    "red_square = dict(markerfacecolor='r', marker='s')\n",
    "fig5, ax5 = plt.subplots()\n",
    "ax5.set_title('Runtime in seconds')\n",
    "ax5.boxplot(data, vert=False, flierprops=red_square, labels=['Anserini', 'Elasticsearch'])"
   ]
  },
  {
   "cell_type": "code",
   "execution_count": 132,
   "metadata": {},
   "outputs": [
    {
     "data": {
      "image/png": "[encoded data removed]",
      "text/plain": [
       "<Figure size 720x360 with 1 Axes>"
      ]
     },
     "metadata": {
      "needs_background": "light"
     },
     "output_type": "display_data"
    }
   ],
   "source": [
    "red_square = dict(markerfacecolor='r', marker='s')\n",
    "fig5, ax5 = plt.subplots()\n",
    "ax5.set_title('Runtime in seconds')\n",
    "plt.rcParams.update({'font.size': 16})\n",
    "\n",
    "ax5.boxplot(data, vert=False, flierprops=red_square, labels=['Anserini', 'ES'])\n",
    "fig5.set_size_inches(10,5)\n",
    "plt.savefig('run_times.pdf')"
   ]
  },
  {
   "cell_type": "code",
   "execution_count": 84,
   "metadata": {},
   "outputs": [
    {
     "name": "stdout",
     "output_type": "stream",
     "text": [
      "Found 10 runs in path /data/szr207/projects/ArqMath/notebooks/final_runs\n"
     ]
    },
    {
     "data": {
      "image/png": "[encoded data removed]",
      "text/plain": [
       "<Figure size 864x432 with 1 Axes>"
      ]
     },
     "metadata": {
      "needs_background": "light"
     },
     "output_type": "display_data"
    }
   ],
   "source": [
    "from trectools import TrecQrel, procedures\n",
    "\n",
    "qrels_file = \"../runs/qrel_task1\"\n",
    "qrels = TrecQrel(qrels_file)\n",
    "\n",
    "# Generates a P@10 graph with all the runs in a directory\n",
    "path_to_runs = \"/data/szr207/projects/ArqMath/notebooks/final_runs\"\n",
    "runs = procedures.list_of_runs_from_path(path_to_runs, \"*.tsv\")\n",
    "\n",
    "results = procedures.evaluate_runs(runs, qrels, per_query=True)\n",
    "p10 = procedures.extract_metric_from_results(results, \"P_10\")\n",
    "fig = procedures.plot_system_rank(p10, display_metric=\"P@10\", outfile=\"plot.pdf\")\n",
    "fig.savefig(\"plot.pdf\", bbox_inches='tight', dpi=600)\n",
    "# Sample output with one run for each participating team in robust03:"
   ]
  },
  {
   "cell_type": "markdown",
   "metadata": {},
   "source": [
    "#### Our system has the highest Recall"
   ]
  },
  {
   "cell_type": "code",
   "execution_count": 98,
   "metadata": {},
   "outputs": [
    {
     "name": "stdout",
     "output_type": "stream",
     "text": [
      "Found 4 runs in path /data/szr207/projects/ArqMath/notebooks/final_runs/recall\n"
     ]
    },
    {
     "data": {
      "image/png": "[encoded data removed]",
      "text/plain": [
       "<Figure size 360x144 with 1 Axes>"
      ]
     },
     "metadata": {
      "needs_background": "light"
     },
     "output_type": "display_data"
    }
   ],
   "source": [
    "from trectools import TrecQrel, procedures\n",
    "\n",
    "qrels_file = \"../runs/qrel_task1\"\n",
    "qrels = TrecQrel(qrels_file)\n",
    "\n",
    "# Generates a P@10 graph with all the runs in a directory\n",
    "path_to_runs = \"/data/szr207/projects/ArqMath/notebooks/final_runs\"\n",
    "runs = procedures.list_of_runs_from_path(path_to_runs, \"*.tsv\")\n",
    "\n",
    "results = procedures.evaluate_runs(runs, qrels, per_query=True)\n",
    "p10 = procedures.extract_metric_from_results(results, \"num_rel_ret\")\n",
    "fig = procedures.plot_system_rank(p10, display_metric=\"num_rel_ret\", outfile=\"plot.pdf\")\n",
    "fig.set_size_inches(5,2)\n",
    "fig.savefig(\"plot.pdf\", bbox_inches='tight', dpi=600)\n",
    "# Sample output with one run for each participating team in robust03:"
   ]
  },
  {
   "cell_type": "code",
   "execution_count": 136,
   "metadata": {},
   "outputs": [
    {
     "name": "stdout",
     "output_type": "stream",
     "text": [
      "Found 5 runs in path /data/szr207/projects/ArqMath/notebooks/final_runs/recall\n"
     ]
    },
    {
     "data": {
      "image/png": "[encoded data removed]",
      "text/plain": [
       "<Figure size 720x360 with 1 Axes>"
      ]
     },
     "metadata": {
      "needs_background": "light"
     },
     "output_type": "display_data"
    }
   ],
   "source": [
    "from trectools import TrecQrel, procedures\n",
    "import matplotlib.pyplot as plt\n",
    "\n",
    "qrels_file = \"../runs/qrel_task1\"\n",
    "qrels = TrecQrel(qrels_file)\n",
    "\n",
    "# Generates a P@10 graph with all the runs in a directory\n",
    "path_to_runs = \"/data/szr207/projects/ArqMath/notebooks/final_runs/recall\"\n",
    "runs = procedures.list_of_runs_from_path(path_to_runs, \"*.tsv\")\n",
    "plt.rcParams.update({'font.size': 15})\n",
    "\n",
    "results = procedures.evaluate_runs(runs, qrels, per_query=True)\n",
    "p10 = procedures.extract_metric_from_results(results, \"num_rel_ret\")\n",
    "fig = procedures.plot_system_rank(p10, display_metric=\"num_rel_ret\", outfile=\"plot.pdf\")\n",
    "fig.set_size_inches(10,5)\n",
    "fig.savefig(\"recal_plot.pdf\", bbox_inches='tight', dpi=600)\n",
    "# Sample output with one run for each participating team in robust03:"
   ]
  },
  {
   "cell_type": "code",
   "execution_count": 81,
   "metadata": {},
   "outputs": [
    {
     "name": "stdout",
     "output_type": "stream",
     "text": [
      "Found 10 runs in path /data/szr207/projects/ArqMath/notebooks/final_runs\n"
     ]
    },
    {
     "data": {
      "image/png": "[encoded data removed]",
      "text/plain": [
       "<Figure size 864x432 with 1 Axes>"
      ]
     },
     "metadata": {
      "needs_background": "light"
     },
     "output_type": "display_data"
    }
   ],
   "source": [
    "from trectools import TrecQrel, procedures\n",
    "\n",
    "qrels_file = \"../runs/qrel_task1\"\n",
    "qrels = TrecQrel(qrels_file)\n",
    "\n",
    "# Generates a P@10 graph with all the runs in a directory\n",
    "path_to_runs = \"/data/szr207/projects/ArqMath/notebooks/final_runs\"\n",
    "runs = procedures.list_of_runs_from_path(path_to_runs, \"*.tsv\")\n",
    "\n",
    "results = procedures.evaluate_runs(runs, qrels, per_query=True)\n",
    "p10 = procedures.extract_metric_from_results(results, \"map\")\n",
    "fig = procedures.plot_system_rank(p10, display_metric=\"map\", outfile=\"plot.pdf\")\n",
    "fig.savefig(\"plot.pdf\", bbox_inches='tight', dpi=600)\n",
    "# Sample output with one run for each participating team in robust03:"
   ]
  },
  {
   "cell_type": "code",
   "execution_count": 82,
   "metadata": {},
   "outputs": [
    {
     "name": "stdout",
     "output_type": "stream",
     "text": [
      "Found 10 runs in path /data/szr207/projects/ArqMath/notebooks/final_runs\n"
     ]
    },
    {
     "data": {
      "image/png": "[encoded data removed]",
      "text/plain": [
       "<Figure size 864x432 with 1 Axes>"
      ]
     },
     "metadata": {
      "needs_background": "light"
     },
     "output_type": "display_data"
    }
   ],
   "source": [
    "from trectools import TrecQrel, procedures\n",
    "\n",
    "qrels_file = \"../runs/qrel_task1\"\n",
    "qrels = TrecQrel(qrels_file)\n",
    "\n",
    "# Generates a P@10 graph with all the runs in a directory\n",
    "path_to_runs = \"/data/szr207/projects/ArqMath/notebooks/final_runs\"\n",
    "runs = procedures.list_of_runs_from_path(path_to_runs, \"*.tsv\")\n",
    "\n",
    "results = procedures.evaluate_runs(runs, qrels, per_query=True)\n",
    "p10 = procedures.extract_metric_from_results(results, \"gm_map\")\n",
    "fig = procedures.plot_system_rank(p10, display_metric=\"gm_map\", outfile=\"plot.pdf\")\n",
    "fig.savefig(\"plot.pdf\", bbox_inches='tight', dpi=600)\n",
    "# Sample output with one run for each participating team in robust03:"
   ]
  },
  {
   "cell_type": "code",
   "execution_count": null,
   "metadata": {},
   "outputs": [],
   "source": [
    "! java -jar jtreceval-0.0.5-jar-with-dependencies.jar -l2 -m num_rel_ret  ../runs/qrel_task1 tf.psu-task1-prim.roberta-base-auto-both-A.tsv"
   ]
  }
 ],
 "metadata": {
  "kernelspec": {
   "display_name": "Python 3",
   "language": "python",
   "name": "python3"
  },
  "language_info": {
   "codemirror_mode": {
    "name": "ipython",
    "version": 3
   },
   "file_extension": ".py",
   "mimetype": "text/x-python",
   "name": "python",
   "nbconvert_exporter": "python",
   "pygments_lexer": "ipython3",
   "version": "3.7.7"
  }
 },
 "nbformat": 4,
 "nbformat_minor": 4
}
