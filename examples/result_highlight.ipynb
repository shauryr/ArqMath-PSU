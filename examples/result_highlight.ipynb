{
 "cells": [
  {
   "cell_type": "markdown",
   "metadata": {
    "colab_type": "text",
    "id": "vUpmSFflwzR1"
   },
   "source": [
    "# Math-BERT and Anserini Demo on ARQMath CLEF 2020 Main Task \n"
   ]
  },
  {
   "cell_type": "markdown",
   "metadata": {
    "colab_type": "text",
    "id": "0RtnmBN6A-Oq"
   },
   "source": [
    "This notebook provides a demo on how to get started in searching the [COVID-19 Open Research Dataset](https://pages.semanticscholar.org/coronavirus-research) (release of 2020/03/20) from AI2.\n",
    "In this notebook, we'll be working with the title + abstract + body index. "
   ]
  },
  {
   "cell_type": "code",
   "execution_count": 1,
   "metadata": {
    "colab": {},
    "colab_type": "code",
    "id": "q93fI77dY9HU"
   },
   "outputs": [],
   "source": [
    "from IPython.core.display import display, HTML"
   ]
  },
  {
   "cell_type": "markdown",
   "metadata": {
    "colab_type": "text",
    "id": "f2vNd7bpJlDZ"
   },
   "source": [
    "First, install Python dependencies"
   ]
  },
  {
   "cell_type": "code",
   "execution_count": 2,
   "metadata": {
    "colab": {},
    "colab_type": "code",
    "id": "E_lt0-pXJia0"
   },
   "outputs": [],
   "source": [
    "import json\n",
    "import os\n",
    "import torch\n",
    "import numpy\n",
    "from transformers import *\n",
    "import warnings\n",
    "import glob\n",
    "from tqdm.notebook import tqdm\n",
    "import os\n",
    "import jsonlines\n",
    "import re\n",
    "import xml.etree.ElementTree as ET\n",
    "from collections import defaultdict\n",
    "import numpy as np\n",
    "from scipy import spatial\n",
    "import numpy as np\n",
    "import gc\n",
    "import math\n",
    "import torch\n",
    "import pandas as pd\n",
    "warnings.filterwarnings('ignore')\n",
    "\n",
    "ques_path = '/data/szr207/dataset/ArqMath/jsons/questions/all.ques.jsonl'\n",
    "ans_path = '/data/szr207/dataset/ArqMath/jsons/answers/all.ans.jsonl'\n",
    "topic_file_path = \"/data/szr207/dataset/ArqMath/Task1/Topics/Topics_V2.0.xml\"\n",
    "runs_path = '/data/szr207/projects/ArqMath/runs'\n",
    "model_path = \"/data/szr207/github/transformers/examples/language-modeling/output/checkpoint-3000000\""
   ]
  },
  {
   "cell_type": "code",
   "execution_count": 3,
   "metadata": {
    "colab": {},
    "colab_type": "code",
    "id": "tBCqnDnQ3F8Z"
   },
   "outputs": [],
   "source": [
    "tokenizer = AutoTokenizer.from_pretrained('roberta-base', do_lower_case=False)\n",
    "model = AutoModel.from_pretrained(model_path)"
   ]
  },
  {
   "cell_type": "code",
   "execution_count": 7,
   "metadata": {
    "scrolled": true
   },
   "outputs": [
    {
     "data": {
      "application/vnd.jupyter.widget-view+json": {
       "model_id": "a229cc69771e418da245144698213f76",
       "version_major": 2,
       "version_minor": 0
      },
      "text/plain": [
       "HBox(children=(FloatProgress(value=1.0, bar_style='info', max=1.0), HTML(value='')))"
      ]
     },
     "metadata": {},
     "output_type": "display_data"
    },
    {
     "name": "stdout",
     "output_type": "stream",
     "text": [
      "\n"
     ]
    },
    {
     "data": {
      "application/vnd.jupyter.widget-view+json": {
       "model_id": "dbd59a976fc74a5c804f0aa8091fd284",
       "version_major": 2,
       "version_minor": 0
      },
      "text/plain": [
       "HBox(children=(FloatProgress(value=1.0, bar_style='info', max=1.0), HTML(value='')))"
      ]
     },
     "metadata": {},
     "output_type": "display_data"
    },
    {
     "name": "stdout",
     "output_type": "stream",
     "text": [
      "\n"
     ]
    },
    {
     "data": {
      "application/vnd.jupyter.widget-view+json": {
       "model_id": "5d9ea90d3329456c9f7628fa29c4029d",
       "version_major": 2,
       "version_minor": 0
      },
      "text/plain": [
       "HBox(children=(FloatProgress(value=0.0, max=1435643.0), HTML(value='')))"
      ]
     },
     "metadata": {},
     "output_type": "display_data"
    },
    {
     "name": "stdout",
     "output_type": "stream",
     "text": [
      "\n"
     ]
    }
   ],
   "source": [
    "dict_ques = {}\n",
    "dict_ans = {}\n",
    "dict_aid_body = {}\n",
    "\n",
    "with jsonlines.open(os.path.join(ques_path)) as reader:\n",
    "        for obj in tqdm(reader):\n",
    "            dict_ques[obj['post_id']] = obj\n",
    "    \n",
    "with jsonlines.open(os.path.join(ans_path)) as reader:\n",
    "        for obj in tqdm(reader):\n",
    "            dict_ans[obj['post_id']] = obj\n",
    "\n",
    "for a_id in tqdm(list(dict_ans.keys())):\n",
    "    ans_body = re.sub('<[^<]+?>', '',  dict_ans[a_id]['body'])\n",
    "    qid = dict_ans[a_id]['parent_id']\n",
    "    ques_body = re.sub('<[^<]+?>', '',  dict_ques[qid]['body'])\n",
    "    ques_title = re.sub('<[^<]+?>', '',  dict_ques[qid]['title'])\n",
    "    dict_aid_body[a_id] = ques_title + '. ' + ques_body + '. ' + ans_body"
   ]
  },
  {
   "cell_type": "markdown",
   "metadata": {},
   "source": [
    "var `dict_idx_text` has queries and there ids"
   ]
  },
  {
   "cell_type": "code",
   "execution_count": 4,
   "metadata": {},
   "outputs": [
    {
     "data": {
      "application/vnd.jupyter.widget-view+json": {
       "model_id": "81755334d89041d9bc2b66efbf728251",
       "version_major": 2,
       "version_minor": 0
      },
      "text/plain": [
       "HBox(children=(FloatProgress(value=0.0, max=98.0), HTML(value='')))"
      ]
     },
     "metadata": {},
     "output_type": "display_data"
    },
    {
     "name": "stdout",
     "output_type": "stream",
     "text": [
      "\n"
     ]
    }
   ],
   "source": [
    "class Topic:\n",
    "    \"\"\"\n",
    "    This class shows a topic for task 1. Each topic has an topic_id which is str, a title and question which\n",
    "    is the question body and a list of tags.\n",
    "    \"\"\"\n",
    "\n",
    "    def __init__(self, topic_id, title, question, tags):\n",
    "        self.topic_id = topic_id\n",
    "        self.title = title\n",
    "        self.question = question\n",
    "        self.lst_tags = tags\n",
    "\n",
    "\n",
    "class TopicReader:\n",
    "    \"\"\"\n",
    "    This class takes in the topic file path and read all the topics into a map. The key in this map is the topic id\n",
    "    and the values are Topic which has 4 attributes: id, title, question and list of tags for each topic.\n",
    "\n",
    "    To see each topic, use the get_topic method, which takes the topic id and return the topic in Topic object and\n",
    "    you have access to the 4 attributes mentioned above.\n",
    "    \"\"\"\n",
    "\n",
    "    def __init__(self, topic_file_path):\n",
    "        self.__map_topics = self.__read_topics(topic_file_path)\n",
    "\n",
    "    def __read_topics(self, topic_file_path):\n",
    "        map_topics = {}\n",
    "        tree = ET.parse(topic_file_path)\n",
    "        root = tree.getroot()\n",
    "        for child in root:\n",
    "            topic_id = child.attrib['number']\n",
    "            title = child[0].text\n",
    "            question = child[1].text\n",
    "            lst_tag = child[2].text.split(\",\")\n",
    "            map_topics[topic_id] = Topic(topic_id, title, question, lst_tag)\n",
    "        return map_topics\n",
    "\n",
    "    def get_topic(self, topic_id):\n",
    "        if topic_id in self.__map_topics:\n",
    "            return self.__map_topics[topic_id]\n",
    "        return None\n",
    "\n",
    "def remove_stop(query):\n",
    "    with open('englishST.txt') as f:\n",
    "        all_stopwords = f.readlines()\n",
    "    # you may also want to remove whitespace characters like `\\n` at the end of each line\n",
    "    all_stopwords = [x.strip() for x in all_stopwords] \n",
    "    text_tokens = query.split(' ')\n",
    "    query = [word for word in text_tokens if not word in all_stopwords]\n",
    "    query = ' '.join(query)\n",
    "    return query\n",
    "\n",
    "def remove_punct(my_str):\n",
    "    punctuations = '''!()-[]{};:'\"\\,<>./?@#$%^&*_~'''\n",
    "    # To take input from the user\n",
    "    # my_str = input(\"Enter a string: \")\n",
    "\n",
    "    # remove punctuation from the string\n",
    "    no_punct = \"\"\n",
    "    for char in my_str:\n",
    "        if char not in punctuations:\n",
    "            no_punct = no_punct + char\n",
    "\n",
    "    # display the unpunctuated string\n",
    "    return no_punct\n",
    "\n",
    "queries = []\n",
    "#\"In this example, the title and the question body of topic with id A.1 is printed.\"\n",
    "topic_reader = TopicReader(topic_file_path)\n",
    "dict_idx_text = {}\n",
    "\n",
    "for topic_id in tqdm(topic_reader._TopicReader__map_topics):\n",
    "    title = re.sub('<[^<]+?>', '', topic_reader.get_topic(topic_id).title)\n",
    "    body = topic_reader.get_topic(topic_id).question\n",
    "    body_pro = re.sub('<[^<]+?>', '', body)\n",
    "    query = title + '. ' + body_pro\n",
    "    dict_idx_text[topic_id] = query"
   ]
  },
  {
   "cell_type": "code",
   "execution_count": 5,
   "metadata": {
    "colab": {},
    "colab_type": "code",
    "id": "N9Yop7Zk3F8d"
   },
   "outputs": [],
   "source": [
    "def show_query(query):\n",
    "    \"\"\"HTML print format for the searched query\"\"\"\n",
    "    return HTML('<br/><div style=\"font-family: Times New Roman; font-size: 20px;'\n",
    "                'padding-bottom:12px\"><b>Query</b>: '+query+'</div>')\n",
    "\n",
    "def show_document(idx, doc):\n",
    "    \"\"\"HTML print format for document fields\"\"\"\n",
    "    return HTML('<div style=\"font-family: Times New Roman; font-size: 18px; padding-bottom:10px\">' + \n",
    "               f'<b>Document {idx}:</b> -- ' +\n",
    "               f'{doc}. ' )\n",
    "\n",
    "def show_query_results(query, list_docs, top_k=10):\n",
    "    \"\"\"HTML print format for the searched query\"\"\"\n",
    "    display(show_query(query))\n",
    "    for i, hit in enumerate(list_docs[:top_k]):\n",
    "        display(show_document(hit['docid'], hit['body']))\n",
    "    return list_docs[:top_k]"
   ]
  },
  {
   "cell_type": "code",
   "execution_count": 236,
   "metadata": {},
   "outputs": [
    {
     "data": {
      "application/vnd.jupyter.widget-view+json": {
       "model_id": "1dc7cfb99dad405ebea4773d8e714018",
       "version_major": 2,
       "version_minor": 0
      },
      "text/plain": [
       "HBox(children=(FloatProgress(value=0.0, max=1000.0), HTML(value='')))"
      ]
     },
     "metadata": {},
     "output_type": "display_data"
    },
    {
     "name": "stdout",
     "output_type": "stream",
     "text": [
      "\n"
     ]
    }
   ],
   "source": [
    "topic_id = 'A.21'\n",
    "query = dict_idx_text[topic_id]\n",
    "\n",
    "# df_judge = pd.read_csv(os.path.join(runs_path, \"tf.psu-task1-mlt.base-auto-both-A.tsv\"), sep='\\t',\n",
    "#             names = ['topic_id', 'Q','post_id', 'rank', 'score', 'algo'])\n",
    "\n",
    "df_judge = pd.read_csv(os.path.join('/data/szr207/projects/ArqMath/notebooks', \"tf.psu-task1-rrf.anserini.bert-auto-both-P.tsv\"), sep=' ',\n",
    "            names = ['topic_id', 'Q','post_id', 'rank', 'score', 'algo'])\n",
    "\n",
    "df_q = df_judge.loc[df_judge['topic_id'] == topic_id]\n",
    "\n",
    "post_idx = np.array(df_q['post_id'])\n",
    "\n",
    "list_docs = []\n",
    "for idx in tqdm(post_idx):\n",
    "    dict_doc = {}\n",
    "    dict_doc['body'] = dict_aid_body[idx]\n",
    "    dict_doc['docid'] = idx\n",
    "    list_docs.append(dict_doc)"
   ]
  },
  {
   "cell_type": "code",
   "execution_count": 237,
   "metadata": {
    "scrolled": true
   },
   "outputs": [],
   "source": [
    "# hits = show_query_results(query, list_docs, 10)\n",
    "# len(hits)"
   ]
  },
  {
   "cell_type": "markdown",
   "metadata": {
    "colab_type": "text",
    "id": "7Hbca-fTUDC-"
   },
   "source": [
    "Let's extract contextualized vectors of queries and abstracts from SciBERT for highlighting relevant paragraphs."
   ]
  },
  {
   "cell_type": "markdown",
   "metadata": {
    "colab_type": "text",
    "id": "AWUg03EjXF-1"
   },
   "source": [
    "First, extract the contextualized vectors of the query above:\n",
    "\n",
    "$$q_1, \\ldots, q_T = \\text{SciBERT}(\\text{query})$$"
   ]
  },
  {
   "cell_type": "code",
   "execution_count": 238,
   "metadata": {
    "colab": {},
    "colab_type": "code",
    "id": "hWmb-SWKTcu1"
   },
   "outputs": [],
   "source": [
    "def extract_bert(text, tokenizer, model):\n",
    "    text_ids = torch.tensor([tokenizer.encode(text, add_special_tokens=True)])\n",
    "    text_words = tokenizer.convert_ids_to_tokens(text_ids[0])[1:-1]\n",
    "#     print(text_words)\n",
    "    n_chunks = int(numpy.ceil(float(text_ids.size(1))/510))\n",
    "    states = []\n",
    "    \n",
    "    for ci in range(n_chunks):\n",
    "        text_ids_ = text_ids[0, 1+ci*510:1+(ci+1)*510]            \n",
    "        text_ids_ = torch.cat([text_ids[0, 0].unsqueeze(0), text_ids_])\n",
    "        if text_ids[0, -1] != text_ids[0, -1]:\n",
    "            text_ids_ = torch.cat([text_ids_, text_ids[0,-1].unsqueeze(0)])\n",
    "        \n",
    "        with torch.no_grad():\n",
    "            state = model(text_ids_.unsqueeze(0))[0]\n",
    "            state = state[:, 1:-1, :]\n",
    "        states.append(state)\n",
    "\n",
    "    state = torch.cat(states, axis=1)\n",
    "    return text_ids, text_words, state[0]"
   ]
  },
  {
   "cell_type": "code",
   "execution_count": 239,
   "metadata": {
    "colab": {},
    "colab_type": "code",
    "id": "e9gFCKohUXNP"
   },
   "outputs": [],
   "source": [
    "query_ids, query_words, query_state = extract_bert(query, tokenizer, model)"
   ]
  },
  {
   "cell_type": "markdown",
   "metadata": {
    "colab_type": "text",
    "id": "IcAVwQdCXE_P"
   },
   "source": [
    "Second, let's extract contextualized vectors of all the paragraphs from the hit #7:\n",
    "\n",
    "$$p_1^k, \\ldots, p_{T_k}^k = \\text{SciBERT}(\\text{paragraph}^k)$$"
   ]
  },
  {
   "cell_type": "code",
   "execution_count": 240,
   "metadata": {
    "colab": {
     "base_uri": "https://localhost:8080/",
     "height": 34
    },
    "colab_type": "code",
    "id": "d-NG7C1CUbDg",
    "outputId": "9d5db119-9a68-4de0-9ad0-8448ec93768f",
    "scrolled": true
   },
   "outputs": [
    {
     "data": {
      "application/vnd.jupyter.widget-view+json": {
       "model_id": "cdc02925880f4b84ba683c7375332cf9",
       "version_major": 2,
       "version_minor": 0
      },
      "text/plain": [
       "HBox(children=(FloatProgress(value=0.0, max=10.0), HTML(value='')))"
      ]
     },
     "metadata": {},
     "output_type": "display_data"
    },
    {
     "name": "stderr",
     "output_type": "stream",
     "text": [
      "Token indices sequence length is longer than the specified maximum sequence length for this model (801 > 512). Running this sequence through the model will result in indexing errors\n",
      "Token indices sequence length is longer than the specified maximum sequence length for this model (1564 > 512). Running this sequence through the model will result in indexing errors\n",
      "Token indices sequence length is longer than the specified maximum sequence length for this model (1001 > 512). Running this sequence through the model will result in indexing errors\n",
      "Token indices sequence length is longer than the specified maximum sequence length for this model (636 > 512). Running this sequence through the model will result in indexing errors\n",
      "Token indices sequence length is longer than the specified maximum sequence length for this model (2289 > 512). Running this sequence through the model will result in indexing errors\n",
      "Token indices sequence length is longer than the specified maximum sequence length for this model (627 > 512). Running this sequence through the model will result in indexing errors\n",
      "Token indices sequence length is longer than the specified maximum sequence length for this model (1107 > 512). Running this sequence through the model will result in indexing errors\n"
     ]
    },
    {
     "name": "stdout",
     "output_type": "stream",
     "text": [
      "\n"
     ]
    }
   ],
   "source": [
    "ii = 1\n",
    "# doc_json = json.loads(list_docs[ii].raw)\n",
    "\n",
    "paragraph_states = []\n",
    "for par in tqdm(list_docs[:10]):\n",
    "#     par_ids, par_words, state = extract_bert(par['body'], tokenizer, model)\n",
    "    state = extract_bert(par['body'], tokenizer, model)\n",
    "    paragraph_states.append(state)"
   ]
  },
  {
   "cell_type": "markdown",
   "metadata": {
    "colab_type": "text",
    "id": "p_bUm3TOXWdY"
   },
   "source": [
    "We then compute the cosine similarity matrix between the query and each paragraph:\n",
    "\n",
    "$$A^k = [a^k_{ij}] \\in \\mathbb{R}^{|\\text{query}| \\times |\\text{paragraph}^k|},$$\n",
    "\n",
    "where\n",
    "\n",
    "$$a^k_{ij} = \\frac{q_i^\\top p_j^k}{\\| q_i \\| \\| p_j^k \\|}$$\n"
   ]
  },
  {
   "cell_type": "code",
   "execution_count": 241,
   "metadata": {
    "colab": {},
    "colab_type": "code",
    "id": "m6oZIW3OUbLv"
   },
   "outputs": [],
   "source": [
    "def cross_match(state1, state2):\n",
    "    state1 = state1 / torch.sqrt((state1 ** 2).sum(1, keepdims=True))\n",
    "    state2 = state2 / torch.sqrt((state2 ** 2).sum(1, keepdims=True))\n",
    "    sim = (state1.unsqueeze(1) * state2.unsqueeze(0)).sum(-1)\n",
    "    return sim"
   ]
  },
  {
   "cell_type": "code",
   "execution_count": 242,
   "metadata": {
    "colab": {
     "base_uri": "https://localhost:8080/",
     "height": 34
    },
    "colab_type": "code",
    "id": "MK8Na3sGUbSG",
    "outputId": "b4cee510-a39d-4a44-f207-529a3f611673",
    "scrolled": true
   },
   "outputs": [
    {
     "data": {
      "application/vnd.jupyter.widget-view+json": {
       "model_id": "05c3bef3e7a14485a7c9e8751dd4e8e4",
       "version_major": 2,
       "version_minor": 0
      },
      "text/plain": [
       "HBox(children=(FloatProgress(value=1.0, bar_style='info', max=1.0), HTML(value='')))"
      ]
     },
     "metadata": {},
     "output_type": "display_data"
    },
    {
     "name": "stdout",
     "output_type": "stream",
     "text": [
      "\n"
     ]
    }
   ],
   "source": [
    "sim_matrices = []\n",
    "for pid, par in tqdm(enumerate(list_docs[:10])):\n",
    "    sim_score = cross_match(query_state, paragraph_states[pid][2])\n",
    "    sim_matrices.append(sim_score)"
   ]
  },
  {
   "cell_type": "markdown",
   "metadata": {
    "colab_type": "text",
    "id": "oRKhDGzdXYr4"
   },
   "source": [
    "Let's retrieve the most relevant paragraphs first, where define the top-$M$ most relevant paragraphs as \n",
    "\n",
    "$$\\arg\\text{top-$M$}_{k=1}^K \\max_{i=1,\\ldots,|\\text{query}|} \\max_{j=1,\\ldots, |\\text{paragraph}^k|} A_{ij}^k$$\n",
    "\n",
    "that is, a paragraph with the highly matched words to the query words is considered relevant."
   ]
  },
  {
   "cell_type": "code",
   "execution_count": 243,
   "metadata": {
    "colab": {},
    "colab_type": "code",
    "id": "-3hJ1dAAUSWQ"
   },
   "outputs": [],
   "source": [
    "paragraph_relevance = [torch.max(sim).item() for sim in sim_matrices]\n",
    "\n",
    "# Select the index of top 5 paragraphs with highest relevance\n",
    "rel_index = numpy.argsort(paragraph_relevance)[-10:][::-1]"
   ]
  },
  {
   "cell_type": "code",
   "execution_count": 244,
   "metadata": {
    "scrolled": true
   },
   "outputs": [],
   "source": [
    "def show_sections(section):\n",
    "    \"\"\"HTML print format for document subsections\"\"\"\n",
    "    return HTML('<div style=\"font-family: Times New Roman; font-size: 18px; padding-bottom:10px; margin-left: 15px\">' + \n",
    "        f' -- {section.replace(\"Ġ\",\"\")} </div>')\n",
    "\n",
    "# display(show_query(query))\n",
    "# # display(show_document(ii, list_docs[0]))\n",
    "# # for ri in numpy.sort(rel_index):\n",
    "# for ri in rel_index:\n",
    "#     print(ri)\n",
    "#     display(show_document(list_docs[ri]['docid'], list_docs[ri]['body']))"
   ]
  },
  {
   "cell_type": "markdown",
   "metadata": {
    "colab_type": "text",
    "id": "d3H0XQ8IZfAN"
   },
   "source": [
    "We want to look at more details by highlighting relevant phrases in each paragraph, where we define relevant phrases for each paragraph as\n",
    "\n",
    "$$\\arg\\text{top-$M$}_{j=1,\\ldots, |\\text{paragraph}^k|} \\max_{i=1,\\ldots,|\\text{query}|} A_{ij}^k$$\n",
    "\n",
    "that is, any word that had a high similarity to each of the query words is considered relevant. given these words, we highlight a window of 10 surrounding each of them."
   ]
  },
  {
   "cell_type": "code",
   "execution_count": 245,
   "metadata": {
    "colab": {},
    "colab_type": "code",
    "id": "D45pyivG3F88"
   },
   "outputs": [],
   "source": [
    "def highlight_paragraph(ptext, rel_words, max_win=10):\n",
    "    para = \"\"\n",
    "    prev_idx = 0\n",
    "    for jj in rel_words:\n",
    "        \n",
    "        if prev_idx > jj:\n",
    "            continue\n",
    "        \n",
    "        found_start = False\n",
    "        for kk in range(jj, prev_idx-1, -1):\n",
    "            if ptext[kk] == \".\" and (ptext[kk+1][0].isupper() or ptext[kk+1][0] == '['):\n",
    "                sent_start = kk\n",
    "                found_start = True\n",
    "                break\n",
    "        if not found_start:\n",
    "            sent_start = prev_idx-1\n",
    "            \n",
    "        found_end = False\n",
    "        for kk in range(jj, len(ptext)-1):\n",
    "            if ptext[kk] == \".\" and (ptext[kk+1][0].isupper() or ptext[kk+1][0] == '['):\n",
    "                sent_end = kk\n",
    "                found_end = True\n",
    "                break\n",
    "                \n",
    "        if not found_end:\n",
    "            if kk >= len(ptext) - 2:\n",
    "                sent_end = len(ptext)\n",
    "            else:\n",
    "                sent_end = jj\n",
    "        \n",
    "        para = para + \" \"\n",
    "        para = para + \" \".join(ptext[prev_idx:sent_start+1])\n",
    "        para = para + \"<font color='green'>\"\n",
    "        para = para + \" \".join(ptext[sent_start+1:sent_end])\n",
    "        para = para + \"</font> \"\n",
    "        prev_idx = sent_end\n",
    "        \n",
    "    if prev_idx < len(ptext):\n",
    "        para = para + \" \".join(ptext[prev_idx:])\n",
    "\n",
    "    return para"
   ]
  },
  {
   "cell_type": "code",
   "execution_count": 246,
   "metadata": {
    "colab": {
     "base_uri": "https://localhost:8080/",
     "height": 647
    },
    "colab_type": "code",
    "id": "ZMxkQ0_PZiOQ",
    "outputId": "784d6f4d-6889-4b08-de67-fb089becd6f8",
    "scrolled": false
   },
   "outputs": [
    {
     "data": {
      "text/html": [
       "<br/><div style=\"font-family: Times New Roman; font-size: 20px;padding-bottom:12px\"><b>Query</b>: Finding the last two digits of $9^{9^{9^{…{^9}}}}$ (nine 9s). I'm continuing on my journey learning about modular arithmetic and got confused with this question:  Find the last two digits of $9^{9^{9^{…{^9}}}}$ (nine 9s). The phi function is supposed to be used in this problem and so far this is what I've got:  $9^{9^{9^{…{^9}}}} ≡ x (\\text{mod } 100)$ Where $0 ≤ x ≤ 100$  $9^{9^{9^{…{^9}}}} \\text{ (nine 9s) }= 9^a$ In order to know $9^a (\\text{mod } 100)$, we need to know $a (\\text{mod } \\phi(100))$ As $\\phi(100)= 40$, we get $a = b (\\text{mod } 40)$  $9^{9^{9^{…{^9}}}} \\text{ (eight 9s) }= 9^b$ In order to know $9^b (\\text{mod } 40)$, we need to know $b (\\text{mod } \\phi(40))$ As $\\phi(40)= 16$, we get $b = c ( \\text{mod }16)$  $9^{9^{9^{…{^9}}}}\\text{ (seven 9s) }= 9^c $ In order to know $9^c (mod 16)$, we need to know $c (\\text{mod } phi(16))$ as $\\phi(16)= 8 $ we need to find $c (\\text{mod } 8)$  As $9 = 1 (\\text{mod } 8)$ $c = 1 (\\text{mod } 8)$  I feel like I might have made a mistake somewhere along the way because I'm having a lot of trouble stitching it all back together in order to get a value for the last two digits. Could anyone please help me with this? Thank you! </div>"
      ],
      "text/plain": [
       "<IPython.core.display.HTML object>"
      ]
     },
     "metadata": {},
     "output_type": "display_data"
    },
    {
     "name": "stdout",
     "output_type": "stream",
     "text": [
      "0\n"
     ]
    },
    {
     "data": {
      "text/html": [
       "<div style=\"font-family: Times New Roman; font-size: 18px; padding-bottom:10px; margin-left: 15px\"> --  Show that there exist no a , b , c \\ in \\ math bb Z ^ + such that a ^ 3 + 2 b ^ 3 = 4 c ^ 3 .<font color='green'>   Find all positive integer solutions of a ^ 3 + 2 b ^ 3 = 4 c ^ 3</font>  .   Proof : There don 't exist any integer solutions for the give equation . Proof by the Well Order ing Principle .  Let $ d $ be the set of all such possible combinations in form ( a , b , c ).  By the Well Order ing Principle , we that every non empty set of non - negative integers always has a smallest element . So , there must be a tuple ( a , b , c ) such that \\ max ( a , b , c ) is the least possible value in d .  We also know that $ a $, b and c must be even . Since a must be even if 4 c ^ 3 has to be even but we know that 4 c ^ 3 is even , so a is the same . Similarly it can be shown that all $ a $, $ b $ and c are even .  Now , let a = 2 x , b = 2 y and c = 2 z .  But then ,  a ^ 3 + 2 b ^ 3 = 4 c ^ 3 \\ impl ies ( 2 x ) ^ 3 + 2 * ( 2 y ) ^ 3 = 4 * ( 2 z ) ^ 3 \\ impl ies 8 x ^ 3 + 16 y ^ 3 = 32 z ^ 3 \\ impl ies x ^ 3 + 2 y ^ 3 = 4 z ^ 3  So , ( x , y , z ) \\ in d . But , \\ max ( x , y , z ) & lt ; \\ max ( a , b , c ). But ( a , b , c ) was supposed to be the smallest such member . We have a contradiction here . There is no smallest ( a , b , c ) which satisfy this criterion and hence no ( a , b , c ) at all and $ d $ is empty . Hence , there exist no integers a , b and c which satisfy  a ^ 3 + 2 b ^ 3 = 4 c ^ 3  I wrote this proof . Is it enough to prove the above question ? Am I right ? Are there any mistakes in the above proof ? If there are any , please help me .   Do you have any other ways of proving it ? . There is another proof using the well ordering principle .<font color='green'> We use the following fact :     Third powers are can only be con gru ent to 0 ,  1  or  8 \\ mod 9 .    Now , we see that the left hand side is con gru ent to 0 , 1 , 2 , 3 , 6 , 7 or 8 \\ mod 9 , while the right hand side is con gru ent to 0 , 4 or 5 \\ mod 9</font> . So the only possibility is that 4 c ^ 3 \\ equ iv 0 \\ mod 9 and a ^ 3 + 2 b ^ 3 \\ equ iv 0 \\ mod 9 . The first modular con gru ence gives that 3 \\ mid c . The second can only hold true if 3 \\ mid a and 3 \\ mid b .   If one of those isn 't true , then we get either a combination of 0 \\ mod 9 and 2 or 7 \\ mod 9 , a combination of 0 \\ mod 9 and 1 or 8 \\ mod 9 , a combination of 1 or 8 \\ mod 9 and 2 or 7 \\ mod 9 , none of which add to 0 \\ mod 9 .   Now suppose that ( a , b , c ) is the solution with the smallest $ a $.   We know that 3 \\ mid c , 3 \\ mid a and 3 \\ mid b .   Hence write a = 3 x , b = 3 y , c = 3 z and then is ( x , y , z ) also a solution with smaller $ a $. </div>"
      ],
      "text/plain": [
       "<IPython.core.display.HTML object>"
      ]
     },
     "metadata": {},
     "output_type": "display_data"
    },
    {
     "name": "stdout",
     "output_type": "stream",
     "text": [
      "1\n"
     ]
    },
    {
     "data": {
      "text/html": [
       "<div style=\"font-family: Times New Roman; font-size: 18px; padding-bottom:10px; margin-left: 15px\"> --  <font color='green'>Find the sum of all values of $ a $ satisfying that there exist positive integers a , b satisfying ( a - b ) \\ sq rt { ab } = 2016</font>  .<font color='green'>   Find the sum of all values of $ a $ satisfying that there exist positive integers a , b satisfying ( a - b ) \\ sq rt { ab } = 2016   my try   let a = x ^ 2  , b = y ^ 2 \\ to ( a - b ) \\ sq rt { ab } =( x ^ 2 - y ^ 2 )( xy )= 2016  is this approach appropriate for this problem ? please elaborate your help   . \\ text { Find } \\ ; \\ sum _{ ( a , b ) \\ in S } a    \\ q quad \\ text { where } \\ q quad   S = \\ { ( a , b )\\ in \\ math bb Z ^ + : ( a - b )\\ sq rt { ab } = 2016 \\ }  Let ( a , b ) \\ in S and let x = \\ sq rt { ab }. Then ( a - b ) = \\ df rac { 2016 }{ x }.  So  \\ left \\ { \\ begin { array }{ c }   a = \\ sq rt { ab + \\ frac 14 ( a - b ) ^ 2 } + \\ frac 12 ( a - b ) \\\\   b = \\ sq rt { ab + \\ frac 14 ( a - b ) ^ 2 } - \\ frac 12 ( a - b ) \\\\ \\ end { array } \\ right \\ } \\ impl ies \\ left \\ { \\ begin { array }{ c }   a = \\ sq rt { x ^ 2 + \\ df rac { 100 8 ^ 2 }{ x ^ 2 }} + \\ df rac { 100 8 }{ x } \\\\   b = \\ sq rt { x ^ 2 + \\ df rac { 100 8 ^ 2 }{ x ^ 2 }} - \\ df rac { 100 8 }{ x } \\\\ \\ end { array } \\ right \\ }  We need to solve x ^ 2 + y ^ 2 = z ^ 2 where x y = 100 8</font> .  For now , because of symmetry , we can assume x & lt ; y .  Then the possibilities for x are x \\ in \\ { 1 , 2 , 3 , 4 , 6 , 7 , 8 , 9 , 12 , 14 , 16 , 18 , 21 , 24 , 28 \\ }  Working mod 11 .  The quad r atic residues mod ulo $ 11 $ are  \\ begin { array }{ | c | cc cc cc | } \\ h line    x   & amp ; 0 & amp ; 1 , 10 & amp ; 2 , 9 & amp ; 3 , 8 & amp ; 4 , 7 & amp ; 5 , 6 \\\\    x ^ 2 & amp ; 0 & amp ; 1    & amp ; 4   & amp ; 9   & amp ; 5   & amp ; 3 \\\\ \\ h line \\ end { array }  Since x y = 100 8 = 7 = 18 = 29 = 40 = 51 = 62 = 73 = 84 = 95 \\ pm od { 11 }, the possibilities for x , y ( account ing for x , y symmetry ) are  \\ begin { array }{ | c | cc cc c | } \\ h line    x         & amp ; 1 & amp ; 2 & amp ; 3 & amp ; 4  & amp ; 5 \\\\    y         & amp ; 7 & amp ; 9 & amp ; 6 & amp ; 10 & amp ; 8 \\\\    x ^ 2 + y ^ 2 & amp ; 6 & amp ; 8 & amp ; 1 & amp ; 6  & amp ; 1 \\\\ \\ h line \\ end { array }  We find x \\ pm od { 11 } \\ in \\ { 3 , 5 , 6 , 8 \\ }. This wh itt les the list down to  x \\ in \\ { 3 , 6 , 8 , 14 , 16 , 28 \\ }  Working mod 13 .  The quad r atic residues mod ulo $ 13 $ are  \\ begin { array }{ | c | cc cc cc | } \\ h line    x   & amp ; 0 & amp ; 1 , 12 & amp ; 2 , 11 & amp ; 3 , 10 & amp ; 4 , 9 & amp ; 5 , 8 & amp ; 6 , 7 \\\\    x ^ 2 & amp ; 0 & amp ; 1    & amp ; 4    & amp ; 9    & amp ; 3   & amp ; 12  & amp ; 10 \\\\ \\ h line \\ end { array }  Since x y = 100 8 = 7 = 20 = 33 = 46 = 59 = 72 = 85 = 98 \\ pm od { 13 }, the possibilities for x , y ( account ing for x , y symmetry ) are  \\ begin { array }{ | c | cc cc c | } \\ h line          x & amp ; 1  & amp ; 2  & amp ; 3  & amp ; 4 & amp ; 6  & amp ; 8 \\\\          y & amp ; 7  & amp ; 10 & amp ; 11 & amp ; 5 & amp ; 12 & amp ; 9 \\\\    x ^ 2 + y ^ 2 & amp ; 11 & amp ; 0  & amp ; 0  & amp ; 2 & amp ; 11 & amp ; 2 \\\\ \\ h line \\ end { array }  We find x \\ pm od { 13 } \\ in \\ { 2 , 3 , 10 , 11 \\ } This wh itt les the list down to  x \\ in \\ { 3 , 16 , 28 \\ }  We compute x , y , and z .  \\ begin { array }{ cc c } x & amp ; y = \\ df rac { 100 8 }{ x } & amp ; z = \\ sq rt { x ^ 2 + y ^ 2 } \\\\ \\ h line                  3 & amp ;             336 & amp ; 336 . 01 339 26 \\\\    \\ color { red }{ 16 } & amp ; \\ color { red }{ 63 } & amp ; \\ color { red }{ 65 } \\\\                 28 & amp ;              36 & amp ; 45 . 607 017 \\\\ \\ h line \\ end { array }  Hence  \\ begin { array }{ cc c | cc | c }    x & amp ; y = \\ frac { 100 8 }{ x }       & amp ; z = \\ sq rt { x ^ 2 + \\ left (\\ frac { 100 8 }{ x }\\ right ) ^ 2 }       & amp ; a = z + y & amp ; b = z - y & amp ; ( a - b )\\ sq rt { ab } \\\\ \\ h line    16 & amp ; 63 & amp ; 65 & amp ; 128 & amp ; 2 & amp ; 2016 \\\\    63 & amp ; 16 & amp ; 65 & amp ; 81 & amp ; 49 & amp ; 2016 \\\\ \\ h line \\ end { array }  So \\ sum _{ ( a , b )\\ in S } a  = 128 + 81 = 209 </div>"
      ],
      "text/plain": [
       "<IPython.core.display.HTML object>"
      ]
     },
     "metadata": {},
     "output_type": "display_data"
    },
    {
     "name": "stdout",
     "output_type": "stream",
     "text": [
      "2\n"
     ]
    },
    {
     "data": {
      "text/html": [
       "<div style=\"font-family: Times New Roman; font-size: 18px; padding-bottom:10px; margin-left: 15px\"> --  Question on mod ulo .<font color='green'>Find the last two digits of 3 ^{ 2002 }.  How should I approach this question using mod ulo ? I obtained 09 as my answer however the given answer was 43</font> .   My method was as follows :  2002 \\ : = \\ : 8 \\ cd ot 250 + 2  3 ^{ 2002 } = \\ : 3 ^{ 8 \\ cd ot 250 + 2 }\\ : = \\ : 3 ^{ 8 \\ cd ot 250 }\\ cd ot 3 ^ 2  The last two digits is the remainder when divided by 100 . Thus we need to compute the sum mod 100 .  3 ^ 8 \\ equ iv 61 \\ :\\ left ( mod \\ : 100 \\ right )  Thus ,   3 ^{ 2002 } = \\ : 3 ^{ 8 \\ cd ot 250 + 2 }\\ : = \\ : 3 ^{ 8 \\ cd ot 250 }\\ cd ot 3 ^ 2 \\ equ iv 61 ^{ 250 }\\ cd ot 9 \\ :\\ equ iv 61 ^{ 5 \\ cd ot 50 }\\ cd ot 9 \\ equ iv \\ : 9 \\ :\\ left ( mod \\ : 100 \\ right )  Therefore my answer would be 09 . Am I doing it the right way ?   Thanks in advanced . Obs erve that \\ text { g cd ( 3 , 100 )} = 1 , by E uler tot ient formula : 3 ^ {\\ phi ( 100 )} \\ cong 1 (\\ mod 100 ). But \\ phi ( 100 ) = 100 \\ left ( 1 - \\ df rac { 1 }{ 2 }\\ right )\\ left ( 1 - \\ df rac { 1 }{ 5 }\\ right ) = 40 . Thus : 3 ^{ 40 } \\ cong 1 (\\ mod 100 ). So 3 ^{ 2002 } = ( 3 ^{ 40 }) ^{ 50 }\\ cd ot 3 ^ 2 \\ cong 1 \\ cd ot 9 (\\ mod 100 ) \\ cong  9 (\\ mod 100 ). Thus the remainder is 9 as claimed . </div>"
      ],
      "text/plain": [
       "<IPython.core.display.HTML object>"
      ]
     },
     "metadata": {},
     "output_type": "display_data"
    },
    {
     "name": "stdout",
     "output_type": "stream",
     "text": [
      "3\n"
     ]
    },
    {
     "data": {
      "text/html": [
       "<div style=\"font-family: Times New Roman; font-size: 18px; padding-bottom:10px; margin-left: 15px\"> --  <font color='green'>Finding the inverse la place trans from ation</font>  . differential equations .. Im trying to find the inverse la place transformation of  \\ frac { ( 2 s ^ 2 + 9 s + 5 ) }{ (( s ^ 2 - 16 s + 73 )( s ^ 2 + 25 )) }. when s \\ gt 8 .<font color='green'> Here is my work : \\ begin { align } & amp ; \\ frac { ( 2 s ^ 2 + 9 s + 5 ) }{ (( s ^ 2 - 16 s + 73 )( s ^ 2 + 25 )) } \\\\ & amp ; = \\ frac {\\ left (\\ frac { 1 }{ 272 }\\ right ) * ( 9 s + 580 ) }{ ( s ^ 2 - 16 s + 73 ) - \\ frac { ( 9 s + 180 ) }{ ( s ^ 2 + 25 ) }} \\\\ & amp ; = \\ left (\\ frac { 1 }{ 272 }\\ right ) * \\ frac { ( 9 s + 580 ) }{ (( s - 8 ) ^ 2 + 9 ) - \\ frac { ( 9 s + 180 ) }{ ( s ^ 2 + 25 )} }, \\ text { com pleting the square } \\\\ & amp ; = \\ left (\\ frac { 1 }{ 272 }\\ right ) * \\ frac { ( 9 ( s - 8 ) + 50 8 ) }{ (( s - 8 ) ^ 2 + 9 ) - \\ frac { ( 9 s + 180 ) }{ ( s ^ 2 + 25 ) }} \\ end { align }  In verting now yields \\ left (\\ frac { 1 }{ 272 }\\ right ) * e ^{ ( 8 t )} ( 9 \\ cos ( 3 t ) + \\ left (\\ frac { 508 }{ 3 }\\ right ) \\ sin ( 3 t )) - ( 9 \\ cos ( 5 t ) + \\ left (\\ frac { 180 }{ 5 }\\ right ) \\ sin ( 5 t ))  Please let me know what is the correct answer because this is incorrect</font> . App reci ate it . . We are are asked to find :  \\ tag 1 \\ display style \\ math cal { L ^{ - 1 }} \\ frac { 2 s ^ 2 + 9 s + 5 }{ ( s ^ 2 - 16 s + 73 )( s ^ 2 + 25 ) }, \\ text { when }  ~~ s \\ gt 8 .  We start off by doing the partial fraction expansion .  \\ tag 2 \\ display style \\ frac { 2 s ^ 2 + 9 s + 5 }{ ( s ^ 2 - 16 s + 73 )( s ^ 2 + 25 )} = \\ frac { 1 }{ 272 }\\ left (\\ frac { 9 s + 580 }{ s ^ 2 - 16 s + 73 } - \\ frac { 9 ( s + 20 ) }{ s ^ 2 + 25 }\\ right )  Now , we are looking for having specific forms in order to do the IL T , and for this problem , we are going to use the following four forms :   \\ display style  \\ math cal { L ^{ - 1 }} \\ frac { a }{ s ^ 2 + a ^ 2 }, s \\ gt 0 \\ right arrow \\ sin ( at ) \\ display style  \\ math cal { L ^{ - 1 }} \\ frac { s }{ s ^ 2 + a ^ 2 }, s \\ gt 0 \\ right arrow \\ cos ( at ) \\ display style  \\ math cal { L ^{ - 1 }} \\ frac { a }{ ( s - b ) ^ 2 + a ^ 2 }, s \\ gt b \\ right arrow e ^{ bt }\\ sin ( at ) \\ display style  \\ math cal { L ^{ - 1 }} \\ frac { s - b }{ ( s - b ) ^ 2 + a ^ 2 }, s \\ gt b \\ right arrow e ^{ bt }\\ cos ( at )   So , our task now is to take the partial fraction expansion and write so it looks like the four forms above . We get :   \\ tag 3 \\ display style \\ frac { 1 }{ 272 }\\ left ( 9 \\ frac { s - 8 }{ ( s - 8 ) ^ 2 + 3 ^ 2 } + \\ frac { 652 }{ 3 } \\ frac { 3 }{ ( s - 8 ) ^ 2 + 3 ^ 2 } - 9 \\ frac { s }{ s ^ 2 + 5 ^ 2 } - 36 \\ frac { 5 }{ s ^ 2 + 5 ^ 2 } \\ right )  Do you understand where your error is now ? Expand ( 3 ) and make sure it is exactly what we started with in ( 2 ).  Now , since these are in the exact form we need them to be in , we can use the four \\ math cal { L ^{ - 1 }} above to write :  \\ display style \\ frac { 1 }{ 272 }\\ left ( 9 e ^{ 8 t }\\ cos ( 3 t ) + \\ frac { 652 }{ 3 } \\ left ( e ^{ 8 t } \\ sin ( 3 t )\\ right ) - 9 \\ cos ( 5 t ) - 36 \\ sin ( 5 t )\\ right ) </div>"
      ],
      "text/plain": [
       "<IPython.core.display.HTML object>"
      ]
     },
     "metadata": {},
     "output_type": "display_data"
    },
    {
     "name": "stdout",
     "output_type": "stream",
     "text": [
      "4\n"
     ]
    },
    {
     "data": {
      "text/html": [
       "<div style=\"font-family: Times New Roman; font-size: 18px; padding-bottom:10px; margin-left: 15px\"> --  Does the equation x ^ 3 - 9 = 0 have any solutions in ( \\ math bb { Z } / 31 \\ math bb { Z } )? . This is my first time \" s olving an equation \" in a group so I feel like that may be the source of my troubles .<font color='green'>Here 's what I have so far , although I 'm not sure how to progress :     Ass ume $ c $ is a solution to x ^ 3 - 9 = 0 in ( \\ math bb { Z } / 31 \\ math bb { Z } ).   We then have c ^ 3 - 9 = 0 \\ impl ies c ^ 3 = 9 \\ impl ies | c ^ 3 | = | 9 | and since on   the L HS we 're multiplying elements in ( \\ math bb { Z } / 31 \\ math bb { Z } ), we   consider the order of [ 9 ] _{ 31 } in ( \\ math bb { Z } / 31 \\ math bb { Z }) ^ *   which is 15 since 9 ^{ 15 } \\ equ iv 1 \\ \\ text { mod } \\ 31</font> . Thus   | c ^ 3 | = 15 .   I feel like I should be able to ded uce | c | from | c ^ 3 | but it doesn 't seem to be clear to me . Could someone assist me in figuring out how to get | c | ?   From there , my next steps would be to ensure it divides 31 . Since ( \\ math bb { Z } / 31 \\ math bb { Z }) ^ * is ab el ian and cycl ic thus has an element of maximal finite order of 31 , and if | c | \\ le q 31 then | c | must divide 31 . . All numbers a cop r ime to 31 satisfy a ^{ 30 }\\ equ iv 1 \\ b mod 31 . There is a primitive root g such that k = 30 is the smallest positive value such that g ^ k \\ equ iv 1 \\ b mod 31 , so any number cop r ime to 31 can be expressed as equivalent to a power of g . This means that for a ^ 6 , in particular , there are only 5 distinct values possible , since a ^ 6 \\ in \\ equ iv \\ { g ^ 6 , g ^{ 12 }, g ^{ 18 }, g ^{ 24 }, g ^{ 30 }\\ equ iv 1 \\ }  We can also see that 2 ^ 5 \\ equ iv 1 \\ b mod 31 , so also \\ { 4 ^ 5 , 8 ^ 5 , 16 ^ 5 \\ }\\ equ iv  1 \\ b mod 31 . 30 / 6 = 5 and thus e = \\ { 1 , 2 , 4 , 8 , 16 \\ }  are the 5 possible values that can have a ^ 6 \\ equ iv e \\ b mod 31 .   Obviously 9 is a square , so if 9 is also a cube ( c ^ 3 \\ equ iv 9 \\ b mod 31 ) then it must also be a sixth power ( d ^ 6 \\ equ iv 9 \\ b mod 31 ) . Thus  ( c ^ 3 \\ equ iv 9 \\ b mod 31 ) has no solutions c . </div>"
      ],
      "text/plain": [
       "<IPython.core.display.HTML object>"
      ]
     },
     "metadata": {},
     "output_type": "display_data"
    },
    {
     "name": "stdout",
     "output_type": "stream",
     "text": [
      "5\n"
     ]
    },
    {
     "data": {
      "text/html": [
       "<div style=\"font-family: Times New Roman; font-size: 18px; padding-bottom:10px; margin-left: 15px\"> --  <font color='green'>Find the last two digits of 9 ^ {{ 9 } ^{ 9 }}</font> . I have to find the last two decimal digits of the number 9 ^ {{ 9 } ^{ 9 }} .  That 's what I did :  m = 100 , \\ phi ( m )= 40 , a = 9 ( 100 , 9 )= 1 , \\ text { so from E uler 's theorem , we have : } 9 ^{ 40 } \\ equ iv 1 \\ pm od { 100 }  9 ^ {{ 9 } ^{ 9 }} \\ equ iv 9 ^{ 9 ^{ 2 + 2 + 2 + 2 + 1 }} \\ equ iv 9 ^{ 9 ^ 2 \\ cd ot 9 ^ 2 \\ cd ot 9 ^ 2 \\ cd ot 9 ^ 2 \\ cd ot 9 } \\ equ iv 9 ^{ 81 \\ cd ot 81 \\ cd ot 81 \\ cd ot 81 \\ cd ot 9 } \\ equ iv 9 ^{ ( 40 + 40 + 1 ) \\ cd ot ( 40 + 40 + 1 ) \\ cd ot ( 40 + 40 + 1 ) \\ cd ot ( 40 + 40 + 1 ) \\ cd ot 9 } \\ equ iv ( 9 ^{ ( 40 + 40 + 1 ) }) ^{ ( 40 + 40 + 1 ) \\ cd ot ( 40 + 40 + 1 ) \\ cd ot ( 40 + 40 + 1 ) \\ cd ot 9 } \\ equ iv 9 ^ 9 \\ equ iv 9 ^ 4 \\ cd ot 9 ^ 4 \\ cd ot 9 \\ equ iv 6 561 \\ cd ot 6 561 \\ cd ot 9 \\ equ iv 37 21 \\ cd ot 9 \\\\ \\ equ iv 21 \\ cd ot 9 \\ equ iv 89 \\ pm od { 100 }  So , the last two digits are 8 \\ text { and } 9 . $ But , is there also an other way two calculate the last two digits of 9 ^ {{ 9 } ^{ 9 }} $ or is the above the only one ? . You could also just do modular exponent iation and take note of the periods .  The powers of 9 \\ mod 100 are : 1 , 9 , 81 , 29 , 61 , 49 , 41 , 69 , 21 , 89 , 1 , 9 , 81 , 29 , 61 , 49 , ... They have a period of 10 . This means that if n \\ equ iv 9 \\ mod 10 , then 9 ^ n \\ equ iv 89 \\ mod 100 . Since 9 ^ 9 = 387 , 420 , 489 , this means that 9 ^{ 9 ^ 9 } \\ equ iv 89 \\ mod 100 . </div>"
      ],
      "text/plain": [
       "<IPython.core.display.HTML object>"
      ]
     },
     "metadata": {},
     "output_type": "display_data"
    },
    {
     "name": "stdout",
     "output_type": "stream",
     "text": [
      "6\n"
     ]
    },
    {
     "data": {
      "text/html": [
       "<div style=\"font-family: Times New Roman; font-size: 18px; padding-bottom:10px; margin-left: 15px\"> --  <font color='green'>Find the last two digits of 9 ^ {{ 9 } ^{ 9 }}</font> . I have to find the last two decimal digits of the number 9 ^ {{ 9 } ^{ 9 }} .  That 's what I did :  m = 100 , \\ phi ( m )= 40 , a = 9 ( 100 , 9 )= 1 , \\ text { so from E uler 's theorem , we have : } 9 ^{ 40 } \\ equ iv 1 \\ pm od { 100 }  9 ^ {{ 9 } ^{ 9 }} \\ equ iv 9 ^{ 9 ^{ 2 + 2 + 2 + 2 + 1 }} \\ equ iv 9 ^{ 9 ^ 2 \\ cd ot 9 ^ 2 \\ cd ot 9 ^ 2 \\ cd ot 9 ^ 2 \\ cd ot 9 } \\ equ iv 9 ^{ 81 \\ cd ot 81 \\ cd ot 81 \\ cd ot 81 \\ cd ot 9 } \\ equ iv 9 ^{ ( 40 + 40 + 1 ) \\ cd ot ( 40 + 40 + 1 ) \\ cd ot ( 40 + 40 + 1 ) \\ cd ot ( 40 + 40 + 1 ) \\ cd ot 9 } \\ equ iv ( 9 ^{ ( 40 + 40 + 1 ) }) ^{ ( 40 + 40 + 1 ) \\ cd ot ( 40 + 40 + 1 ) \\ cd ot ( 40 + 40 + 1 ) \\ cd ot 9 } \\ equ iv 9 ^ 9 \\ equ iv 9 ^ 4 \\ cd ot 9 ^ 4 \\ cd ot 9 \\ equ iv 6 561 \\ cd ot 6 561 \\ cd ot 9 \\ equ iv 37 21 \\ cd ot 9 \\\\ \\ equ iv 21 \\ cd ot 9 \\ equ iv 89 \\ pm od { 100 }  So , the last two digits are 8 \\ text { and } 9 . $ But , is there also an other way two calculate the last two digits of 9 ^ {{ 9 } ^{ 9 }} $ or is the above the only one ? . Let k be the order of 9 mod 100 . Then 1 \\ equ iv 9 ^ k =( 10 - 1 ) ^ k \\ equ iv 10 \\ bin om { k }{ 1 }\\ cd ot 10 (- 1 ) ^{ k - 1 } + (- 1 ) ^ k \\ pm od { 100 } It implies that 1 = \\ pm ( 10 k - 1 )\\ pm od { 100 }. The minimal integer which satisfies this condition is k = 10 . It follows that 9 ^{ 9 ^ 9 } \\ equ iv 9 ^ 9 \\ equ iv 9 ^{ - 1 }\\ equ iv 89 \\ pm od { 100 }. </div>"
      ],
      "text/plain": [
       "<IPython.core.display.HTML object>"
      ]
     },
     "metadata": {},
     "output_type": "display_data"
    },
    {
     "name": "stdout",
     "output_type": "stream",
     "text": [
      "7\n"
     ]
    },
    {
     "data": {
      "text/html": [
       "<div style=\"font-family: Times New Roman; font-size: 18px; padding-bottom:10px; margin-left: 15px\"> --  Sol ving x ^ 2 + xy + y ^ 2 \\ equ iv 0 \\ pm od { n ^ 2 } . When I was dealing with the equation       x ^ 2 + xy + y ^ 2 \\ equ iv 0 \\ pm od { n ^ 2 }     At n = 3 , I found that x , y must be \\ equ iv 0 \\ pm od n . Then I wonder and did n = 3 to 10 k , using a mini computer program . Interestingly , I found that only when n is in this O E IS sequence , the above statement is true .  Can someone give some hints or tips on how to proof this ?  In other words , how should I prove ( if this is even true ) that :     For all n without prime factor con gru ent to 1 mod 6 , the equation x ^ 2 + xy + y ^ 2 \\ equ iv 0 \\ pm od { n ^ 2 } has only solutions ( x , y ) = ( 0 , 0 )  \\ pm od n ?   Thanks a lot . . < strong > Claim :  If $ n $ is a positive integer such that , for some integers x , y , not both con gru ent to zero , mod $ n $, we have x ^ 2 + x y + y ^ 2 \\ equ iv 0 \\ ; (\\ text { mod }\\ ; n ^ 2 ) then $ n $ has a prime factor con gru ent to 1 , mod 6 .  Proof :  For n = 1 , the claim holds vac uously , since the hypothesis fails ( for any integers x , y , it 's automatic that x , y are both con gru ent to zero , mod 1 ).  Thus , assume n & gt ; 1 .  Let n be the least positive integer for which a count ere x ample exists .  Thus , $ n $ is the least positive integer such that   There are integers x , y , not both con gru ent to zero , mod $ n $, for which x ^ 2 + x y + y ^ 2 \\ equ iv 0 \\ ; (\\ text { mod }\\ ; n ^ 2 ). \\\\ [ 4 pt ] n has no prime factor con gru ent to 1 , mod 6 .   Our goal is to derive a contradiction .  Let d = \\ g cd ( x , y , n ).  Since x , y are not both zero , d is a positive integer .  Then we can write    x = dx _ 1   y = dy _ 1  n = dn _ 1   where x _ 1 , y _ 1 , n _ 1 are integers .  Since x , y are not both con gru ent to zero , mod $ n $, we have d & lt ; n , hence n _ 1  & gt ; 1 .   If d & gt ; 1 , then n _ 1 & lt ; n , but then x ^ 2 + x y + y ^ 2 \\ equ iv 0 \\ ; (\\ text { mod }\\ ; n ^ 2 ) can be reduced to x _ 1 ^ 2 + x _ 1 y _ 1 + y _ 1 ^ 2 \\ equ iv 0 \\ ; (\\ text { mod }\\ ; n _ 1 ^ 2 ) where    x _ 1 , y _ 1 are integers , not both con gru ent to zero , mod n _ 1 . \\\\ [ 4 pt ] n _ 1 has no prime factor con gru ent to 1 , mod 6 .   so we have a count ere x ample with n _ 1 & lt ; n , contradiction .  Hence , we must have d = 1 , so \\ g cd ( x , y , n )= 1 .<font color='green'> If n is even , then  \\ begin { align * } & amp ; x ^ 2 + x y + y ^ 2 \\ equ iv 0 \\ ; (\\ text { mod }\\ ; n ^ 2 ) \\\\ [ 4 pt ] \\ impl ies \\ ; & amp ; x ^ 2 + x y + y ^ 2 \\ equ iv 0 \\ ; (\\ text { mod }\\ ; 2 ) \\\\ [ 4 pt ] \\ end { align * } but then x , y must both be even , contrary to \\ g cd ( x , y , n )= 1</font>  .  Next , let e = \\ g cd ( y , n ).  Suppose e & gt ; 1  Since \\ g cd ( x , y , n )= 1 , it follows that \\ g cd ( x , e )= 1 . \\ begin { align * } \\ text { Then }\\ ; \\ ; & amp ; x ^ 2 + x y + y ^ 2 \\ equ iv 0 \\ ; (\\ text { mod }\\ ; n ^ 2 ) \\\\ [ 4 pt ] \\ impl ies \\ ; & amp ; x ^ 2 + x y + y ^ 2 \\ equ iv 0 \\ ; (\\ text { mod }\\ ; e ) \\\\ [ 4 pt ] \\ impl ies \\ ; & amp ; x ^ 2 \\ equ iv 0 \\ ; (\\ text { mod }\\ ; e ) \\\\ [ 4 pt ] \\ end { align * } contrary to \\ g cd ( x , e )= 1 .  Hence , we must have e = 1 , so \\ g cd ( y , n )= 1 .  Analog ously , we get \\ g cd ( x , n )= 1 . < p > Let $ p $ be a prime factor of n .  From \\ g cd ( y , n )= 1 , we get \\ g cd ( y , p )= 1 .<font color='green'>\\ begin { align * } \\ text { Then }\\ ; \\ ; & amp ; x ^ 2 + x y + y ^ 2 \\ equ iv 0 \\ ; (\\ text { mod }\\ ; n ^ 2 ) \\\\ [ 4 pt ] \\ impl ies \\ ; & amp ; x ^ 2 + x y + y ^ 2 \\ equ iv 0 \\ ; (\\ text { mod }\\ ; p ) \\\\ [ 4 pt ] \\ impl ies \\ ; & amp ; ( x - y )( x ^ 2 + x y + y ^ 2 )\\ equ iv 0 \\ ; (\\ text { mod }\\ ; p ) \\\\ [ 4 pt ] \\ impl ies \\ ; & amp ; x ^ 3 - y ^ 3 \\ equ iv 0 \\ ; (\\ text { mod }\\ ; p ) \\\\ [ 4 pt ] \\ impl ies \\ ; & amp ; x ^ 3 \\ equ iv y ^ 3 \\ ; (\\ text { mod }\\ ; p ) \\\\ [ 4 pt ] \\ impl ies \\ ; & amp ; \\ big l ({ \\ small {\\ frac { x }{ y }} }\\ b igr ) ^ 3 \\ equ iv 1 \\ ; (\\ text { mod }\\ ; p ) \\\\ [ 4 pt ] \\ end { align * } Thus , the order of {\\ large {\\ frac { x }{ y }} }, mod p , is either 1 or 3</font> .  Consider two cases . . .  Case ( 1 ): \\ ; The order of {\\ large {\\ frac { x }{ y }} }, mod p , is 3 .  But the order of {\\ large {\\ frac { x }{ y }} }, mod p , must divide ( p - 1 ), hence 3 {\\ , \\ mid \\ , } ( p - 1 ), so p \\ equ iv 1 \\ ; (\\ text { mod } 3 ).  Since $ n $ is odd , so is p , hence from p \\ equ iv 1 \\ ; (\\ text { mod }\\ ; 3 ), we get p \\ equ iv 1 \\ ; (\\ text { mod }\\ ; 6 ), contradiction .  Case ( 2 ): \\ ; The order of {\\ large {\\ frac { x }{ y }} }, mod p , is 1 .  Then from {\\ large {\\ frac { x }{ y }} }\\ equ iv 1 \\ ; (\\ text { mod }\\ ; p ), we get x \\ equ iv y \\ ; (\\ text { mod }\\ ; p ), hence \\ begin { align * } & amp ; x ^ 2 + x y + y ^ 2 \\ equ iv 0 \\ ; (\\ text { mod }\\ ; p ) \\\\ [ 4 pt ] \\ impl ies \\ ; & amp ; y ^ 2 + ( y ) y + y ^ 2 \\ equ iv 0 \\ ; (\\ text { mod }\\ ; p ) \\\\ [ 4 pt ] \\ impl ies \\ ; & amp ; 3 y ^ 2 \\ equ iv 0 \\ ; (\\ text { mod }\\ ; p ) \\\\ [ 4 pt ] \\ impl ies \\ ; & amp ; p {\\ , \\ mid \\ , } 3 y ^ 2 \\\\ [ 4 pt ] \\ impl ies \\ ; & amp ; p {\\ , \\ mid \\ , } 3 \\ q quad \\ text { [ since \\ g cd ( y , p )= 1 ]} \\\\ [ 4 pt ] \\ impl ies \\ ; & amp ; p = 3 \\\\ [ 4 pt ] \\ impl ies \\ ; & amp ; 3 {\\ , \\ mid \\ , } n \\\\ [ 4 pt ] \\ impl ies \\ ; & amp ; 9 {\\ , \\ mid \\ , } n ^ 2 \\\\ [ 4 pt ] \\ impl ies \\ ; & amp ; x ^ 2 + x y + y ^ 2 \\ equ iv 0 \\ ; (\\ text { mod }\\ ; 9 ) \\\\ [ 4 pt ] \\ end { align * } Since $ p = 3 $, then from   \\ g cd ( x , p )= 1 , and \\ g cd ( x , p )= 1 . \\\\ [ 4 pt ] x \\ equ iv y \\ ; (\\ text { mod }\\ ; p .   we get x \\ equ iv 1 \\ ; (\\ text { mod }\\ ; 3 ), and x \\ equ iv 1 \\ ; (\\ text { mod }\\ ; 3 ).  Note that we can 't have x \\ equ iv y \\ ; (\\ text { mod }\\ ; 9 ), else \\ begin { align * } & amp ; x ^ 2 + x y + y ^ 2 \\ equ iv 0 \\ ; (\\ text { mod }\\ ; 9 ) \\\\ [ 4 pt ] \\ impl ies \\ ; & amp ; y ^ 2 + ( y ) y + y ^ 2 \\ equ iv 0 \\ ; (\\ text { mod }\\ ; 9 ) \\\\ [ 4 pt ] \\ impl ies \\ ; & amp ; 3 y ^ 2 \\ equ iv 0 \\ ; (\\ text { mod }\\ ; 9 ) \\\\ [ 4 pt ] \\ impl ies \\ ; & amp ; y ^ 2 \\ equ iv 0 \\ ; (\\ text { mod }\\ ; 3 ) \\\\ [ 4 pt ] \\ end { align * } contradiction , since p = 3 , and \\ g cd ( y , p )= 1 .  Testing the con gru ence x ^ 2 + x y + y ^ 2 \\ equ iv 0 \\ ; (\\ text { mod }\\ ; 9 ), subject to the constraints   x \\ equ iv 1 \\ ; (\\ text { mod }\\ ; 3 , and x \\ equ iv 1 \\ ; (\\ text { mod }\\ ; 3 . \\\\ [ 4 pt ] x \\ not \\ equ iv y \\ ; (\\ text { mod }\\ ; 9 ). \\\\ [ 4 pt ] 1 \\ le x , y \\ le 8 .   we find that there are no solutions , so case ( 2 ) yields a contradiction .  Thus , both cases yield a contradiction , which completes the proof of the claim . </div>"
      ],
      "text/plain": [
       "<IPython.core.display.HTML object>"
      ]
     },
     "metadata": {},
     "output_type": "display_data"
    },
    {
     "name": "stdout",
     "output_type": "stream",
     "text": [
      "8\n"
     ]
    },
    {
     "data": {
      "text/html": [
       "<div style=\"font-family: Times New Roman; font-size: 18px; padding-bottom:10px; margin-left: 15px\"> --  <font color='green'>Find the last two digits of 9 ^ {{ 9 } ^{ 9 }}</font> . I have to find the last two decimal digits of the number 9 ^ {{ 9 } ^{ 9 }} .  That 's what I did :  m = 100 , \\ phi ( m )= 40 , a = 9 ( 100 , 9 )= 1 , \\ text { so from E uler 's theorem , we have : } 9 ^{ 40 } \\ equ iv 1 \\ pm od { 100 }  9 ^ {{ 9 } ^{ 9 }} \\ equ iv 9 ^{ 9 ^{ 2 + 2 + 2 + 2 + 1 }} \\ equ iv 9 ^{ 9 ^ 2 \\ cd ot 9 ^ 2 \\ cd ot 9 ^ 2 \\ cd ot 9 ^ 2 \\ cd ot 9 } \\ equ iv 9 ^{ 81 \\ cd ot 81 \\ cd ot 81 \\ cd ot 81 \\ cd ot 9 } \\ equ iv 9 ^{ ( 40 + 40 + 1 ) \\ cd ot ( 40 + 40 + 1 ) \\ cd ot ( 40 + 40 + 1 ) \\ cd ot ( 40 + 40 + 1 ) \\ cd ot 9 } \\ equ iv ( 9 ^{ ( 40 + 40 + 1 ) }) ^{ ( 40 + 40 + 1 ) \\ cd ot ( 40 + 40 + 1 ) \\ cd ot ( 40 + 40 + 1 ) \\ cd ot 9 } \\ equ iv 9 ^ 9 \\ equ iv 9 ^ 4 \\ cd ot 9 ^ 4 \\ cd ot 9 \\ equ iv 6 561 \\ cd ot 6 561 \\ cd ot 9 \\ equ iv 37 21 \\ cd ot 9 \\\\ \\ equ iv 21 \\ cd ot 9 \\ equ iv 89 \\ pm od { 100 }  So , the last two digits are 8 \\ text { and } 9 . $ But , is there also an other way two calculate the last two digits of 9 ^ {{ 9 } ^{ 9 }} $ or is the above the only one ? . < block quote >   Key remark : By the bin omial theorem , for every odd $ k $, ( 10 - 1 ) ^ k = n + 10 \\ cd ot k - 1 for some integer $ n $ which is a multiple of 100 . Since 10 \\ cd ot k = 10 \\ cd ot \\ ell ( k )\\ b mod { 100 } where \\ ell ( k ) denotes the last digit of k , this shows that , for every odd k , 9 ^ k = 10 \\ cd ot \\ ell ( k )- 1 \\ b mod { 100 }.   First application : \\ ell ( 9 )= 9 , hence the key remark above yields 9 ^ 9 = 10 \\ cd ot \\ ell ( 9 )- 1 = 89 \\ b mod { 100 }.  Second application : our first application implies that \\ ell ( 9 ^ 9 )= 9 hence , using the key remark once again but this time for k = 9 ^ 9 , one gets 9 ^ k = 10 \\ cd ot \\ ell ( k )- 1 = 89 \\ b mod { 100 }.  And so on : for every tower of n ines , 9 ^{ 9 ^{ 9 ^{ 9 ^ {\\ cd ots }} }} = 89 \\ b mod { 100 }. </div>"
      ],
      "text/plain": [
       "<IPython.core.display.HTML object>"
      ]
     },
     "metadata": {},
     "output_type": "display_data"
    },
    {
     "name": "stdout",
     "output_type": "stream",
     "text": [
      "9\n"
     ]
    },
    {
     "data": {
      "text/html": [
       "<div style=\"font-family: Times New Roman; font-size: 18px; padding-bottom:10px; margin-left: 15px\"> --  <font color='green'>Find the last two digits of a sum of eighth powers of 100 consecutive integers</font>  .<font color='green'>   Find the last two digits of a sum of eighth powers of 100 consecutive integers</font> .   Attempt :  Since ( 100 k + x ) ^ 8 \\ equ iv x ^ 8 \\ pm od { 100 }, we solely need to find S = 1 ^ 8 + 2 ^ 8 + \\ cd ots + 100 ^ 8 \\ pm od { 100 }. By the Chinese Remain der The orem , if we determine the sum mod ulo 4 and mod ulo 25 , we will know it mod ulo 100 . Taking it mod ulo 4 we have S \\ equ iv 1 + 0 + 1 + \\ cd ots + 1 + 0 \\ equ iv 50  \\ equ iv 2 \\ pm od 4 .   Now , since the number of units mod ulo 25 is \\ phi ( 25 ) and \\ g cd ( 8 , \\ phi ( 25 )) = 4 , does that mean we can replace the sum of the 8 - th powers mod 25 by the sum of the 4 - th powers mod 25 ?  . If N = 100 M + ab then N ^ 8 \\ equ iv ( ab ) ^ 8 \\ pm od { 100 } so the question concerns the integers of the form 10 a + b  where a and b are digits .   Because of ( 10 a + b ) ^ 8 \\ equ iv 80 ab ^ 7 + b ^ 8 \\ pm od { 100 }, we use this table mod ulo 100 for calculations \\ begin { array }{ | c | c | }\\ h line a & amp ; 1 & amp ; 2 & amp ; 3 & amp ; 4 & amp ; 5 & amp ; 6 & amp ; 7 & amp ; 8 & amp ; 9 & amp ; 0 \\\\ \\ h line a ^ 7 & amp ; 1 & amp ; 28 & amp ; 87 & amp ; 84 & amp ; 25 & amp ; 36 & amp ; 43 & amp ; 52 & amp ; 69 & amp ; 00 \\\\ \\ h line a ^ 8 & amp ; 1 & amp ; 56 & amp ; 61 & amp ; 36 & amp ; 25 & amp ; 16 & amp ; 01 & amp ; 16 & amp ; 21 & amp ; 00 \\\\ \\ h line \\ end { array } Take the sum of ten consecutive eight powers S _ x =( 10 a + x ) ^ 8 +( 10 a + x + 1 ) ^ 8 +( 10 a + x + 2 ) ^ 8 +( 10 a + x + 3 ) ^ 8 +( 10 a + x + 4 ) ^ 8 +( 10 a + x + 5 ) ^ 8 +( 10 a + x + 6 ) ^ 8 +( 10 a + x + 7 ) ^ 8 +( 10 a + x + 8 ) ^ 8 +( 10 a + x + 9 ) ^ 8 One has S _ x \\ equ iv { 80 a [ x ^ 7 +( x + 1 ) ^ 7 + ... +( x + 9 ) ^ 7 ]+ [ x ^ 8 +( x + 1 ) ^ 8 + âĢ¦ +( x + 9 ) ^ 8 ] }\\ pm od { 100 } Cal culation gives S _ 0 \\ equ iv { 80 a ( 25 )+ 33 }\\ equ iv 33 \\ pm od { 100 } \\\\ S _ 1 \\ equ iv { 80 a ( 25 )+ 33 }\\ equ iv 33 \\ pm od { 100 } \\\\ S _ 2 \\ equ iv { 80 a ( 95 )+ 13 }\\ equ iv 13 \\ pm od { 100 } \\\\ S _ 3 \\ equ iv { 80 a ( 75 )+ 53 }\\ equ iv 53 \\ pm od { 100 } \\\\ S _ 4 \\ equ iv { 80 a ( 5 )+ 13 }\\ equ iv 13 \\ pm od { 100 } \\\\ S _ 5 \\ equ iv { 80 a ( 25 )+ 33 }\\ equ iv 33 \\ pm od { 100 } \\\\ S _ 6 \\ equ iv { 80 a ( 75 )+ 33 }\\ equ iv 33 \\ pm od { 100 } \\\\ S _ 7 \\ equ iv { 80 a ( 95 )+ 13 }\\ equ iv 13 \\ pm od { 100 } \\\\ S _ 8 \\ equ iv { 80 a ( 25 )+ 53 }\\ equ iv 53 \\ pm od { 100 } \\\\ S _ 9 \\ equ iv { 80 a ( 5 )+ 13 }\\ equ iv 13 \\ pm od { 100 }   We see the sum of ten consecutive eight powers beginning by ( 10 a + x ) ^ 8 is independent of a mod ulo 100 . It follows \\ sum _{ k = 0 } ^{ 99 } ( 10 a + x + k ) ^ 8 = \\ sum _{ k = 0 } ^ 9 ( 10 a + x + k ) ^ 8 + \\ sum _{ k = 10 } ^{ 19 } ( 10 a + x + k ) ^ 8 + \\ sum _{ k = 20 } ^{ 29 } ( 10 a + x + k ) ^ 8 + ... + \\ sum _{ k = 90 } ^{ 99 } ( 10 a + x + k ) ^ 8 \\ equ iv \\ under brace { ( S _ x + S _ x + âĢ¦ + S _ x )} _{ 10 \\ text { times }} \\ equ iv 10 S _ x \\ pm od { 100 } According to the calculation above we have 10 S _ x \\ in \\ { 330 , 130 , 530 \\ } Thus  \\ sum _{ k = 0 } ^{ 99 } ( 10 a + x + k ) ^ 8 \\ equ iv \\ color { red }{ 30 }\\ pm od { 100 } </div>"
      ],
      "text/plain": [
       "<IPython.core.display.HTML object>"
      ]
     },
     "metadata": {},
     "output_type": "display_data"
    }
   ],
   "source": [
    "display(show_query(query))\n",
    "\n",
    "# display(show_document(ii, hits[ii]))\n",
    "\n",
    "for ri in numpy.sort(rel_index):\n",
    "# for ri in rel_index:\n",
    "    sim = sim_matrices[ri].data.numpy()\n",
    "    \n",
    "    # Select the two highest scoring words in the paragraph\n",
    "    rel_words = numpy.sort(numpy.argsort(sim.max(0))[-2:][::-1])\n",
    "#     print(rel_words)\n",
    "    p_tokens = paragraph_states[ri][1]\n",
    "#     print(p_tokens)\n",
    "    para = highlight_paragraph(p_tokens, rel_words)\n",
    "#     display(show_sections(list_docs[ri][\"body\"]))\n",
    "    print(ri)\n",
    "    display(show_sections(para))"
   ]
  },
  {
   "cell_type": "code",
   "execution_count": null,
   "metadata": {},
   "outputs": [],
   "source": []
  },
  {
   "cell_type": "code",
   "execution_count": null,
   "metadata": {},
   "outputs": [],
   "source": []
  },
  {
   "cell_type": "code",
   "execution_count": null,
   "metadata": {},
   "outputs": [],
   "source": []
  }
 ],
 "metadata": {
  "accelerator": "GPU",
  "colab": {
   "collapsed_sections": [],
   "name": "Pyserini+SciBERT_on_COVID_19_Demo.ipynb",
   "provenance": []
  },
  "kernelspec": {
   "display_name": "Python 3",
   "language": "python",
   "name": "python3"
  },
  "language_info": {
   "codemirror_mode": {
    "name": "ipython",
    "version": 3
   },
   "file_extension": ".py",
   "mimetype": "text/x-python",
   "name": "python",
   "nbconvert_exporter": "python",
   "pygments_lexer": "ipython3",
   "version": "3.7.7"
  }
 },
 "nbformat": 4,
 "nbformat_minor": 4
}
